{
 "cells": [
  {
   "attachments": {},
   "cell_type": "markdown",
   "metadata": {},
   "source": [
    "# Imports"
   ]
  },
  {
   "cell_type": "code",
   "execution_count": 2,
   "metadata": {},
   "outputs": [],
   "source": [
    "import pandas as pd\n",
    "from datetime import datetime, timedelta"
   ]
  },
  {
   "cell_type": "code",
   "execution_count": 3,
   "metadata": {},
   "outputs": [
    {
     "name": "stderr",
     "output_type": "stream",
     "text": [
      "C:\\Users\\ajimp\\AppData\\Roaming\\Python\\Python38\\site-packages\\geopandas\\_compat.py:123: UserWarning: The Shapely GEOS version (3.11.1-CAPI-1.17.1) is incompatible with the GEOS version PyGEOS was compiled with (3.10.4-CAPI-1.16.2). Conversions between both will be slow.\n",
      "  warnings.warn(\n",
      "<ipython-input-3-93708b63e478>:5: UserWarning: Shapely 2.0 is installed, but because PyGEOS is also installed, GeoPandas will still use PyGEOS by default for now. To force to use and test Shapely 2.0, you have to set the environment variable USE_PYGEOS=0. You can do this before starting the Python process, or in your code before importing geopandas:\n",
      "\n",
      "import os\n",
      "os.environ['USE_PYGEOS'] = '0'\n",
      "import geopandas\n",
      "\n",
      "In a future release, GeoPandas will switch to using Shapely by default. If you are using PyGEOS directly (calling PyGEOS functions on geometries from GeoPandas), this will then stop working and you are encouraged to migrate from PyGEOS to Shapely 2.0 (https://shapely.readthedocs.io/en/latest/migration_pygeos.html).\n",
      "  import geopandas as gpd\n"
     ]
    }
   ],
   "source": [
    "import time\n",
    "import os\n",
    "import base64\n",
    "import hashlib\n",
    "import geopandas as gpd\n",
    "import requests\n",
    "import re\n",
    "from dotenv import load_dotenv\n",
    "from shapely.geometry import Polygon, MultiPolygon, GeometryCollection, Point\n"
   ]
  },
  {
   "cell_type": "code",
   "execution_count": 4,
   "metadata": {},
   "outputs": [],
   "source": [
    "import secrets"
   ]
  },
  {
   "cell_type": "code",
   "execution_count": 5,
   "metadata": {},
   "outputs": [],
   "source": [
    "import numpy as np                           "
   ]
  },
  {
   "attachments": {},
   "cell_type": "markdown",
   "metadata": {},
   "source": [
    "# Data Cleaning"
   ]
  },
  {
   "cell_type": "code",
   "execution_count": 6,
   "metadata": {},
   "outputs": [],
   "source": [
    "df_crimes = pd.read_csv('Data/Crimes/actes-criminels.csv')"
   ]
  },
  {
   "cell_type": "code",
   "execution_count": 7,
   "metadata": {},
   "outputs": [
    {
     "data": {
      "text/plain": [
       "Index(['CATEGORIE', 'DATE', 'QUART', 'PDQ', 'X', 'Y', 'LONGITUDE', 'LATITUDE'], dtype='object')"
      ]
     },
     "execution_count": 7,
     "metadata": {},
     "output_type": "execute_result"
    }
   ],
   "source": [
    "df_crimes.columns"
   ]
  },
  {
   "cell_type": "code",
   "execution_count": 8,
   "metadata": {},
   "outputs": [
    {
     "data": {
      "text/html": [
       "<div>\n",
       "<style scoped>\n",
       "    .dataframe tbody tr th:only-of-type {\n",
       "        vertical-align: middle;\n",
       "    }\n",
       "\n",
       "    .dataframe tbody tr th {\n",
       "        vertical-align: top;\n",
       "    }\n",
       "\n",
       "    .dataframe thead th {\n",
       "        text-align: right;\n",
       "    }\n",
       "</style>\n",
       "<table border=\"1\" class=\"dataframe\">\n",
       "  <thead>\n",
       "    <tr style=\"text-align: right;\">\n",
       "      <th></th>\n",
       "      <th>CATEGORIE</th>\n",
       "      <th>DATE</th>\n",
       "      <th>QUART</th>\n",
       "      <th>PDQ</th>\n",
       "      <th>X</th>\n",
       "      <th>Y</th>\n",
       "      <th>LONGITUDE</th>\n",
       "      <th>LATITUDE</th>\n",
       "    </tr>\n",
       "  </thead>\n",
       "  <tbody>\n",
       "    <tr>\n",
       "      <th>0</th>\n",
       "      <td>Vol de véhicule à moteur</td>\n",
       "      <td>2018-09-13</td>\n",
       "      <td>jour</td>\n",
       "      <td>30.0</td>\n",
       "      <td>294904.159001</td>\n",
       "      <td>5.047549e+06</td>\n",
       "      <td>-73.626778</td>\n",
       "      <td>45.567780</td>\n",
       "    </tr>\n",
       "    <tr>\n",
       "      <th>1</th>\n",
       "      <td>Vol de véhicule à moteur</td>\n",
       "      <td>2018-04-30</td>\n",
       "      <td>jour</td>\n",
       "      <td>30.0</td>\n",
       "      <td>294904.159001</td>\n",
       "      <td>5.047549e+06</td>\n",
       "      <td>-73.626778</td>\n",
       "      <td>45.567780</td>\n",
       "    </tr>\n",
       "    <tr>\n",
       "      <th>2</th>\n",
       "      <td>Vol de véhicule à moteur</td>\n",
       "      <td>2018-09-01</td>\n",
       "      <td>nuit</td>\n",
       "      <td>7.0</td>\n",
       "      <td>290274.565000</td>\n",
       "      <td>5.042150e+06</td>\n",
       "      <td>-73.685928</td>\n",
       "      <td>45.519122</td>\n",
       "    </tr>\n",
       "    <tr>\n",
       "      <th>3</th>\n",
       "      <td>Méfait</td>\n",
       "      <td>2017-07-21</td>\n",
       "      <td>jour</td>\n",
       "      <td>21.0</td>\n",
       "      <td>NaN</td>\n",
       "      <td>NaN</td>\n",
       "      <td>NaN</td>\n",
       "      <td>NaN</td>\n",
       "    </tr>\n",
       "    <tr>\n",
       "      <th>4</th>\n",
       "      <td>Méfait</td>\n",
       "      <td>2017-07-29</td>\n",
       "      <td>jour</td>\n",
       "      <td>12.0</td>\n",
       "      <td>NaN</td>\n",
       "      <td>NaN</td>\n",
       "      <td>NaN</td>\n",
       "      <td>NaN</td>\n",
       "    </tr>\n",
       "  </tbody>\n",
       "</table>\n",
       "</div>"
      ],
      "text/plain": [
       "                  CATEGORIE        DATE QUART   PDQ              X  \\\n",
       "0  Vol de véhicule à moteur  2018-09-13  jour  30.0  294904.159001   \n",
       "1  Vol de véhicule à moteur  2018-04-30  jour  30.0  294904.159001   \n",
       "2  Vol de véhicule à moteur  2018-09-01  nuit   7.0  290274.565000   \n",
       "3                    Méfait  2017-07-21  jour  21.0            NaN   \n",
       "4                    Méfait  2017-07-29  jour  12.0            NaN   \n",
       "\n",
       "              Y  LONGITUDE   LATITUDE  \n",
       "0  5.047549e+06 -73.626778  45.567780  \n",
       "1  5.047549e+06 -73.626778  45.567780  \n",
       "2  5.042150e+06 -73.685928  45.519122  \n",
       "3           NaN        NaN        NaN  \n",
       "4           NaN        NaN        NaN  "
      ]
     },
     "execution_count": 8,
     "metadata": {},
     "output_type": "execute_result"
    }
   ],
   "source": [
    "df_crimes.head()"
   ]
  },
  {
   "cell_type": "code",
   "execution_count": 9,
   "metadata": {},
   "outputs": [
    {
     "data": {
      "text/plain": [
       "CATEGORIE     object\n",
       "DATE          object\n",
       "QUART         object\n",
       "PDQ          float64\n",
       "X            float64\n",
       "Y            float64\n",
       "LONGITUDE    float64\n",
       "LATITUDE     float64\n",
       "dtype: object"
      ]
     },
     "execution_count": 9,
     "metadata": {},
     "output_type": "execute_result"
    }
   ],
   "source": [
    "df_crimes.dtypes\n"
   ]
  },
  {
   "cell_type": "code",
   "execution_count": 10,
   "metadata": {},
   "outputs": [
    {
     "data": {
      "text/plain": [
       "(244412, 8)"
      ]
     },
     "execution_count": 10,
     "metadata": {},
     "output_type": "execute_result"
    }
   ],
   "source": [
    "df_crimes.shape"
   ]
  },
  {
   "attachments": {},
   "cell_type": "markdown",
   "metadata": {},
   "source": [
    "### Add and modify temporal columns"
   ]
  },
  {
   "cell_type": "code",
   "execution_count": 11,
   "metadata": {},
   "outputs": [],
   "source": [
    "df_crimes['DATE'] = pd.to_datetime(\n",
    "    df_crimes['DATE'])\n"
   ]
  },
  {
   "cell_type": "code",
   "execution_count": 12,
   "metadata": {},
   "outputs": [],
   "source": [
    "df_crimes['DAY'] = df_crimes['DATE'].dt.strftime('%Y-%m-%d')\n",
    "df_crimes['MONTH'] = df_crimes['DATE'].dt.strftime('%Y-%m')\n",
    "df_crimes['YEAR'] = df_crimes['DATE'].dt.strftime('%Y')"
   ]
  },
  {
   "attachments": {},
   "cell_type": "markdown",
   "metadata": {},
   "source": [
    "### Drop columns"
   ]
  },
  {
   "cell_type": "code",
   "execution_count": 13,
   "metadata": {},
   "outputs": [],
   "source": [
    "df_crimes = df_crimes.drop(\n",
    "    ['PDQ', 'X', 'Y'], axis=1)"
   ]
  },
  {
   "cell_type": "code",
   "execution_count": 14,
   "metadata": {},
   "outputs": [
    {
     "data": {
      "text/plain": [
       "CATEGORIE            object\n",
       "DATE         datetime64[ns]\n",
       "QUART                object\n",
       "LONGITUDE           float64\n",
       "LATITUDE            float64\n",
       "DAY                  object\n",
       "MONTH                object\n",
       "YEAR                 object\n",
       "dtype: object"
      ]
     },
     "execution_count": 14,
     "metadata": {},
     "output_type": "execute_result"
    }
   ],
   "source": [
    "df_crimes.dtypes\n"
   ]
  },
  {
   "cell_type": "code",
   "execution_count": 15,
   "metadata": {},
   "outputs": [
    {
     "data": {
      "text/html": [
       "<div>\n",
       "<style scoped>\n",
       "    .dataframe tbody tr th:only-of-type {\n",
       "        vertical-align: middle;\n",
       "    }\n",
       "\n",
       "    .dataframe tbody tr th {\n",
       "        vertical-align: top;\n",
       "    }\n",
       "\n",
       "    .dataframe thead th {\n",
       "        text-align: right;\n",
       "    }\n",
       "</style>\n",
       "<table border=\"1\" class=\"dataframe\">\n",
       "  <thead>\n",
       "    <tr style=\"text-align: right;\">\n",
       "      <th></th>\n",
       "      <th>CATEGORIE</th>\n",
       "      <th>DATE</th>\n",
       "      <th>QUART</th>\n",
       "      <th>LONGITUDE</th>\n",
       "      <th>LATITUDE</th>\n",
       "      <th>DAY</th>\n",
       "      <th>MONTH</th>\n",
       "      <th>YEAR</th>\n",
       "    </tr>\n",
       "  </thead>\n",
       "  <tbody>\n",
       "    <tr>\n",
       "      <th>count</th>\n",
       "      <td>244412</td>\n",
       "      <td>244412</td>\n",
       "      <td>244412</td>\n",
       "      <td>202967.000000</td>\n",
       "      <td>202967.000000</td>\n",
       "      <td>244412</td>\n",
       "      <td>244412</td>\n",
       "      <td>244412</td>\n",
       "    </tr>\n",
       "    <tr>\n",
       "      <th>unique</th>\n",
       "      <td>6</td>\n",
       "      <td>NaN</td>\n",
       "      <td>3</td>\n",
       "      <td>NaN</td>\n",
       "      <td>NaN</td>\n",
       "      <td>2955</td>\n",
       "      <td>98</td>\n",
       "      <td>9</td>\n",
       "    </tr>\n",
       "    <tr>\n",
       "      <th>top</th>\n",
       "      <td>Vol dans / sur véhicule à moteur</td>\n",
       "      <td>NaN</td>\n",
       "      <td>jour</td>\n",
       "      <td>NaN</td>\n",
       "      <td>NaN</td>\n",
       "      <td>2015-12-07</td>\n",
       "      <td>2015-10</td>\n",
       "      <td>2015</td>\n",
       "    </tr>\n",
       "    <tr>\n",
       "      <th>freq</th>\n",
       "      <td>72375</td>\n",
       "      <td>NaN</td>\n",
       "      <td>124548</td>\n",
       "      <td>NaN</td>\n",
       "      <td>NaN</td>\n",
       "      <td>153</td>\n",
       "      <td>3316</td>\n",
       "      <td>35609</td>\n",
       "    </tr>\n",
       "    <tr>\n",
       "      <th>mean</th>\n",
       "      <td>NaN</td>\n",
       "      <td>2018-11-21 14:35:14.763565312</td>\n",
       "      <td>NaN</td>\n",
       "      <td>-73.615263</td>\n",
       "      <td>45.528878</td>\n",
       "      <td>NaN</td>\n",
       "      <td>NaN</td>\n",
       "      <td>NaN</td>\n",
       "    </tr>\n",
       "    <tr>\n",
       "      <th>min</th>\n",
       "      <td>NaN</td>\n",
       "      <td>2015-01-01 00:00:00</td>\n",
       "      <td>NaN</td>\n",
       "      <td>-73.968954</td>\n",
       "      <td>45.402691</td>\n",
       "      <td>NaN</td>\n",
       "      <td>NaN</td>\n",
       "      <td>NaN</td>\n",
       "    </tr>\n",
       "    <tr>\n",
       "      <th>25%</th>\n",
       "      <td>NaN</td>\n",
       "      <td>2016-10-06 00:00:00</td>\n",
       "      <td>NaN</td>\n",
       "      <td>-73.639550</td>\n",
       "      <td>45.491678</td>\n",
       "      <td>NaN</td>\n",
       "      <td>NaN</td>\n",
       "      <td>NaN</td>\n",
       "    </tr>\n",
       "    <tr>\n",
       "      <th>50%</th>\n",
       "      <td>NaN</td>\n",
       "      <td>2018-09-17 00:00:00</td>\n",
       "      <td>NaN</td>\n",
       "      <td>-73.595557</td>\n",
       "      <td>45.525735</td>\n",
       "      <td>NaN</td>\n",
       "      <td>NaN</td>\n",
       "      <td>NaN</td>\n",
       "    </tr>\n",
       "    <tr>\n",
       "      <th>75%</th>\n",
       "      <td>NaN</td>\n",
       "      <td>2021-01-05 00:00:00</td>\n",
       "      <td>NaN</td>\n",
       "      <td>-73.565752</td>\n",
       "      <td>45.564528</td>\n",
       "      <td>NaN</td>\n",
       "      <td>NaN</td>\n",
       "      <td>NaN</td>\n",
       "    </tr>\n",
       "    <tr>\n",
       "      <th>max</th>\n",
       "      <td>NaN</td>\n",
       "      <td>2023-02-02 00:00:00</td>\n",
       "      <td>NaN</td>\n",
       "      <td>-73.479583</td>\n",
       "      <td>45.702351</td>\n",
       "      <td>NaN</td>\n",
       "      <td>NaN</td>\n",
       "      <td>NaN</td>\n",
       "    </tr>\n",
       "    <tr>\n",
       "      <th>std</th>\n",
       "      <td>NaN</td>\n",
       "      <td>NaN</td>\n",
       "      <td>NaN</td>\n",
       "      <td>0.077822</td>\n",
       "      <td>0.054669</td>\n",
       "      <td>NaN</td>\n",
       "      <td>NaN</td>\n",
       "      <td>NaN</td>\n",
       "    </tr>\n",
       "  </tbody>\n",
       "</table>\n",
       "</div>"
      ],
      "text/plain": [
       "                               CATEGORIE                           DATE  \\\n",
       "count                             244412                         244412   \n",
       "unique                                 6                            NaN   \n",
       "top     Vol dans / sur véhicule à moteur                            NaN   \n",
       "freq                               72375                            NaN   \n",
       "mean                                 NaN  2018-11-21 14:35:14.763565312   \n",
       "min                                  NaN            2015-01-01 00:00:00   \n",
       "25%                                  NaN            2016-10-06 00:00:00   \n",
       "50%                                  NaN            2018-09-17 00:00:00   \n",
       "75%                                  NaN            2021-01-05 00:00:00   \n",
       "max                                  NaN            2023-02-02 00:00:00   \n",
       "std                                  NaN                            NaN   \n",
       "\n",
       "         QUART      LONGITUDE       LATITUDE         DAY    MONTH    YEAR  \n",
       "count   244412  202967.000000  202967.000000      244412   244412  244412  \n",
       "unique       3            NaN            NaN        2955       98       9  \n",
       "top       jour            NaN            NaN  2015-12-07  2015-10    2015  \n",
       "freq    124548            NaN            NaN         153     3316   35609  \n",
       "mean       NaN     -73.615263      45.528878         NaN      NaN     NaN  \n",
       "min        NaN     -73.968954      45.402691         NaN      NaN     NaN  \n",
       "25%        NaN     -73.639550      45.491678         NaN      NaN     NaN  \n",
       "50%        NaN     -73.595557      45.525735         NaN      NaN     NaN  \n",
       "75%        NaN     -73.565752      45.564528         NaN      NaN     NaN  \n",
       "max        NaN     -73.479583      45.702351         NaN      NaN     NaN  \n",
       "std        NaN       0.077822       0.054669         NaN      NaN     NaN  "
      ]
     },
     "execution_count": 15,
     "metadata": {},
     "output_type": "execute_result"
    }
   ],
   "source": [
    "df_crimes.describe(include='all', datetime_is_numeric=True)"
   ]
  },
  {
   "attachments": {},
   "cell_type": "markdown",
   "metadata": {},
   "source": [
    "### Add grid IDs for each incident"
   ]
  },
  {
   "cell_type": "code",
   "execution_count": 16,
   "metadata": {},
   "outputs": [],
   "source": [
    "def add_grid_id_column(df, grid_id_col_name, lat_col_name, lon_col_name, grid_file_path):\n",
    "    # Load the grid file into a GeoDataFrame\n",
    "    grid_gdf = gpd.read_file(grid_file_path)\n",
    "\n",
    "    # Assign an appropriate CRS for lat/lon coordinates to the GeoDataFrame\n",
    "    grid_gdf = grid_gdf.to_crs(\"EPSG:4326\")\n",
    "\n",
    "    # Create a spatial index for the grid GeoDataFrame\n",
    "    grid_index = grid_gdf.sindex\n",
    "\n",
    "    # Define a lambda function to get the grid ID for a single row\n",
    "    def get_grid_id(row): return _get_grid_id(\n",
    "        row, grid_index, lat_col_name, lon_col_name, grid_gdf)\n",
    "\n",
    "    # Apply the get_grid_id function to each row of the DataFrame to get the grid ID\n",
    "    grid_ids = df.apply(get_grid_id, axis=1)\n",
    "\n",
    "    # Add the new column to the DataFrame and return the result\n",
    "    df_with_grid_id = df.copy()\n",
    "    df_with_grid_id[grid_id_col_name] = grid_ids\n",
    "    return df_with_grid_id\n",
    "\n",
    "def _get_grid_id(row, grid_index, lat_col_name, lon_col_name, grid_gdf):\n",
    "    lat = row[lat_col_name]\n",
    "    lon = row[lon_col_name]\n",
    "    point = Point(lon, lat)\n",
    "    possible_matches_index = list(grid_index.intersection(point.bounds))\n",
    "    possible_matches = grid_gdf.iloc[possible_matches_index]\n",
    "    intersecting_gdf = possible_matches[possible_matches.intersects(point)]\n",
    "    if intersecting_gdf.empty:\n",
    "        return None\n",
    "    return intersecting_gdf.iloc[0]['grid_id']\n"
   ]
  },
  {
   "cell_type": "code",
   "execution_count": 17,
   "metadata": {},
   "outputs": [],
   "source": [
    "def extract_number_from_filename(file_name):\n",
    "    number = re.search(r'\\d+', file_name).group(0)\n",
    "    return str(number)"
   ]
  },
  {
   "cell_type": "code",
   "execution_count": 18,
   "metadata": {},
   "outputs": [],
   "source": [
    "def get_grid_id_col_name(file_path):\n",
    "    file_name = os.path.basename(file_path)\n",
    "    grid_id_col_name = extract_number_from_filename(file_name) + '_GRID_ID'\n",
    "    return grid_id_col_name"
   ]
  },
  {
   "cell_type": "code",
   "execution_count": 19,
   "metadata": {},
   "outputs": [],
   "source": [
    "shapefile_path = 'Data\\Generated_grids\\square_grids1000.shp'\n",
    "grid_id_col_name = get_grid_id_col_name(shapefile_path)"
   ]
  },
  {
   "cell_type": "code",
   "execution_count": 20,
   "metadata": {},
   "outputs": [],
   "source": [
    "df_crimes = add_grid_id_column(\n",
    "    df_crimes, grid_id_col_name, 'LATITUDE', 'LONGITUDE', shapefile_path)"
   ]
  },
  {
   "cell_type": "code",
   "execution_count": 21,
   "metadata": {},
   "outputs": [
    {
     "data": {
      "text/html": [
       "<div>\n",
       "<style scoped>\n",
       "    .dataframe tbody tr th:only-of-type {\n",
       "        vertical-align: middle;\n",
       "    }\n",
       "\n",
       "    .dataframe tbody tr th {\n",
       "        vertical-align: top;\n",
       "    }\n",
       "\n",
       "    .dataframe thead th {\n",
       "        text-align: right;\n",
       "    }\n",
       "</style>\n",
       "<table border=\"1\" class=\"dataframe\">\n",
       "  <thead>\n",
       "    <tr style=\"text-align: right;\">\n",
       "      <th></th>\n",
       "      <th>CATEGORIE</th>\n",
       "      <th>DATE</th>\n",
       "      <th>QUART</th>\n",
       "      <th>LONGITUDE</th>\n",
       "      <th>LATITUDE</th>\n",
       "      <th>DAY</th>\n",
       "      <th>MONTH</th>\n",
       "      <th>YEAR</th>\n",
       "      <th>1000_GRID_ID</th>\n",
       "    </tr>\n",
       "  </thead>\n",
       "  <tbody>\n",
       "    <tr>\n",
       "      <th>count</th>\n",
       "      <td>244412</td>\n",
       "      <td>244412</td>\n",
       "      <td>244412</td>\n",
       "      <td>202967.000000</td>\n",
       "      <td>202967.000000</td>\n",
       "      <td>244412</td>\n",
       "      <td>244412</td>\n",
       "      <td>244412</td>\n",
       "      <td>202965</td>\n",
       "    </tr>\n",
       "    <tr>\n",
       "      <th>unique</th>\n",
       "      <td>6</td>\n",
       "      <td>NaN</td>\n",
       "      <td>3</td>\n",
       "      <td>NaN</td>\n",
       "      <td>NaN</td>\n",
       "      <td>2955</td>\n",
       "      <td>98</td>\n",
       "      <td>9</td>\n",
       "      <td>540</td>\n",
       "    </tr>\n",
       "    <tr>\n",
       "      <th>top</th>\n",
       "      <td>Vol dans / sur véhicule à moteur</td>\n",
       "      <td>NaN</td>\n",
       "      <td>jour</td>\n",
       "      <td>NaN</td>\n",
       "      <td>NaN</td>\n",
       "      <td>2015-12-07</td>\n",
       "      <td>2015-10</td>\n",
       "      <td>2015</td>\n",
       "      <td>BSwXKT8NtyU=</td>\n",
       "    </tr>\n",
       "    <tr>\n",
       "      <th>freq</th>\n",
       "      <td>72375</td>\n",
       "      <td>NaN</td>\n",
       "      <td>124548</td>\n",
       "      <td>NaN</td>\n",
       "      <td>NaN</td>\n",
       "      <td>153</td>\n",
       "      <td>3316</td>\n",
       "      <td>35609</td>\n",
       "      <td>4427</td>\n",
       "    </tr>\n",
       "    <tr>\n",
       "      <th>mean</th>\n",
       "      <td>NaN</td>\n",
       "      <td>2018-11-21 14:35:14.763565312</td>\n",
       "      <td>NaN</td>\n",
       "      <td>-73.615263</td>\n",
       "      <td>45.528878</td>\n",
       "      <td>NaN</td>\n",
       "      <td>NaN</td>\n",
       "      <td>NaN</td>\n",
       "      <td>NaN</td>\n",
       "    </tr>\n",
       "    <tr>\n",
       "      <th>min</th>\n",
       "      <td>NaN</td>\n",
       "      <td>2015-01-01 00:00:00</td>\n",
       "      <td>NaN</td>\n",
       "      <td>-73.968954</td>\n",
       "      <td>45.402691</td>\n",
       "      <td>NaN</td>\n",
       "      <td>NaN</td>\n",
       "      <td>NaN</td>\n",
       "      <td>NaN</td>\n",
       "    </tr>\n",
       "    <tr>\n",
       "      <th>25%</th>\n",
       "      <td>NaN</td>\n",
       "      <td>2016-10-06 00:00:00</td>\n",
       "      <td>NaN</td>\n",
       "      <td>-73.639550</td>\n",
       "      <td>45.491678</td>\n",
       "      <td>NaN</td>\n",
       "      <td>NaN</td>\n",
       "      <td>NaN</td>\n",
       "      <td>NaN</td>\n",
       "    </tr>\n",
       "    <tr>\n",
       "      <th>50%</th>\n",
       "      <td>NaN</td>\n",
       "      <td>2018-09-17 00:00:00</td>\n",
       "      <td>NaN</td>\n",
       "      <td>-73.595557</td>\n",
       "      <td>45.525735</td>\n",
       "      <td>NaN</td>\n",
       "      <td>NaN</td>\n",
       "      <td>NaN</td>\n",
       "      <td>NaN</td>\n",
       "    </tr>\n",
       "    <tr>\n",
       "      <th>75%</th>\n",
       "      <td>NaN</td>\n",
       "      <td>2021-01-05 00:00:00</td>\n",
       "      <td>NaN</td>\n",
       "      <td>-73.565752</td>\n",
       "      <td>45.564528</td>\n",
       "      <td>NaN</td>\n",
       "      <td>NaN</td>\n",
       "      <td>NaN</td>\n",
       "      <td>NaN</td>\n",
       "    </tr>\n",
       "    <tr>\n",
       "      <th>max</th>\n",
       "      <td>NaN</td>\n",
       "      <td>2023-02-02 00:00:00</td>\n",
       "      <td>NaN</td>\n",
       "      <td>-73.479583</td>\n",
       "      <td>45.702351</td>\n",
       "      <td>NaN</td>\n",
       "      <td>NaN</td>\n",
       "      <td>NaN</td>\n",
       "      <td>NaN</td>\n",
       "    </tr>\n",
       "    <tr>\n",
       "      <th>std</th>\n",
       "      <td>NaN</td>\n",
       "      <td>NaN</td>\n",
       "      <td>NaN</td>\n",
       "      <td>0.077822</td>\n",
       "      <td>0.054669</td>\n",
       "      <td>NaN</td>\n",
       "      <td>NaN</td>\n",
       "      <td>NaN</td>\n",
       "      <td>NaN</td>\n",
       "    </tr>\n",
       "  </tbody>\n",
       "</table>\n",
       "</div>"
      ],
      "text/plain": [
       "                               CATEGORIE                           DATE  \\\n",
       "count                             244412                         244412   \n",
       "unique                                 6                            NaN   \n",
       "top     Vol dans / sur véhicule à moteur                            NaN   \n",
       "freq                               72375                            NaN   \n",
       "mean                                 NaN  2018-11-21 14:35:14.763565312   \n",
       "min                                  NaN            2015-01-01 00:00:00   \n",
       "25%                                  NaN            2016-10-06 00:00:00   \n",
       "50%                                  NaN            2018-09-17 00:00:00   \n",
       "75%                                  NaN            2021-01-05 00:00:00   \n",
       "max                                  NaN            2023-02-02 00:00:00   \n",
       "std                                  NaN                            NaN   \n",
       "\n",
       "         QUART      LONGITUDE       LATITUDE         DAY    MONTH    YEAR  \\\n",
       "count   244412  202967.000000  202967.000000      244412   244412  244412   \n",
       "unique       3            NaN            NaN        2955       98       9   \n",
       "top       jour            NaN            NaN  2015-12-07  2015-10    2015   \n",
       "freq    124548            NaN            NaN         153     3316   35609   \n",
       "mean       NaN     -73.615263      45.528878         NaN      NaN     NaN   \n",
       "min        NaN     -73.968954      45.402691         NaN      NaN     NaN   \n",
       "25%        NaN     -73.639550      45.491678         NaN      NaN     NaN   \n",
       "50%        NaN     -73.595557      45.525735         NaN      NaN     NaN   \n",
       "75%        NaN     -73.565752      45.564528         NaN      NaN     NaN   \n",
       "max        NaN     -73.479583      45.702351         NaN      NaN     NaN   \n",
       "std        NaN       0.077822       0.054669         NaN      NaN     NaN   \n",
       "\n",
       "        1000_GRID_ID  \n",
       "count         202965  \n",
       "unique           540  \n",
       "top     BSwXKT8NtyU=  \n",
       "freq            4427  \n",
       "mean             NaN  \n",
       "min              NaN  \n",
       "25%              NaN  \n",
       "50%              NaN  \n",
       "75%              NaN  \n",
       "max              NaN  \n",
       "std              NaN  "
      ]
     },
     "execution_count": 21,
     "metadata": {},
     "output_type": "execute_result"
    }
   ],
   "source": [
    "df_crimes.describe(include='all', datetime_is_numeric=True)"
   ]
  },
  {
   "attachments": {},
   "cell_type": "markdown",
   "metadata": {},
   "source": [
    "### Handling missing values"
   ]
  },
  {
   "cell_type": "code",
   "execution_count": 22,
   "metadata": {},
   "outputs": [],
   "source": [
    "df_crimes = df_crimes.dropna()"
   ]
  },
  {
   "cell_type": "code",
   "execution_count": 23,
   "metadata": {},
   "outputs": [
    {
     "data": {
      "text/plain": [
       "(202965, 9)"
      ]
     },
     "execution_count": 23,
     "metadata": {},
     "output_type": "execute_result"
    }
   ],
   "source": [
    "df_crimes.shape"
   ]
  },
  {
   "cell_type": "code",
   "execution_count": 24,
   "metadata": {},
   "outputs": [],
   "source": [
    "df_crimes = df_crimes.sort_values(['MONTH'])"
   ]
  },
  {
   "cell_type": "code",
   "execution_count": 25,
   "metadata": {},
   "outputs": [
    {
     "data": {
      "text/html": [
       "<div>\n",
       "<style scoped>\n",
       "    .dataframe tbody tr th:only-of-type {\n",
       "        vertical-align: middle;\n",
       "    }\n",
       "\n",
       "    .dataframe tbody tr th {\n",
       "        vertical-align: top;\n",
       "    }\n",
       "\n",
       "    .dataframe thead th {\n",
       "        text-align: right;\n",
       "    }\n",
       "</style>\n",
       "<table border=\"1\" class=\"dataframe\">\n",
       "  <thead>\n",
       "    <tr style=\"text-align: right;\">\n",
       "      <th></th>\n",
       "      <th>CATEGORIE</th>\n",
       "      <th>DATE</th>\n",
       "      <th>QUART</th>\n",
       "      <th>LONGITUDE</th>\n",
       "      <th>LATITUDE</th>\n",
       "      <th>DAY</th>\n",
       "      <th>MONTH</th>\n",
       "      <th>YEAR</th>\n",
       "      <th>1000_GRID_ID</th>\n",
       "    </tr>\n",
       "  </thead>\n",
       "  <tbody>\n",
       "    <tr>\n",
       "      <th>13718</th>\n",
       "      <td>Introduction</td>\n",
       "      <td>2015-01-31</td>\n",
       "      <td>jour</td>\n",
       "      <td>-73.545930</td>\n",
       "      <td>45.592243</td>\n",
       "      <td>2015-01-31</td>\n",
       "      <td>2015-01</td>\n",
       "      <td>2015</td>\n",
       "      <td>16jKQF9hsj8=</td>\n",
       "    </tr>\n",
       "    <tr>\n",
       "      <th>17107</th>\n",
       "      <td>Méfait</td>\n",
       "      <td>2015-01-10</td>\n",
       "      <td>jour</td>\n",
       "      <td>-73.557136</td>\n",
       "      <td>45.513991</td>\n",
       "      <td>2015-01-10</td>\n",
       "      <td>2015-01</td>\n",
       "      <td>2015</td>\n",
       "      <td>f0Nq3PF9MoE=</td>\n",
       "    </tr>\n",
       "    <tr>\n",
       "      <th>27190</th>\n",
       "      <td>Méfait</td>\n",
       "      <td>2015-01-21</td>\n",
       "      <td>soir</td>\n",
       "      <td>-73.634641</td>\n",
       "      <td>45.482540</td>\n",
       "      <td>2015-01-21</td>\n",
       "      <td>2015-01</td>\n",
       "      <td>2015</td>\n",
       "      <td>drxXwx5Ulrk=</td>\n",
       "    </tr>\n",
       "    <tr>\n",
       "      <th>1975</th>\n",
       "      <td>Vol de véhicule à moteur</td>\n",
       "      <td>2015-01-14</td>\n",
       "      <td>jour</td>\n",
       "      <td>-73.582266</td>\n",
       "      <td>45.620038</td>\n",
       "      <td>2015-01-14</td>\n",
       "      <td>2015-01</td>\n",
       "      <td>2015</td>\n",
       "      <td>BDLTCeQ2O6w=</td>\n",
       "    </tr>\n",
       "    <tr>\n",
       "      <th>74962</th>\n",
       "      <td>Vol dans / sur véhicule à moteur</td>\n",
       "      <td>2015-01-16</td>\n",
       "      <td>soir</td>\n",
       "      <td>-73.560261</td>\n",
       "      <td>45.507695</td>\n",
       "      <td>2015-01-16</td>\n",
       "      <td>2015-01</td>\n",
       "      <td>2015</td>\n",
       "      <td>hoz0d7bgrqw=</td>\n",
       "    </tr>\n",
       "  </tbody>\n",
       "</table>\n",
       "</div>"
      ],
      "text/plain": [
       "                              CATEGORIE       DATE QUART  LONGITUDE  \\\n",
       "13718                      Introduction 2015-01-31  jour -73.545930   \n",
       "17107                            Méfait 2015-01-10  jour -73.557136   \n",
       "27190                            Méfait 2015-01-21  soir -73.634641   \n",
       "1975           Vol de véhicule à moteur 2015-01-14  jour -73.582266   \n",
       "74962  Vol dans / sur véhicule à moteur 2015-01-16  soir -73.560261   \n",
       "\n",
       "        LATITUDE         DAY    MONTH  YEAR  1000_GRID_ID  \n",
       "13718  45.592243  2015-01-31  2015-01  2015  16jKQF9hsj8=  \n",
       "17107  45.513991  2015-01-10  2015-01  2015  f0Nq3PF9MoE=  \n",
       "27190  45.482540  2015-01-21  2015-01  2015  drxXwx5Ulrk=  \n",
       "1975   45.620038  2015-01-14  2015-01  2015  BDLTCeQ2O6w=  \n",
       "74962  45.507695  2015-01-16  2015-01  2015  hoz0d7bgrqw=  "
      ]
     },
     "execution_count": 25,
     "metadata": {},
     "output_type": "execute_result"
    }
   ],
   "source": [
    "df_crimes.head()"
   ]
  },
  {
   "attachments": {},
   "cell_type": "markdown",
   "metadata": {},
   "source": [
    "### Remove all rows associated to '2023-02'"
   ]
  },
  {
   "cell_type": "code",
   "execution_count": 26,
   "metadata": {},
   "outputs": [],
   "source": [
    "df_crimes = df_crimes[df_crimes['MONTH'] != '2023-02']"
   ]
  },
  {
   "attachments": {},
   "cell_type": "markdown",
   "metadata": {},
   "source": [
    "### Add identifer for each row"
   ]
  },
  {
   "cell_type": "code",
   "execution_count": 27,
   "metadata": {},
   "outputs": [],
   "source": [
    "# Add unique identifier to rows\n",
    "df_crimes['CRIMES_ID'] = [secrets.token_hex(4) for _ in range(len(df_crimes))]"
   ]
  },
  {
   "cell_type": "code",
   "execution_count": 28,
   "metadata": {},
   "outputs": [
    {
     "data": {
      "text/plain": [
       "Index(['CATEGORIE', 'DATE', 'QUART', 'LONGITUDE', 'LATITUDE', 'DAY', 'MONTH',\n",
       "       'YEAR', '1000_GRID_ID', 'CRIMES_ID'],\n",
       "      dtype='object')"
      ]
     },
     "execution_count": 28,
     "metadata": {},
     "output_type": "execute_result"
    }
   ],
   "source": [
    "df_crimes.columns"
   ]
  },
  {
   "attachments": {},
   "cell_type": "markdown",
   "metadata": {},
   "source": [
    "# Output files"
   ]
  },
  {
   "cell_type": "code",
   "execution_count": 29,
   "metadata": {},
   "outputs": [],
   "source": [
    "df_crimes.to_csv(\n",
    "    'Data/Processed_Datasets/Cleaned_datasets/df_crimes.csv')"
   ]
  }
 ],
 "metadata": {
  "kernelspec": {
   "display_name": "Python 3",
   "language": "python",
   "name": "python3"
  },
  "language_info": {
   "codemirror_mode": {
    "name": "ipython",
    "version": 3
   },
   "file_extension": ".py",
   "mimetype": "text/x-python",
   "name": "python",
   "nbconvert_exporter": "python",
   "pygments_lexer": "ipython3",
   "version": "3.8.5"
  },
  "orig_nbformat": 4,
  "vscode": {
   "interpreter": {
    "hash": "ad2bdc8ecc057115af97d19610ffacc2b4e99fae6737bb82f5d7fb13d2f2c186"
   }
  }
 },
 "nbformat": 4,
 "nbformat_minor": 2
}
