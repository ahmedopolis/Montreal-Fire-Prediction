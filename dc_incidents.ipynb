{
 "cells": [
  {
   "attachments": {},
   "cell_type": "markdown",
   "metadata": {},
   "source": [
    "# Imports"
   ]
  },
  {
   "cell_type": "code",
   "execution_count": 29,
   "metadata": {},
   "outputs": [],
   "source": [
    "import pandas as pd\n",
    "import numpy as np"
   ]
  },
  {
   "cell_type": "code",
   "execution_count": 30,
   "metadata": {},
   "outputs": [],
   "source": [
    "import time\n",
    "import os\n",
    "import base64\n",
    "import hashlib\n",
    "import geopandas as gpd\n",
    "import requests\n",
    "import re\n",
    "from dotenv import load_dotenv\n",
    "from shapely.geometry import Polygon, MultiPolygon, GeometryCollection, Point"
   ]
  },
  {
   "attachments": {},
   "cell_type": "markdown",
   "metadata": {},
   "source": [
    "# Data Cleaning"
   ]
  },
  {
   "attachments": {},
   "cell_type": "markdown",
   "metadata": {},
   "source": [
    "### Mini data exploration"
   ]
  },
  {
   "cell_type": "code",
   "execution_count": 31,
   "metadata": {},
   "outputs": [],
   "source": [
    "df_incidents = pd.read_csv('Data/Incidents/donneesouvertes-interventions-sim.csv')"
   ]
  },
  {
   "cell_type": "code",
   "execution_count": 32,
   "metadata": {},
   "outputs": [
    {
     "data": {
      "text/plain": [
       "Index(['INCIDENT_NBR', 'CREATION_DATE_TIME', 'INCIDENT_TYPE_DESC',\n",
       "       'DESCRIPTION_GROUPE', 'CASERNE', 'NOM_VILLE', 'NOM_ARROND', 'DIVISION',\n",
       "       'NOMBRE_UNITES', 'MTM8_X', 'MTM8_Y', 'LONGITUDE', 'LATITUDE'],\n",
       "      dtype='object')"
      ]
     },
     "execution_count": 32,
     "metadata": {},
     "output_type": "execute_result"
    }
   ],
   "source": [
    "df_incidents.columns"
   ]
  },
  {
   "cell_type": "code",
   "execution_count": 33,
   "metadata": {},
   "outputs": [
    {
     "data": {
      "text/html": [
       "<div>\n",
       "<style scoped>\n",
       "    .dataframe tbody tr th:only-of-type {\n",
       "        vertical-align: middle;\n",
       "    }\n",
       "\n",
       "    .dataframe tbody tr th {\n",
       "        vertical-align: top;\n",
       "    }\n",
       "\n",
       "    .dataframe thead th {\n",
       "        text-align: right;\n",
       "    }\n",
       "</style>\n",
       "<table border=\"1\" class=\"dataframe\">\n",
       "  <thead>\n",
       "    <tr style=\"text-align: right;\">\n",
       "      <th></th>\n",
       "      <th>INCIDENT_NBR</th>\n",
       "      <th>CREATION_DATE_TIME</th>\n",
       "      <th>INCIDENT_TYPE_DESC</th>\n",
       "      <th>DESCRIPTION_GROUPE</th>\n",
       "      <th>CASERNE</th>\n",
       "      <th>NOM_VILLE</th>\n",
       "      <th>NOM_ARROND</th>\n",
       "      <th>DIVISION</th>\n",
       "      <th>NOMBRE_UNITES</th>\n",
       "      <th>MTM8_X</th>\n",
       "      <th>MTM8_Y</th>\n",
       "      <th>LONGITUDE</th>\n",
       "      <th>LATITUDE</th>\n",
       "    </tr>\n",
       "  </thead>\n",
       "  <tbody>\n",
       "    <tr>\n",
       "      <th>0</th>\n",
       "      <td>38821</td>\n",
       "      <td>2015-04-21T14:55:09</td>\n",
       "      <td>Premier répondant</td>\n",
       "      <td>1-REPOND</td>\n",
       "      <td>28</td>\n",
       "      <td>Montréal</td>\n",
       "      <td>Anjou</td>\n",
       "      <td>9</td>\n",
       "      <td>1.0</td>\n",
       "      <td>301114.1</td>\n",
       "      <td>5051641.4</td>\n",
       "      <td>-73.547252</td>\n",
       "      <td>45.604665</td>\n",
       "    </tr>\n",
       "    <tr>\n",
       "      <th>1</th>\n",
       "      <td>39630</td>\n",
       "      <td>2015-04-24T05:02:05</td>\n",
       "      <td>Appel de Cie de détection</td>\n",
       "      <td>Alarmes-incendies</td>\n",
       "      <td>39</td>\n",
       "      <td>Montréal</td>\n",
       "      <td>Mercier-Hochelaga-Maisonneuve</td>\n",
       "      <td>7</td>\n",
       "      <td>4.0</td>\n",
       "      <td>301944.8</td>\n",
       "      <td>5049911.1</td>\n",
       "      <td>-73.536592</td>\n",
       "      <td>45.589100</td>\n",
       "    </tr>\n",
       "    <tr>\n",
       "      <th>2</th>\n",
       "      <td>39643</td>\n",
       "      <td>2015-04-24T07:03:39</td>\n",
       "      <td>Premier répondant</td>\n",
       "      <td>1-REPOND</td>\n",
       "      <td>21</td>\n",
       "      <td>Montréal</td>\n",
       "      <td>Saint-Léonard</td>\n",
       "      <td>8</td>\n",
       "      <td>1.0</td>\n",
       "      <td>296334.0</td>\n",
       "      <td>5048630.5</td>\n",
       "      <td>-73.608478</td>\n",
       "      <td>45.577531</td>\n",
       "    </tr>\n",
       "    <tr>\n",
       "      <th>3</th>\n",
       "      <td>39652</td>\n",
       "      <td>2015-04-24T07:45:01</td>\n",
       "      <td>Premier répondant</td>\n",
       "      <td>1-REPOND</td>\n",
       "      <td>33</td>\n",
       "      <td>Montréal</td>\n",
       "      <td>Le Sud-Ouest</td>\n",
       "      <td>5</td>\n",
       "      <td>1.0</td>\n",
       "      <td>297828.3</td>\n",
       "      <td>5035708.9</td>\n",
       "      <td>-73.589148</td>\n",
       "      <td>45.461274</td>\n",
       "    </tr>\n",
       "    <tr>\n",
       "      <th>4</th>\n",
       "      <td>39663</td>\n",
       "      <td>2015-04-24T08:10:13</td>\n",
       "      <td>Odeur suspecte - gaz</td>\n",
       "      <td>SANS FEU</td>\n",
       "      <td>14</td>\n",
       "      <td>Montréal</td>\n",
       "      <td>Rivière-des-Prairies-Pointe-aux-Trembles</td>\n",
       "      <td>9</td>\n",
       "      <td>2.0</td>\n",
       "      <td>298623.1</td>\n",
       "      <td>5054687.8</td>\n",
       "      <td>-73.579224</td>\n",
       "      <td>45.632060</td>\n",
       "    </tr>\n",
       "  </tbody>\n",
       "</table>\n",
       "</div>"
      ],
      "text/plain": [
       "   INCIDENT_NBR   CREATION_DATE_TIME         INCIDENT_TYPE_DESC  \\\n",
       "0         38821  2015-04-21T14:55:09          Premier répondant   \n",
       "1         39630  2015-04-24T05:02:05  Appel de Cie de détection   \n",
       "2         39643  2015-04-24T07:03:39          Premier répondant   \n",
       "3         39652  2015-04-24T07:45:01          Premier répondant   \n",
       "4         39663  2015-04-24T08:10:13       Odeur suspecte - gaz   \n",
       "\n",
       "  DESCRIPTION_GROUPE  CASERNE NOM_VILLE  \\\n",
       "0           1-REPOND       28  Montréal   \n",
       "1  Alarmes-incendies       39  Montréal   \n",
       "2           1-REPOND       21  Montréal   \n",
       "3           1-REPOND       33  Montréal   \n",
       "4           SANS FEU       14  Montréal   \n",
       "\n",
       "                                 NOM_ARROND  DIVISION  NOMBRE_UNITES  \\\n",
       "0                                     Anjou         9            1.0   \n",
       "1             Mercier-Hochelaga-Maisonneuve         7            4.0   \n",
       "2                             Saint-Léonard         8            1.0   \n",
       "3                              Le Sud-Ouest         5            1.0   \n",
       "4  Rivière-des-Prairies-Pointe-aux-Trembles         9            2.0   \n",
       "\n",
       "     MTM8_X     MTM8_Y  LONGITUDE   LATITUDE  \n",
       "0  301114.1  5051641.4 -73.547252  45.604665  \n",
       "1  301944.8  5049911.1 -73.536592  45.589100  \n",
       "2  296334.0  5048630.5 -73.608478  45.577531  \n",
       "3  297828.3  5035708.9 -73.589148  45.461274  \n",
       "4  298623.1  5054687.8 -73.579224  45.632060  "
      ]
     },
     "execution_count": 33,
     "metadata": {},
     "output_type": "execute_result"
    }
   ],
   "source": [
    "df_incidents.head()"
   ]
  },
  {
   "cell_type": "code",
   "execution_count": 34,
   "metadata": {},
   "outputs": [
    {
     "data": {
      "text/html": [
       "<div>\n",
       "<style scoped>\n",
       "    .dataframe tbody tr th:only-of-type {\n",
       "        vertical-align: middle;\n",
       "    }\n",
       "\n",
       "    .dataframe tbody tr th {\n",
       "        vertical-align: top;\n",
       "    }\n",
       "\n",
       "    .dataframe thead th {\n",
       "        text-align: right;\n",
       "    }\n",
       "</style>\n",
       "<table border=\"1\" class=\"dataframe\">\n",
       "  <thead>\n",
       "    <tr style=\"text-align: right;\">\n",
       "      <th></th>\n",
       "      <th>INCIDENT_TYPE_DESC</th>\n",
       "    </tr>\n",
       "  </thead>\n",
       "  <tbody>\n",
       "    <tr>\n",
       "      <th>0</th>\n",
       "      <td>Premier répondant</td>\n",
       "    </tr>\n",
       "    <tr>\n",
       "      <th>1</th>\n",
       "      <td>Appel de Cie de détection</td>\n",
       "    </tr>\n",
       "    <tr>\n",
       "      <th>2</th>\n",
       "      <td>Premier répondant</td>\n",
       "    </tr>\n",
       "    <tr>\n",
       "      <th>3</th>\n",
       "      <td>Premier répondant</td>\n",
       "    </tr>\n",
       "    <tr>\n",
       "      <th>4</th>\n",
       "      <td>Odeur suspecte - gaz</td>\n",
       "    </tr>\n",
       "    <tr>\n",
       "      <th>...</th>\n",
       "      <td>...</td>\n",
       "    </tr>\n",
       "    <tr>\n",
       "      <th>904135</th>\n",
       "      <td>Ac.véh./1R/s.v./V.R./29B/D</td>\n",
       "    </tr>\n",
       "    <tr>\n",
       "      <th>904136</th>\n",
       "      <td>Ac.véh./1R/s.v./pont/29B/D</td>\n",
       "    </tr>\n",
       "    <tr>\n",
       "      <th>904137</th>\n",
       "      <td>Ac.véh./1R/s.v./pont/29B/D</td>\n",
       "    </tr>\n",
       "    <tr>\n",
       "      <th>904138</th>\n",
       "      <td>Ac.véh./1R/s.v./V.R./29B/D</td>\n",
       "    </tr>\n",
       "    <tr>\n",
       "      <th>904139</th>\n",
       "      <td>Acc. sans victime sfeu - v.r</td>\n",
       "    </tr>\n",
       "  </tbody>\n",
       "</table>\n",
       "<p>904140 rows × 1 columns</p>\n",
       "</div>"
      ],
      "text/plain": [
       "                  INCIDENT_TYPE_DESC\n",
       "0                  Premier répondant\n",
       "1          Appel de Cie de détection\n",
       "2                  Premier répondant\n",
       "3                  Premier répondant\n",
       "4               Odeur suspecte - gaz\n",
       "...                              ...\n",
       "904135    Ac.véh./1R/s.v./V.R./29B/D\n",
       "904136    Ac.véh./1R/s.v./pont/29B/D\n",
       "904137    Ac.véh./1R/s.v./pont/29B/D\n",
       "904138    Ac.véh./1R/s.v./V.R./29B/D\n",
       "904139  Acc. sans victime sfeu - v.r\n",
       "\n",
       "[904140 rows x 1 columns]"
      ]
     },
     "execution_count": 34,
     "metadata": {},
     "output_type": "execute_result"
    }
   ],
   "source": [
    "df_incidents[['INCIDENT_TYPE_DESC']]\n"
   ]
  },
  {
   "cell_type": "code",
   "execution_count": 35,
   "metadata": {},
   "outputs": [
    {
     "data": {
      "text/plain": [
       "INCIDENT_NBR            int64\n",
       "CREATION_DATE_TIME     object\n",
       "INCIDENT_TYPE_DESC     object\n",
       "DESCRIPTION_GROUPE     object\n",
       "CASERNE                 int64\n",
       "NOM_VILLE              object\n",
       "NOM_ARROND             object\n",
       "DIVISION                int64\n",
       "NOMBRE_UNITES         float64\n",
       "MTM8_X                float64\n",
       "MTM8_Y                float64\n",
       "LONGITUDE             float64\n",
       "LATITUDE              float64\n",
       "dtype: object"
      ]
     },
     "execution_count": 35,
     "metadata": {},
     "output_type": "execute_result"
    }
   ],
   "source": [
    "df_incidents.dtypes"
   ]
  },
  {
   "attachments": {},
   "cell_type": "markdown",
   "metadata": {},
   "source": [
    "### Add date columns"
   ]
  },
  {
   "cell_type": "code",
   "execution_count": 36,
   "metadata": {},
   "outputs": [],
   "source": [
    "df_incidents['CREATION_DATE_TIME'] = pd.to_datetime(\n",
    "    df_incidents['CREATION_DATE_TIME'])"
   ]
  },
  {
   "cell_type": "code",
   "execution_count": 37,
   "metadata": {},
   "outputs": [],
   "source": [
    "df_incidents = df_incidents.rename(columns={'CREATION_DATE_TIME': 'DATE'})"
   ]
  },
  {
   "cell_type": "code",
   "execution_count": 38,
   "metadata": {},
   "outputs": [],
   "source": [
    "df_incidents['DAY'] = df_incidents['DATE'].dt.strftime('%Y-%m-%d')\n",
    "df_incidents['MONTH'] = df_incidents['DATE'].dt.strftime('%Y-%m')\n",
    "df_incidents['YEAR'] = df_incidents['DATE'].dt.strftime('%Y')"
   ]
  },
  {
   "cell_type": "code",
   "execution_count": 39,
   "metadata": {},
   "outputs": [],
   "source": [
    "df_incidents = df_incidents.drop(['INCIDENT_TYPE_DESC',\n",
    "                                  'NOM_VILLE',\n",
    "                                  'NOM_ARROND',\n",
    "                                  'MTM8_X',\n",
    "                                  'MTM8_Y'], axis=1)"
   ]
  },
  {
   "cell_type": "code",
   "execution_count": 40,
   "metadata": {},
   "outputs": [
    {
     "data": {
      "text/plain": [
       "INCIDENT_NBR                   int64\n",
       "DATE                  datetime64[ns]\n",
       "DESCRIPTION_GROUPE            object\n",
       "CASERNE                        int64\n",
       "DIVISION                       int64\n",
       "NOMBRE_UNITES                float64\n",
       "LONGITUDE                    float64\n",
       "LATITUDE                     float64\n",
       "DAY                           object\n",
       "MONTH                         object\n",
       "YEAR                          object\n",
       "dtype: object"
      ]
     },
     "execution_count": 40,
     "metadata": {},
     "output_type": "execute_result"
    }
   ],
   "source": [
    "df_incidents.dtypes"
   ]
  },
  {
   "attachments": {},
   "cell_type": "markdown",
   "metadata": {},
   "source": [
    "### Add grid IDs for each incident"
   ]
  },
  {
   "cell_type": "code",
   "execution_count": 41,
   "metadata": {},
   "outputs": [],
   "source": [
    "def add_grid_id_column(df, grid_id_col_name, lat_col_name, lon_col_name, grid_file_path):\n",
    "    # Load the grid file into a GeoDataFrame\n",
    "    grid_gdf = gpd.read_file(grid_file_path)\n",
    "\n",
    "    # Assign an appropriate CRS for lat/lon coordinates to the GeoDataFrame\n",
    "    grid_gdf = grid_gdf.to_crs(\"EPSG:4326\")\n",
    "\n",
    "    # Create a spatial index for the grid GeoDataFrame\n",
    "    grid_index = grid_gdf.sindex\n",
    "\n",
    "    # Define a lambda function to get the grid ID for a single row\n",
    "    def get_grid_id(row): return _get_grid_id(\n",
    "        row, grid_index, lat_col_name, lon_col_name, grid_gdf)\n",
    "\n",
    "    # Apply the get_grid_id function to each row of the DataFrame to get the grid ID\n",
    "    grid_ids = df.apply(get_grid_id, axis=1)\n",
    "\n",
    "    # Add the new column to the DataFrame and return the result\n",
    "    df_with_grid_id = df.copy()\n",
    "    df_with_grid_id[grid_id_col_name] = grid_ids\n",
    "    return df_with_grid_id\n",
    "\n",
    "def _get_grid_id(row, grid_index, lat_col_name, lon_col_name, grid_gdf):\n",
    "    lat = row[lat_col_name]\n",
    "    lon = row[lon_col_name]\n",
    "    point = Point(lon, lat)\n",
    "    possible_matches_index = list(grid_index.intersection(point.bounds))\n",
    "    possible_matches = grid_gdf.iloc[possible_matches_index]\n",
    "    intersecting_gdf = possible_matches[possible_matches.intersects(point)]\n",
    "    if intersecting_gdf.empty:\n",
    "        return None\n",
    "    return intersecting_gdf.iloc[0]['grid_id']\n"
   ]
  },
  {
   "cell_type": "code",
   "execution_count": 42,
   "metadata": {},
   "outputs": [],
   "source": [
    "def extract_number_from_filename(file_name):\n",
    "    number = re.search(r'\\d+', file_name).group(0)\n",
    "    return str(number)"
   ]
  },
  {
   "cell_type": "code",
   "execution_count": 43,
   "metadata": {},
   "outputs": [],
   "source": [
    "def get_grid_id_col_name(file_path):\n",
    "    file_name = os.path.basename(file_path)\n",
    "    grid_id_col_name = extract_number_from_filename(file_name) + '_GRID_ID'\n",
    "    return grid_id_col_name"
   ]
  },
  {
   "cell_type": "code",
   "execution_count": 44,
   "metadata": {},
   "outputs": [],
   "source": [
    "shapefile_path = 'Data\\Generated_grids\\square_grids1000.shp'\n",
    "grid_id_col_name = get_grid_id_col_name(shapefile_path)"
   ]
  },
  {
   "cell_type": "code",
   "execution_count": 45,
   "metadata": {},
   "outputs": [],
   "source": [
    "df_incidents = add_grid_id_column(\n",
    "    df_incidents, grid_id_col_name, 'LATITUDE', 'LONGITUDE', shapefile_path)\n"
   ]
  },
  {
   "cell_type": "code",
   "execution_count": 46,
   "metadata": {},
   "outputs": [
    {
     "data": {
      "text/html": [
       "<div>\n",
       "<style scoped>\n",
       "    .dataframe tbody tr th:only-of-type {\n",
       "        vertical-align: middle;\n",
       "    }\n",
       "\n",
       "    .dataframe tbody tr th {\n",
       "        vertical-align: top;\n",
       "    }\n",
       "\n",
       "    .dataframe thead th {\n",
       "        text-align: right;\n",
       "    }\n",
       "</style>\n",
       "<table border=\"1\" class=\"dataframe\">\n",
       "  <thead>\n",
       "    <tr style=\"text-align: right;\">\n",
       "      <th></th>\n",
       "      <th>INCIDENT_NBR</th>\n",
       "      <th>DATE</th>\n",
       "      <th>DESCRIPTION_GROUPE</th>\n",
       "      <th>CASERNE</th>\n",
       "      <th>DIVISION</th>\n",
       "      <th>NOMBRE_UNITES</th>\n",
       "      <th>LONGITUDE</th>\n",
       "      <th>LATITUDE</th>\n",
       "      <th>DAY</th>\n",
       "      <th>MONTH</th>\n",
       "      <th>YEAR</th>\n",
       "      <th>1000_GRID_ID</th>\n",
       "    </tr>\n",
       "  </thead>\n",
       "  <tbody>\n",
       "    <tr>\n",
       "      <th>count</th>\n",
       "      <td>904140.000000</td>\n",
       "      <td>904140</td>\n",
       "      <td>904002</td>\n",
       "      <td>904140.000000</td>\n",
       "      <td>904140.000000</td>\n",
       "      <td>903853.000000</td>\n",
       "      <td>904140.000000</td>\n",
       "      <td>904140.000000</td>\n",
       "      <td>904140</td>\n",
       "      <td>904140</td>\n",
       "      <td>904140</td>\n",
       "      <td>903521</td>\n",
       "    </tr>\n",
       "    <tr>\n",
       "      <th>unique</th>\n",
       "      <td>NaN</td>\n",
       "      <td>NaN</td>\n",
       "      <td>7</td>\n",
       "      <td>NaN</td>\n",
       "      <td>NaN</td>\n",
       "      <td>NaN</td>\n",
       "      <td>NaN</td>\n",
       "      <td>NaN</td>\n",
       "      <td>2955</td>\n",
       "      <td>98</td>\n",
       "      <td>9</td>\n",
       "      <td>568</td>\n",
       "    </tr>\n",
       "    <tr>\n",
       "      <th>top</th>\n",
       "      <td>NaN</td>\n",
       "      <td>NaN</td>\n",
       "      <td>1-REPOND</td>\n",
       "      <td>NaN</td>\n",
       "      <td>NaN</td>\n",
       "      <td>NaN</td>\n",
       "      <td>NaN</td>\n",
       "      <td>NaN</td>\n",
       "      <td>2019-11-01</td>\n",
       "      <td>2018-01</td>\n",
       "      <td>2017</td>\n",
       "      <td>BSwXKT8NtyU=</td>\n",
       "    </tr>\n",
       "    <tr>\n",
       "      <th>freq</th>\n",
       "      <td>NaN</td>\n",
       "      <td>NaN</td>\n",
       "      <td>593925</td>\n",
       "      <td>NaN</td>\n",
       "      <td>NaN</td>\n",
       "      <td>NaN</td>\n",
       "      <td>NaN</td>\n",
       "      <td>NaN</td>\n",
       "      <td>987</td>\n",
       "      <td>11734</td>\n",
       "      <td>122474</td>\n",
       "      <td>15349</td>\n",
       "    </tr>\n",
       "    <tr>\n",
       "      <th>mean</th>\n",
       "      <td>60237.405644</td>\n",
       "      <td>2018-11-23 19:15:34.593665280</td>\n",
       "      <td>NaN</td>\n",
       "      <td>37.981816</td>\n",
       "      <td>5.037382</td>\n",
       "      <td>1.807277</td>\n",
       "      <td>-73.622829</td>\n",
       "      <td>45.525942</td>\n",
       "      <td>NaN</td>\n",
       "      <td>NaN</td>\n",
       "      <td>NaN</td>\n",
       "      <td>NaN</td>\n",
       "    </tr>\n",
       "    <tr>\n",
       "      <th>min</th>\n",
       "      <td>1.000000</td>\n",
       "      <td>2015-01-01 00:03:22</td>\n",
       "      <td>NaN</td>\n",
       "      <td>3.000000</td>\n",
       "      <td>0.000000</td>\n",
       "      <td>1.000000</td>\n",
       "      <td>-73.983189</td>\n",
       "      <td>45.402657</td>\n",
       "      <td>NaN</td>\n",
       "      <td>NaN</td>\n",
       "      <td>NaN</td>\n",
       "      <td>NaN</td>\n",
       "    </tr>\n",
       "    <tr>\n",
       "      <th>25%</th>\n",
       "      <td>28982.000000</td>\n",
       "      <td>2016-11-18 16:35:44.750000128</td>\n",
       "      <td>NaN</td>\n",
       "      <td>20.000000</td>\n",
       "      <td>3.000000</td>\n",
       "      <td>1.000000</td>\n",
       "      <td>-73.647114</td>\n",
       "      <td>45.486928</td>\n",
       "      <td>NaN</td>\n",
       "      <td>NaN</td>\n",
       "      <td>NaN</td>\n",
       "      <td>NaN</td>\n",
       "    </tr>\n",
       "    <tr>\n",
       "      <th>50%</th>\n",
       "      <td>59325.000000</td>\n",
       "      <td>2018-09-26 12:21:09.500000</td>\n",
       "      <td>NaN</td>\n",
       "      <td>37.000000</td>\n",
       "      <td>5.000000</td>\n",
       "      <td>1.000000</td>\n",
       "      <td>-73.603653</td>\n",
       "      <td>45.520950</td>\n",
       "      <td>NaN</td>\n",
       "      <td>NaN</td>\n",
       "      <td>NaN</td>\n",
       "      <td>NaN</td>\n",
       "    </tr>\n",
       "    <tr>\n",
       "      <th>75%</th>\n",
       "      <td>89871.000000</td>\n",
       "      <td>2020-12-17 09:09:07.750000128</td>\n",
       "      <td>NaN</td>\n",
       "      <td>55.000000</td>\n",
       "      <td>7.000000</td>\n",
       "      <td>2.000000</td>\n",
       "      <td>-73.568655</td>\n",
       "      <td>45.561843</td>\n",
       "      <td>NaN</td>\n",
       "      <td>NaN</td>\n",
       "      <td>NaN</td>\n",
       "      <td>NaN</td>\n",
       "    </tr>\n",
       "    <tr>\n",
       "      <th>max</th>\n",
       "      <td>500127.000000</td>\n",
       "      <td>2023-02-02 23:56:25</td>\n",
       "      <td>NaN</td>\n",
       "      <td>78.000000</td>\n",
       "      <td>17.000000</td>\n",
       "      <td>199.000000</td>\n",
       "      <td>-73.479326</td>\n",
       "      <td>45.703664</td>\n",
       "      <td>NaN</td>\n",
       "      <td>NaN</td>\n",
       "      <td>NaN</td>\n",
       "      <td>NaN</td>\n",
       "    </tr>\n",
       "    <tr>\n",
       "      <th>std</th>\n",
       "      <td>36458.562657</td>\n",
       "      <td>NaN</td>\n",
       "      <td>NaN</td>\n",
       "      <td>20.535708</td>\n",
       "      <td>2.830055</td>\n",
       "      <td>2.198637</td>\n",
       "      <td>0.083988</td>\n",
       "      <td>0.056809</td>\n",
       "      <td>NaN</td>\n",
       "      <td>NaN</td>\n",
       "      <td>NaN</td>\n",
       "      <td>NaN</td>\n",
       "    </tr>\n",
       "  </tbody>\n",
       "</table>\n",
       "</div>"
      ],
      "text/plain": [
       "         INCIDENT_NBR                           DATE DESCRIPTION_GROUPE  \\\n",
       "count   904140.000000                         904140             904002   \n",
       "unique            NaN                            NaN                  7   \n",
       "top               NaN                            NaN           1-REPOND   \n",
       "freq              NaN                            NaN             593925   \n",
       "mean     60237.405644  2018-11-23 19:15:34.593665280                NaN   \n",
       "min          1.000000            2015-01-01 00:03:22                NaN   \n",
       "25%      28982.000000  2016-11-18 16:35:44.750000128                NaN   \n",
       "50%      59325.000000     2018-09-26 12:21:09.500000                NaN   \n",
       "75%      89871.000000  2020-12-17 09:09:07.750000128                NaN   \n",
       "max     500127.000000            2023-02-02 23:56:25                NaN   \n",
       "std      36458.562657                            NaN                NaN   \n",
       "\n",
       "              CASERNE       DIVISION  NOMBRE_UNITES      LONGITUDE  \\\n",
       "count   904140.000000  904140.000000  903853.000000  904140.000000   \n",
       "unique            NaN            NaN            NaN            NaN   \n",
       "top               NaN            NaN            NaN            NaN   \n",
       "freq              NaN            NaN            NaN            NaN   \n",
       "mean        37.981816       5.037382       1.807277     -73.622829   \n",
       "min          3.000000       0.000000       1.000000     -73.983189   \n",
       "25%         20.000000       3.000000       1.000000     -73.647114   \n",
       "50%         37.000000       5.000000       1.000000     -73.603653   \n",
       "75%         55.000000       7.000000       2.000000     -73.568655   \n",
       "max         78.000000      17.000000     199.000000     -73.479326   \n",
       "std         20.535708       2.830055       2.198637       0.083988   \n",
       "\n",
       "             LATITUDE         DAY    MONTH    YEAR  1000_GRID_ID  \n",
       "count   904140.000000      904140   904140  904140        903521  \n",
       "unique            NaN        2955       98       9           568  \n",
       "top               NaN  2019-11-01  2018-01    2017  BSwXKT8NtyU=  \n",
       "freq              NaN         987    11734  122474         15349  \n",
       "mean        45.525942         NaN      NaN     NaN           NaN  \n",
       "min         45.402657         NaN      NaN     NaN           NaN  \n",
       "25%         45.486928         NaN      NaN     NaN           NaN  \n",
       "50%         45.520950         NaN      NaN     NaN           NaN  \n",
       "75%         45.561843         NaN      NaN     NaN           NaN  \n",
       "max         45.703664         NaN      NaN     NaN           NaN  \n",
       "std          0.056809         NaN      NaN     NaN           NaN  "
      ]
     },
     "execution_count": 46,
     "metadata": {},
     "output_type": "execute_result"
    }
   ],
   "source": [
    "df_incidents.describe(include='all', datetime_is_numeric=True)\n"
   ]
  },
  {
   "attachments": {},
   "cell_type": "markdown",
   "metadata": {},
   "source": [
    "### Handling missing values"
   ]
  },
  {
   "cell_type": "code",
   "execution_count": 48,
   "metadata": {},
   "outputs": [],
   "source": [
    "df_incidents = df_incidents.dropna()"
   ]
  },
  {
   "cell_type": "code",
   "execution_count": 49,
   "metadata": {},
   "outputs": [
    {
     "data": {
      "text/plain": [
       "(903103, 12)"
      ]
     },
     "execution_count": 49,
     "metadata": {},
     "output_type": "execute_result"
    }
   ],
   "source": [
    "df_incidents.shape"
   ]
  },
  {
   "cell_type": "code",
   "execution_count": 50,
   "metadata": {},
   "outputs": [],
   "source": [
    "df_incidents = df_incidents.sort_values(['DATE'])"
   ]
  },
  {
   "attachments": {},
   "cell_type": "markdown",
   "metadata": {},
   "source": [
    "### Remove all rows associated to '2023-02'"
   ]
  },
  {
   "cell_type": "code",
   "execution_count": 54,
   "metadata": {},
   "outputs": [],
   "source": [
    "df_incidents = df_incidents[df_incidents['MONTH'] != '2023-02']"
   ]
  },
  {
   "cell_type": "code",
   "execution_count": 55,
   "metadata": {},
   "outputs": [
    {
     "data": {
      "text/plain": [
       "(902471, 12)"
      ]
     },
     "execution_count": 55,
     "metadata": {},
     "output_type": "execute_result"
    }
   ],
   "source": [
    "df_incidents.shape"
   ]
  },
  {
   "cell_type": "code",
   "execution_count": 56,
   "metadata": {},
   "outputs": [
    {
     "data": {
      "text/html": [
       "<div>\n",
       "<style scoped>\n",
       "    .dataframe tbody tr th:only-of-type {\n",
       "        vertical-align: middle;\n",
       "    }\n",
       "\n",
       "    .dataframe tbody tr th {\n",
       "        vertical-align: top;\n",
       "    }\n",
       "\n",
       "    .dataframe thead th {\n",
       "        text-align: right;\n",
       "    }\n",
       "</style>\n",
       "<table border=\"1\" class=\"dataframe\">\n",
       "  <thead>\n",
       "    <tr style=\"text-align: right;\">\n",
       "      <th></th>\n",
       "      <th>INCIDENT_NBR</th>\n",
       "      <th>DATE</th>\n",
       "      <th>DESCRIPTION_GROUPE</th>\n",
       "      <th>CASERNE</th>\n",
       "      <th>DIVISION</th>\n",
       "      <th>NOMBRE_UNITES</th>\n",
       "      <th>LONGITUDE</th>\n",
       "      <th>LATITUDE</th>\n",
       "      <th>DAY</th>\n",
       "      <th>MONTH</th>\n",
       "      <th>YEAR</th>\n",
       "      <th>1000_GRID_ID</th>\n",
       "    </tr>\n",
       "  </thead>\n",
       "  <tbody>\n",
       "    <tr>\n",
       "      <th>457987</th>\n",
       "      <td>1</td>\n",
       "      <td>2015-01-01 00:03:22</td>\n",
       "      <td>SANS FEU</td>\n",
       "      <td>26</td>\n",
       "      <td>11</td>\n",
       "      <td>1.0</td>\n",
       "      <td>-73.580599</td>\n",
       "      <td>45.535699</td>\n",
       "      <td>2015-01-01</td>\n",
       "      <td>2015-01</td>\n",
       "      <td>2015</td>\n",
       "      <td>u7VeXxK7i-k=</td>\n",
       "    </tr>\n",
       "    <tr>\n",
       "      <th>410791</th>\n",
       "      <td>2</td>\n",
       "      <td>2015-01-01 00:05:58</td>\n",
       "      <td>1-REPOND</td>\n",
       "      <td>25</td>\n",
       "      <td>10</td>\n",
       "      <td>2.0</td>\n",
       "      <td>-73.574265</td>\n",
       "      <td>45.494496</td>\n",
       "      <td>2015-01-01</td>\n",
       "      <td>2015-01</td>\n",
       "      <td>2015</td>\n",
       "      <td>ZxSg_e-wPKs=</td>\n",
       "    </tr>\n",
       "    <tr>\n",
       "      <th>684717</th>\n",
       "      <td>3</td>\n",
       "      <td>2015-01-01 00:08:34</td>\n",
       "      <td>Alarmes-incendies</td>\n",
       "      <td>64</td>\n",
       "      <td>7</td>\n",
       "      <td>3.0</td>\n",
       "      <td>-73.665783</td>\n",
       "      <td>45.443273</td>\n",
       "      <td>2015-01-01</td>\n",
       "      <td>2015-01</td>\n",
       "      <td>2015</td>\n",
       "      <td>fTHnnBAVd18=</td>\n",
       "    </tr>\n",
       "    <tr>\n",
       "      <th>205493</th>\n",
       "      <td>4</td>\n",
       "      <td>2015-01-01 00:11:28</td>\n",
       "      <td>1-REPOND</td>\n",
       "      <td>38</td>\n",
       "      <td>6</td>\n",
       "      <td>1.0</td>\n",
       "      <td>-73.489985</td>\n",
       "      <td>45.641295</td>\n",
       "      <td>2015-01-01</td>\n",
       "      <td>2015-01</td>\n",
       "      <td>2015</td>\n",
       "      <td>xuTgwZGOLGk=</td>\n",
       "    </tr>\n",
       "    <tr>\n",
       "      <th>69696</th>\n",
       "      <td>5</td>\n",
       "      <td>2015-01-01 00:14:06</td>\n",
       "      <td>SANS FEU</td>\n",
       "      <td>34</td>\n",
       "      <td>9</td>\n",
       "      <td>2.0</td>\n",
       "      <td>-73.615570</td>\n",
       "      <td>45.483623</td>\n",
       "      <td>2015-01-01</td>\n",
       "      <td>2015-01</td>\n",
       "      <td>2015</td>\n",
       "      <td>hiQKHukPWWY=</td>\n",
       "    </tr>\n",
       "  </tbody>\n",
       "</table>\n",
       "</div>"
      ],
      "text/plain": [
       "        INCIDENT_NBR                DATE DESCRIPTION_GROUPE  CASERNE  \\\n",
       "457987             1 2015-01-01 00:03:22           SANS FEU       26   \n",
       "410791             2 2015-01-01 00:05:58           1-REPOND       25   \n",
       "684717             3 2015-01-01 00:08:34  Alarmes-incendies       64   \n",
       "205493             4 2015-01-01 00:11:28           1-REPOND       38   \n",
       "69696              5 2015-01-01 00:14:06           SANS FEU       34   \n",
       "\n",
       "        DIVISION  NOMBRE_UNITES  LONGITUDE   LATITUDE         DAY    MONTH  \\\n",
       "457987        11            1.0 -73.580599  45.535699  2015-01-01  2015-01   \n",
       "410791        10            2.0 -73.574265  45.494496  2015-01-01  2015-01   \n",
       "684717         7            3.0 -73.665783  45.443273  2015-01-01  2015-01   \n",
       "205493         6            1.0 -73.489985  45.641295  2015-01-01  2015-01   \n",
       "69696          9            2.0 -73.615570  45.483623  2015-01-01  2015-01   \n",
       "\n",
       "        YEAR  1000_GRID_ID  \n",
       "457987  2015  u7VeXxK7i-k=  \n",
       "410791  2015  ZxSg_e-wPKs=  \n",
       "684717  2015  fTHnnBAVd18=  \n",
       "205493  2015  xuTgwZGOLGk=  \n",
       "69696   2015  hiQKHukPWWY=  "
      ]
     },
     "execution_count": 56,
     "metadata": {},
     "output_type": "execute_result"
    }
   ],
   "source": [
    "df_incidents.head()"
   ]
  },
  {
   "attachments": {},
   "cell_type": "markdown",
   "metadata": {},
   "source": [
    "# Output file"
   ]
  },
  {
   "cell_type": "code",
   "execution_count": 57,
   "metadata": {},
   "outputs": [],
   "source": [
    "df_incidents.to_csv('Data/Processed_Datasets/Cleaned_datasets/df_incidents.csv')"
   ]
  }
 ],
 "metadata": {
  "kernelspec": {
   "display_name": "Python 3",
   "language": "python",
   "name": "python3"
  },
  "language_info": {
   "codemirror_mode": {
    "name": "ipython",
    "version": 3
   },
   "file_extension": ".py",
   "mimetype": "text/x-python",
   "name": "python",
   "nbconvert_exporter": "python",
   "pygments_lexer": "ipython3",
   "version": "3.8.5"
  },
  "orig_nbformat": 4,
  "vscode": {
   "interpreter": {
    "hash": "ad2bdc8ecc057115af97d19610ffacc2b4e99fae6737bb82f5d7fb13d2f2c186"
   }
  }
 },
 "nbformat": 4,
 "nbformat_minor": 2
}
