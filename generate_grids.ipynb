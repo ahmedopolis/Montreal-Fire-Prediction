{
 "cells": [
  {
   "attachments": {},
   "cell_type": "markdown",
   "metadata": {},
   "source": [
    "# Generate square grids"
   ]
  },
  {
   "cell_type": "code",
   "execution_count": 1,
   "metadata": {},
   "outputs": [
    {
     "name": "stderr",
     "output_type": "stream",
     "text": [
      "C:\\Users\\ajimp\\AppData\\Roaming\\Python\\Python38\\site-packages\\geopandas\\_compat.py:123: UserWarning: The Shapely GEOS version (3.11.1-CAPI-1.17.1) is incompatible with the GEOS version PyGEOS was compiled with (3.10.4-CAPI-1.16.2). Conversions between both will be slow.\n",
      "  warnings.warn(\n",
      "<ipython-input-1-93708b63e478>:5: UserWarning: Shapely 2.0 is installed, but because PyGEOS is also installed, GeoPandas will still use PyGEOS by default for now. To force to use and test Shapely 2.0, you have to set the environment variable USE_PYGEOS=0. You can do this before starting the Python process, or in your code before importing geopandas:\n",
      "\n",
      "import os\n",
      "os.environ['USE_PYGEOS'] = '0'\n",
      "import geopandas\n",
      "\n",
      "In a future release, GeoPandas will switch to using Shapely by default. If you are using PyGEOS directly (calling PyGEOS functions on geometries from GeoPandas), this will then stop working and you are encouraged to migrate from PyGEOS to Shapely 2.0 (https://shapely.readthedocs.io/en/latest/migration_pygeos.html).\n",
      "  import geopandas as gpd\n"
     ]
    }
   ],
   "source": [
    "import time\n",
    "import os\n",
    "import base64\n",
    "import hashlib\n",
    "import geopandas as gpd\n",
    "import requests\n",
    "import re\n",
    "from dotenv import load_dotenv\n",
    "from shapely.geometry import Polygon, MultiPolygon, GeometryCollection, Point"
   ]
  },
  {
   "cell_type": "code",
   "execution_count": 3,
   "metadata": {},
   "outputs": [],
   "source": [
    "def create_grid_polygons(gdf, bounds, square_cell_length, num_rows, num_cols):\n",
    "    # Create a list of polygons representing the grid and calculate their areas and centroids\n",
    "    polygons = []\n",
    "    areas = []\n",
    "    centroids = []\n",
    "    for i in range(num_rows):\n",
    "        for j in range(num_cols):\n",
    "            # Calculate the coordinates of the vertices of the grid cell\n",
    "            minx = bounds[0] + j * square_cell_length\n",
    "            maxx = minx + square_cell_length\n",
    "            miny = bounds[1] + i * square_cell_length\n",
    "            maxy = miny + square_cell_length\n",
    "            vertices = [(minx, miny), (maxx, miny), (maxx, maxy), (minx, maxy)]\n",
    "\n",
    "            # Create a polygon from the vertices and calculate its intersection with the input shapefile\n",
    "            grid_cell = Polygon(vertices)\n",
    "            intersection = grid_cell.intersection(gdf.unary_union)\n",
    "\n",
    "            if intersection.is_empty:\n",
    "                # If the intersection is empty, skip the grid cell\n",
    "                continue\n",
    "\n",
    "            if isinstance(intersection, Polygon):\n",
    "                # If the intersection is a Polygon, add it to the list of polygons and calculate its area and centroid\n",
    "                polygons.append(intersection)\n",
    "                areas.append(intersection.area)\n",
    "                centroids.append(intersection.centroid)\n",
    "            elif isinstance(intersection, (MultiPolygon, GeometryCollection)):\n",
    "                # If the intersection is a MultiPolygon or GeometryCollection, add each Polygon to the list of polygons and calculate its area and centroid\n",
    "                for geom in intersection.geoms:\n",
    "                    if isinstance(geom, Polygon):\n",
    "                        polygons.append(geom)\n",
    "                        areas.append(geom.area)\n",
    "                        centroids.append(geom.centroid)\n",
    "\n",
    "    # Add print statements to see what's going on\n",
    "    print(f\"num_rows={num_rows}, num_cols={num_cols}\")\n",
    "    print(f\"bounds={bounds}\")\n",
    "    print(f\"square_cell_length={square_cell_length}\")\n",
    "    print(f\"len(polygons)={len(polygons)}\")\n",
    "    print(f\"len(areas)={len(areas)}\")\n",
    "    print(f\"len(centroids)={len(centroids)}\")\n",
    "\n",
    "    return polygons, areas, centroids"
   ]
  },
  {
   "cell_type": "code",
   "execution_count": 4,
   "metadata": {},
   "outputs": [],
   "source": [
    "def create_grid_gdf(polygons, areas, centroids, crs):\n",
    "    # Create a GeoDataFrame from the list of polygons, areas, and centroids, and the same CRS as the input data\n",
    "    grid_gdf = gpd.GeoDataFrame(geometry=polygons, crs=crs)\n",
    "    grid_gdf['area'] = areas\n",
    "    grid_gdf['centroid'] = [centroid.wkt for centroid in centroids]\n",
    "\n",
    "    return grid_gdf"
   ]
  },
  {
   "cell_type": "code",
   "execution_count": 5,
   "metadata": {},
   "outputs": [],
   "source": [
    "def spatial_join(target_gdf, join_gdf, join_columns, target_crs=None):\n",
    "    \"\"\"\n",
    "    Performs a spatial join between a target and a join shapefile based on their geometry, and saves the output to a new shapefile.\n",
    "    \n",
    "    Parameters:\n",
    "    target_file (str): File path of the target shapefile.\n",
    "    join_file (str): File path of the join shapefile.\n",
    "    join_columns (list of str): List of column names from the join shapefile to add to the output. This list must\n",
    "        include the 'geometry' column.\n",
    "    output_file (str): File path of the output shapefile.\n",
    "    target_crs (str or dict): The CRS of the target shapefile. If not provided, the function will attempt to\n",
    "        read the CRS from the shapefile. The CRS can be specified as an EPSG code (e.g., 'EPSG:4326') or as a\n",
    "        dictionary of proj4 parameters (e.g., {'proj': 'longlat', 'ellps': 'WGS84', 'datum': 'WGS84'}).\n",
    "    \n",
    "    Returns:\n",
    "    None\n",
    "    \"\"\"\n",
    "\n",
    "    # Reproject the target shapefile if needed\n",
    "    if target_crs and target_gdf.crs != target_crs:\n",
    "        target_gdf = target_gdf.to_crs(target_crs)\n",
    "\n",
    "    # Reproject the join shapefile if needed\n",
    "    if join_gdf.crs != target_gdf.crs:\n",
    "        join_gdf = join_gdf.to_crs(target_gdf.crs)\n",
    "\n",
    "    # Make sure the 'geometry' column is included in the join columns\n",
    "    if 'geometry' not in join_columns:\n",
    "        join_columns.append('geometry')\n",
    "\n",
    "    # Perform the spatial join operation\n",
    "    joined_gdf = gpd.sjoin(\n",
    "        target_gdf, join_gdf[join_columns], how='left', predicate='intersects')\n",
    "\n",
    "    # Project the joined GeoDataFrame to EPSG:2263 before computing the area of the intersection\n",
    "    joined_gdf = joined_gdf.to_crs('EPSG:2263')\n",
    "\n",
    "    # Compute the area of the intersection between each grid and each borough\n",
    "    joined_gdf['int_area'] = joined_gdf.geometry.area\n",
    "\n",
    "    # Group the joined GeoDataFrame by grid ID and select the row with the highest intersection area\n",
    "    max_intersection_idxs = joined_gdf.groupby(\n",
    "        'grid_id')['int_area'].idxmax()\n",
    "\n",
    "    # Select the rows with the highest intersection area and dissolve the resulting GeoDataFrame\n",
    "    joined_gdf = joined_gdf.loc[max_intersection_idxs].dissolve(by='grid_id')\n",
    "\n",
    "    # return the new shapefile\n",
    "    return joined_gdf\n"
   ]
  },
  {
   "cell_type": "code",
   "execution_count": 11,
   "metadata": {},
   "outputs": [],
   "source": [
    "def create_grid(shapefile_path, square_cell_length, output_folder):\n",
    "    # Load the shapefile into a GeoDataFrame\n",
    "    gdf = gpd.read_file(shapefile_path)\n",
    "\n",
    "    # Reproject to a suitable projected CRS using UTM zones\n",
    "    utm_zone = int((gdf.bounds.minx.mean() + 180) / 6) + 1\n",
    "    projected_crs = f'+proj=utm +zone={utm_zone} +datum=WGS84 +units=m +no_defs'\n",
    "    gdf = gdf.to_crs(projected_crs)\n",
    "\n",
    "    # Calculate the bounds of the shapefile\n",
    "    bounds = gdf.total_bounds\n",
    "\n",
    "    # Calculate the number of rows and columns of the grid\n",
    "    num_cols = int((bounds[2] - bounds[0]) / square_cell_length) + 1\n",
    "    num_rows = int((bounds[3] - bounds[1]) / square_cell_length) + 1\n",
    "\n",
    "    # Create a list of polygons representing the grid and calculate their areas and centroids\n",
    "    polygons, areas, centroids = create_grid_polygons(\n",
    "        gdf, bounds, square_cell_length, num_rows, num_cols)\n",
    "\n",
    "    # Create a GeoDataFrame from the list of polygons, areas, and centroids, and the same CRS as the input data\n",
    "    grid_gdf = create_grid_gdf(polygons, areas, centroids, projected_crs)\n",
    "\n",
    "    # Use the SHA-256 hashing algorithm to generate unique IDs based on the grid's geometries\n",
    "    id_col = grid_gdf.geometry.apply(lambda geom: base64.urlsafe_b64encode(\n",
    "        hashlib.sha256(geom.wkb).digest()[:8]).decode('utf-8'))\n",
    "    grid_gdf['grid_id'] = id_col\n",
    "\n",
    "    # Spatial join between the 'grid' and 'borough' geodataframes\n",
    "    grid_gdf = spatial_join(grid_gdf, gdf,\n",
    "                            ['CODEMAMROT', 'NOM', 'TYPE', 'ABREV'], 'EPSG:4326')\n",
    "\n",
    "    # Reproject the GeoDataFrame back to the original CRS\n",
    "    grid_gdf = grid_gdf.to_crs(gdf.crs)\n",
    "\n",
    "    # Create the output file path\n",
    "    output_file = os.path.join(\n",
    "        output_folder, f'square_grids{square_cell_length}.shp')\n",
    "\n",
    "    # Remove any existing file with the same name\n",
    "    if os.path.exists(output_file):\n",
    "        os.remove(output_file)\n",
    "\n",
    "    # Save the new GeoDataFrame as a shapefile\n",
    "    grid_gdf.to_file(output_file)"
   ]
  },
  {
   "attachments": {},
   "cell_type": "markdown",
   "metadata": {},
   "source": [
    "# Generate different grip-maps"
   ]
  },
  {
   "cell_type": "code",
   "execution_count": 13,
   "metadata": {},
   "outputs": [
    {
     "name": "stdout",
     "output_type": "stream",
     "text": [
      "num_rows=145, num_cols=162\n",
      "bounds=[ 578451.10752708 5026439.79020024  618798.3836136  5062688.65392742]\n",
      "square_cell_length=250\n",
      "len(polygons)=10246\n",
      "len(areas)=10246\n",
      "len(centroids)=10246\n"
     ]
    },
    {
     "name": "stderr",
     "output_type": "stream",
     "text": [
      "<ipython-input-11-c12840aa7ec3>:45: UserWarning: Column names longer than 10 characters will be truncated when saved to ESRI Shapefile.\n",
      "  grid_gdf.to_file(output_file)\n"
     ]
    }
   ],
   "source": [
    "# Generate grids with 250 x 250 dimensions\n",
    "create_grid('Data/Boroughs/LIMADMIN.shp',\n",
    "            250, 'Data/Generated_grids/')\n"
   ]
  },
  {
   "cell_type": "code",
   "execution_count": 14,
   "metadata": {},
   "outputs": [
    {
     "name": "stdout",
     "output_type": "stream",
     "text": [
      "num_rows=73, num_cols=81\n",
      "bounds=[ 578451.10752708 5026439.79020024  618798.3836136  5062688.65392742]\n",
      "square_cell_length=500\n",
      "len(polygons)=2662\n",
      "len(areas)=2662\n",
      "len(centroids)=2662\n"
     ]
    },
    {
     "name": "stderr",
     "output_type": "stream",
     "text": [
      "<ipython-input-11-c12840aa7ec3>:45: UserWarning: Column names longer than 10 characters will be truncated when saved to ESRI Shapefile.\n",
      "  grid_gdf.to_file(output_file)\n"
     ]
    }
   ],
   "source": [
    "# Generate grids with 500 x 500 dimensions\n",
    "create_grid('Data/Boroughs/LIMADMIN.shp',\n",
    "            500, 'Data/Generated_grids/')"
   ]
  },
  {
   "cell_type": "code",
   "execution_count": 15,
   "metadata": {},
   "outputs": [
    {
     "name": "stdout",
     "output_type": "stream",
     "text": [
      "num_rows=49, num_cols=54\n",
      "bounds=[ 578451.10752708 5026439.79020024  618798.3836136  5062688.65392742]\n",
      "square_cell_length=750\n",
      "len(polygons)=1211\n",
      "len(areas)=1211\n",
      "len(centroids)=1211\n"
     ]
    },
    {
     "name": "stderr",
     "output_type": "stream",
     "text": [
      "<ipython-input-11-c12840aa7ec3>:45: UserWarning: Column names longer than 10 characters will be truncated when saved to ESRI Shapefile.\n",
      "  grid_gdf.to_file(output_file)\n"
     ]
    }
   ],
   "source": [
    "# Generate grids with 750 x 750 dimensions\n",
    "create_grid('Data/Boroughs/LIMADMIN.shp',\n",
    "            750, 'Data/Generated_grids/')"
   ]
  },
  {
   "cell_type": "code",
   "execution_count": 16,
   "metadata": {},
   "outputs": [
    {
     "name": "stdout",
     "output_type": "stream",
     "text": [
      "num_rows=37, num_cols=41\n",
      "bounds=[ 578451.10752708 5026439.79020024  618798.3836136  5062688.65392742]\n",
      "square_cell_length=1000\n",
      "len(polygons)=714\n",
      "len(areas)=714\n",
      "len(centroids)=714\n"
     ]
    },
    {
     "name": "stderr",
     "output_type": "stream",
     "text": [
      "<ipython-input-11-c12840aa7ec3>:45: UserWarning: Column names longer than 10 characters will be truncated when saved to ESRI Shapefile.\n",
      "  grid_gdf.to_file(output_file)\n"
     ]
    }
   ],
   "source": [
    "# Generate grids with 1000 x 1000 dimensions\n",
    "create_grid('Data/Boroughs/LIMADMIN.shp',\n",
    "            1000, 'Data/Generated_grids/')"
   ]
  },
  {
   "attachments": {},
   "cell_type": "markdown",
   "metadata": {},
   "source": [
    "# Function to associate 'Lat/Lon' to grid ID"
   ]
  },
  {
   "cell_type": "code",
   "execution_count": 19,
   "metadata": {},
   "outputs": [],
   "source": [
    "def get_grid_id(lat, lon, grid_file_path):\n",
    "    # Load the grid file into a GeoDataFrame\n",
    "    grid_gdf = gpd.read_file(grid_file_path)\n",
    "\n",
    "    # Assign an appropriate CRS for lat/lon coordinates to the GeoDataFrame\n",
    "    grid_gdf = grid_gdf.to_crs(\"EPSG:4326\")\n",
    "\n",
    "    # Convert the input lat/lon coordinates to a Point geometry\n",
    "    point = Point(lon, lat)\n",
    "\n",
    "    # Check if the point is within any of the grid polygons\n",
    "    intersecting_gdf = grid_gdf[grid_gdf.intersects(point)]\n",
    "\n",
    "    # If there are no intersecting grids, return None\n",
    "    if intersecting_gdf.empty:\n",
    "        return None\n",
    "\n",
    "    # Otherwise, return the ID of the first intersecting grid\n",
    "    return intersecting_gdf.iloc[0]['grid_id']"
   ]
  },
  {
   "cell_type": "code",
   "execution_count": 21,
   "metadata": {},
   "outputs": [
    {
     "name": "stdout",
     "output_type": "stream",
     "text": [
      "-niBZlFF5cM=\n"
     ]
    }
   ],
   "source": [
    "# Example return 'grid_id' in the 'square_grids1000.shp' using the McGill University coordinates\n",
    "grid_id = get_grid_id(45.504785, -73.5747,\n",
    "                      'Data/Generated_grids/square_grids1000.shp')\n",
    "print(grid_id)"
   ]
  },
  {
   "attachments": {},
   "cell_type": "markdown",
   "metadata": {},
   "source": [
    "# Function to convert street names into grid ID"
   ]
  },
  {
   "cell_type": "code",
   "execution_count": 23,
   "metadata": {},
   "outputs": [
    {
     "name": "stdout",
     "output_type": "stream",
     "text": [
      "Requirement already satisfied: python-dotenv in c:\\programdata\\anaconda3\\lib\\site-packages (0.21.0)\n"
     ]
    }
   ],
   "source": [
    "!pip install python-dotenv"
   ]
  },
  {
   "cell_type": "code",
   "execution_count": 24,
   "metadata": {},
   "outputs": [
    {
     "data": {
      "text/plain": [
       "True"
      ]
     },
     "execution_count": 24,
     "metadata": {},
     "output_type": "execute_result"
    }
   ],
   "source": [
    "load_dotenv()  # Load environment variables from .env file"
   ]
  },
  {
   "cell_type": "code",
   "execution_count": 25,
   "metadata": {},
   "outputs": [],
   "source": [
    "def get_lat_long(address):\n",
    "    api_key = os.getenv('GOOGLE_MAPS_API_KEY')\n",
    "    url = f'https://maps.googleapis.com/maps/api/geocode/json?address={address}&key={api_key}'\n",
    "    response = requests.get(url)\n",
    "    json_response = response.json()\n",
    "    lat = json_response['results'][0]['geometry']['location']['lat']\n",
    "    lng = json_response['results'][0]['geometry']['location']['lng']\n",
    "    return lat, lng"
   ]
  },
  {
   "cell_type": "code",
   "execution_count": 26,
   "metadata": {},
   "outputs": [
    {
     "name": "stdout",
     "output_type": "stream",
     "text": [
      "45.4602905 -73.5876605\n"
     ]
    }
   ],
   "source": [
    "# Example return lat, lng for '1771 rue Leprohon (MTL)'\n",
    "lat, lng = get_lat_long('1771 rue Leprohon (MTL)')\n",
    "print(lat, lng)\n"
   ]
  },
  {
   "cell_type": "code",
   "execution_count": 27,
   "metadata": {},
   "outputs": [
    {
     "name": "stdout",
     "output_type": "stream",
     "text": [
      "BVIB7ELQrA4=\n"
     ]
    }
   ],
   "source": [
    "# Example to get 'grid_id' of the following coordinates (45.4602905 -73.5876605)\n",
    "grid_id = get_grid_id(45.4602905, -73.5876605,\n",
    "                      'Data/Generated_grids/square_grids1000.shp')\n",
    "print(grid_id)"
   ]
  },
  {
   "attachments": {},
   "cell_type": "markdown",
   "metadata": {},
   "source": [
    "# Function to extract square length from file"
   ]
  },
  {
   "cell_type": "code",
   "execution_count": 2,
   "metadata": {},
   "outputs": [],
   "source": [
    "def extract_number_from_filename(filename):\n",
    "    number = re.search(r'\\d+', filename).group(0)\n",
    "    return str(number)"
   ]
  },
  {
   "cell_type": "code",
   "execution_count": 3,
   "metadata": {},
   "outputs": [
    {
     "name": "stdout",
     "output_type": "stream",
     "text": [
      "750\n"
     ]
    }
   ],
   "source": [
    "# Example of extracting 'square length' from shapefile name\n",
    "filename = 'square_grids750.shp'\n",
    "number_str = extract_number_from_filename(filename)\n",
    "print(number_str)"
   ]
  }
 ],
 "metadata": {
  "kernelspec": {
   "display_name": "Python 3",
   "language": "python",
   "name": "python3"
  },
  "language_info": {
   "codemirror_mode": {
    "name": "ipython",
    "version": 3
   },
   "file_extension": ".py",
   "mimetype": "text/x-python",
   "name": "python",
   "nbconvert_exporter": "python",
   "pygments_lexer": "ipython3",
   "version": "3.8.5"
  },
  "orig_nbformat": 4,
  "vscode": {
   "interpreter": {
    "hash": "ad2bdc8ecc057115af97d19610ffacc2b4e99fae6737bb82f5d7fb13d2f2c186"
   }
  }
 },
 "nbformat": 4,
 "nbformat_minor": 2
}
