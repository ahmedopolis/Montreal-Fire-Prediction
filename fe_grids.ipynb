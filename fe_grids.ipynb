{
 "cells": [
  {
   "attachments": {},
   "cell_type": "markdown",
   "metadata": {},
   "source": [
    "# Imports"
   ]
  },
  {
   "cell_type": "code",
   "execution_count": 1,
   "metadata": {},
   "outputs": [
    {
     "name": "stderr",
     "output_type": "stream",
     "text": [
      "C:\\Users\\ajimp\\AppData\\Roaming\\Python\\Python38\\site-packages\\geopandas\\_compat.py:123: UserWarning: The Shapely GEOS version (3.11.1-CAPI-1.17.1) is incompatible with the GEOS version PyGEOS was compiled with (3.10.4-CAPI-1.16.2). Conversions between both will be slow.\n",
      "  warnings.warn(\n",
      "<ipython-input-1-f94283bcb326>:1: UserWarning: Shapely 2.0 is installed, but because PyGEOS is also installed, GeoPandas will still use PyGEOS by default for now. To force to use and test Shapely 2.0, you have to set the environment variable USE_PYGEOS=0. You can do this before starting the Python process, or in your code before importing geopandas:\n",
      "\n",
      "import os\n",
      "os.environ['USE_PYGEOS'] = '0'\n",
      "import geopandas\n",
      "\n",
      "In a future release, GeoPandas will switch to using Shapely by default. If you are using PyGEOS directly (calling PyGEOS functions on geometries from GeoPandas), this will then stop working and you are encouraged to migrate from PyGEOS to Shapely 2.0 (https://shapely.readthedocs.io/en/latest/migration_pygeos.html).\n",
      "  import geopandas as gpd\n"
     ]
    }
   ],
   "source": [
    "import geopandas as gpd\n",
    "import pandas as pd"
   ]
  },
  {
   "cell_type": "code",
   "execution_count": 2,
   "metadata": {},
   "outputs": [
    {
     "name": "stdout",
     "output_type": "stream",
     "text": [
      "Requirement already satisfied: geopy==1.22.0 in c:\\programdata\\anaconda3\\lib\\site-packages (1.22.0)\n",
      "Requirement already satisfied: geographiclib<2,>=1.49 in c:\\programdata\\anaconda3\\lib\\site-packages (from geopy==1.22.0) (1.52)\n"
     ]
    }
   ],
   "source": [
    "!pip install geopy==1.22.0"
   ]
  },
  {
   "cell_type": "code",
   "execution_count": 3,
   "metadata": {},
   "outputs": [],
   "source": [
    "gdf_boroughs = gpd.read_file('Data/Boroughs/LIMADMIN.shp')"
   ]
  },
  {
   "cell_type": "code",
   "execution_count": 4,
   "metadata": {},
   "outputs": [],
   "source": [
    "gdf_grids = gpd.read_file('Data/Generated_grids/square_grids1000.shp')"
   ]
  },
  {
   "cell_type": "code",
   "execution_count": 5,
   "metadata": {},
   "outputs": [],
   "source": [
    "df_incidents = pd.read_csv(\n",
    "    'Data/Processed_Datasets/Cleaned_datasets/df_incidents.csv')"
   ]
  },
  {
   "attachments": {},
   "cell_type": "markdown",
   "metadata": {},
   "source": [
    "# Feature engineering"
   ]
  },
  {
   "attachments": {},
   "cell_type": "markdown",
   "metadata": {},
   "source": [
    "### Create common table with grid IDs and months"
   ]
  },
  {
   "cell_type": "code",
   "execution_count": 6,
   "metadata": {},
   "outputs": [],
   "source": [
    "df_fe_grids = gdf_grids.loc[:, ['grid_id', 'CODEMAMROT']]"
   ]
  },
  {
   "cell_type": "code",
   "execution_count": 7,
   "metadata": {},
   "outputs": [],
   "source": [
    "df_fe_grids = df_fe_grids.rename(columns={'grid_id': '1000_GRID_ID'})"
   ]
  },
  {
   "cell_type": "code",
   "execution_count": 8,
   "metadata": {},
   "outputs": [],
   "source": [
    "months_serie = df_incidents['MONTH'].unique()"
   ]
  },
  {
   "cell_type": "code",
   "execution_count": 9,
   "metadata": {},
   "outputs": [],
   "source": [
    "# Repeat months for 'incident' temporal range for each grid id\n",
    "new_rows = [pd.DataFrame({\n",
    "    '1000_GRID_ID': [x['1000_GRID_ID'].iloc[0]]*len(months_serie),\n",
    "    'MONTH': months_serie,\n",
    "    'CODEMAMROT': [x['CODEMAMROT'].iloc[0]]*len(months_serie),\n",
    "}) for _, x in df_fe_grids.groupby('1000_GRID_ID')]"
   ]
  },
  {
   "cell_type": "code",
   "execution_count": 10,
   "metadata": {},
   "outputs": [],
   "source": [
    "df_fe_grids = pd.concat(new_rows, ignore_index=True)"
   ]
  },
  {
   "cell_type": "code",
   "execution_count": 11,
   "metadata": {},
   "outputs": [
    {
     "data": {
      "text/html": [
       "<div>\n",
       "<style scoped>\n",
       "    .dataframe tbody tr th:only-of-type {\n",
       "        vertical-align: middle;\n",
       "    }\n",
       "\n",
       "    .dataframe tbody tr th {\n",
       "        vertical-align: top;\n",
       "    }\n",
       "\n",
       "    .dataframe thead th {\n",
       "        text-align: right;\n",
       "    }\n",
       "</style>\n",
       "<table border=\"1\" class=\"dataframe\">\n",
       "  <thead>\n",
       "    <tr style=\"text-align: right;\">\n",
       "      <th></th>\n",
       "      <th>1000_GRID_ID</th>\n",
       "      <th>MONTH</th>\n",
       "      <th>CODEMAMROT</th>\n",
       "    </tr>\n",
       "  </thead>\n",
       "  <tbody>\n",
       "    <tr>\n",
       "      <th>0</th>\n",
       "      <td>-1xcNei0iJs=</td>\n",
       "      <td>2015-01</td>\n",
       "      <td>REM34</td>\n",
       "    </tr>\n",
       "    <tr>\n",
       "      <th>1</th>\n",
       "      <td>-1xcNei0iJs=</td>\n",
       "      <td>2015-02</td>\n",
       "      <td>REM34</td>\n",
       "    </tr>\n",
       "    <tr>\n",
       "      <th>2</th>\n",
       "      <td>-1xcNei0iJs=</td>\n",
       "      <td>2015-03</td>\n",
       "      <td>REM34</td>\n",
       "    </tr>\n",
       "    <tr>\n",
       "      <th>3</th>\n",
       "      <td>-1xcNei0iJs=</td>\n",
       "      <td>2015-04</td>\n",
       "      <td>REM34</td>\n",
       "    </tr>\n",
       "    <tr>\n",
       "      <th>4</th>\n",
       "      <td>-1xcNei0iJs=</td>\n",
       "      <td>2015-05</td>\n",
       "      <td>REM34</td>\n",
       "    </tr>\n",
       "    <tr>\n",
       "      <th>...</th>\n",
       "      <td>...</td>\n",
       "      <td>...</td>\n",
       "      <td>...</td>\n",
       "    </tr>\n",
       "    <tr>\n",
       "      <th>69253</th>\n",
       "      <td>zzht2gM06A0=</td>\n",
       "      <td>2022-09</td>\n",
       "      <td>REM17</td>\n",
       "    </tr>\n",
       "    <tr>\n",
       "      <th>69254</th>\n",
       "      <td>zzht2gM06A0=</td>\n",
       "      <td>2022-10</td>\n",
       "      <td>REM17</td>\n",
       "    </tr>\n",
       "    <tr>\n",
       "      <th>69255</th>\n",
       "      <td>zzht2gM06A0=</td>\n",
       "      <td>2022-11</td>\n",
       "      <td>REM17</td>\n",
       "    </tr>\n",
       "    <tr>\n",
       "      <th>69256</th>\n",
       "      <td>zzht2gM06A0=</td>\n",
       "      <td>2022-12</td>\n",
       "      <td>REM17</td>\n",
       "    </tr>\n",
       "    <tr>\n",
       "      <th>69257</th>\n",
       "      <td>zzht2gM06A0=</td>\n",
       "      <td>2023-01</td>\n",
       "      <td>REM17</td>\n",
       "    </tr>\n",
       "  </tbody>\n",
       "</table>\n",
       "<p>69258 rows × 3 columns</p>\n",
       "</div>"
      ],
      "text/plain": [
       "       1000_GRID_ID    MONTH CODEMAMROT\n",
       "0      -1xcNei0iJs=  2015-01      REM34\n",
       "1      -1xcNei0iJs=  2015-02      REM34\n",
       "2      -1xcNei0iJs=  2015-03      REM34\n",
       "3      -1xcNei0iJs=  2015-04      REM34\n",
       "4      -1xcNei0iJs=  2015-05      REM34\n",
       "...             ...      ...        ...\n",
       "69253  zzht2gM06A0=  2022-09      REM17\n",
       "69254  zzht2gM06A0=  2022-10      REM17\n",
       "69255  zzht2gM06A0=  2022-11      REM17\n",
       "69256  zzht2gM06A0=  2022-12      REM17\n",
       "69257  zzht2gM06A0=  2023-01      REM17\n",
       "\n",
       "[69258 rows x 3 columns]"
      ]
     },
     "execution_count": 11,
     "metadata": {},
     "output_type": "execute_result"
    }
   ],
   "source": [
    "df_fe_grids.sort_values(['1000_GRID_ID', 'MONTH'])"
   ]
  },
  {
   "attachments": {},
   "cell_type": "markdown",
   "metadata": {},
   "source": [
    "# Output file"
   ]
  },
  {
   "cell_type": "code",
   "execution_count": 12,
   "metadata": {},
   "outputs": [],
   "source": [
    "df_fe_grids.to_csv(\n",
    "    'Data/Processed_Datasets/Combined_tables/df_grids_keys.csv')"
   ]
  }
 ],
 "metadata": {
  "kernelspec": {
   "display_name": "Python 3",
   "language": "python",
   "name": "python3"
  },
  "language_info": {
   "codemirror_mode": {
    "name": "ipython",
    "version": 3
   },
   "file_extension": ".py",
   "mimetype": "text/x-python",
   "name": "python",
   "nbconvert_exporter": "python",
   "pygments_lexer": "ipython3",
   "version": "3.8.5"
  },
  "orig_nbformat": 4,
  "vscode": {
   "interpreter": {
    "hash": "ad2bdc8ecc057115af97d19610ffacc2b4e99fae6737bb82f5d7fb13d2f2c186"
   }
  }
 },
 "nbformat": 4,
 "nbformat_minor": 2
}
