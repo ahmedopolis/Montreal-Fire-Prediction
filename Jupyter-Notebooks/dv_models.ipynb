{
 "cells": [
  {
   "cell_type": "code",
   "execution_count": 83,
   "metadata": {},
   "outputs": [],
   "source": [
    "import pandas as pd\n",
    "import os\n",
    "import geopandas as gpd\n",
    "import matplotlib.pyplot as plt\n",
    "import numpy as np"
   ]
  },
  {
   "attachments": {},
   "cell_type": "markdown",
   "metadata": {},
   "source": [
    "#### [CONFUSION TABLE: Compare average validation & test performance for all 3 models]"
   ]
  },
  {
   "cell_type": "code",
   "execution_count": 84,
   "metadata": {},
   "outputs": [],
   "source": [
    "df_xgb_confusion_table = pd.read_csv(\n",
    "    'Data/Data_visualization_folders/modelling_results/xgb_results.csv', index_col=0)\n",
    "df_rfc_confusion_table = pd.read_csv(\n",
    "    'Data/Data_visualization_folders/modelling_results/rfc_results.csv', index_col=0)\n",
    "df_dt_confusion_table = pd.read_csv(\n",
    "    'Data/Data_visualization_folders/modelling_results/dt_results.csv', index_col=0)"
   ]
  },
  {
   "cell_type": "code",
   "execution_count": 85,
   "metadata": {},
   "outputs": [
    {
     "data": {
      "text/html": [
       "<div>\n",
       "<style scoped>\n",
       "    .dataframe tbody tr th:only-of-type {\n",
       "        vertical-align: middle;\n",
       "    }\n",
       "\n",
       "    .dataframe tbody tr th {\n",
       "        vertical-align: top;\n",
       "    }\n",
       "\n",
       "    .dataframe thead th {\n",
       "        text-align: right;\n",
       "    }\n",
       "</style>\n",
       "<table border=\"1\" class=\"dataframe\">\n",
       "  <thead>\n",
       "    <tr style=\"text-align: right;\">\n",
       "      <th></th>\n",
       "      <th>Metrics</th>\n",
       "      <th>XGBoost Results</th>\n",
       "    </tr>\n",
       "  </thead>\n",
       "  <tbody>\n",
       "    <tr>\n",
       "      <th>count</th>\n",
       "      <td>10</td>\n",
       "      <td>10.000000</td>\n",
       "    </tr>\n",
       "    <tr>\n",
       "      <th>unique</th>\n",
       "      <td>10</td>\n",
       "      <td>NaN</td>\n",
       "    </tr>\n",
       "    <tr>\n",
       "      <th>top</th>\n",
       "      <td>Test Recall</td>\n",
       "      <td>NaN</td>\n",
       "    </tr>\n",
       "    <tr>\n",
       "      <th>freq</th>\n",
       "      <td>1</td>\n",
       "      <td>NaN</td>\n",
       "    </tr>\n",
       "    <tr>\n",
       "      <th>mean</th>\n",
       "      <td>NaN</td>\n",
       "      <td>0.870740</td>\n",
       "    </tr>\n",
       "    <tr>\n",
       "      <th>std</th>\n",
       "      <td>NaN</td>\n",
       "      <td>0.078979</td>\n",
       "    </tr>\n",
       "    <tr>\n",
       "      <th>min</th>\n",
       "      <td>NaN</td>\n",
       "      <td>0.711597</td>\n",
       "    </tr>\n",
       "    <tr>\n",
       "      <th>25%</th>\n",
       "      <td>NaN</td>\n",
       "      <td>0.888793</td>\n",
       "    </tr>\n",
       "    <tr>\n",
       "      <th>50%</th>\n",
       "      <td>NaN</td>\n",
       "      <td>0.898551</td>\n",
       "    </tr>\n",
       "    <tr>\n",
       "      <th>75%</th>\n",
       "      <td>NaN</td>\n",
       "      <td>0.906541</td>\n",
       "    </tr>\n",
       "    <tr>\n",
       "      <th>max</th>\n",
       "      <td>NaN</td>\n",
       "      <td>0.957780</td>\n",
       "    </tr>\n",
       "  </tbody>\n",
       "</table>\n",
       "</div>"
      ],
      "text/plain": [
       "            Metrics  XGBoost Results\n",
       "count            10        10.000000\n",
       "unique           10              NaN\n",
       "top     Test Recall              NaN\n",
       "freq              1              NaN\n",
       "mean            NaN         0.870740\n",
       "std             NaN         0.078979\n",
       "min             NaN         0.711597\n",
       "25%             NaN         0.888793\n",
       "50%             NaN         0.898551\n",
       "75%             NaN         0.906541\n",
       "max             NaN         0.957780"
      ]
     },
     "execution_count": 85,
     "metadata": {},
     "output_type": "execute_result"
    }
   ],
   "source": [
    "df_xgb_confusion_table.describe(include='all')"
   ]
  },
  {
   "cell_type": "code",
   "execution_count": 86,
   "metadata": {},
   "outputs": [
    {
     "data": {
      "text/html": [
       "<div>\n",
       "<style scoped>\n",
       "    .dataframe tbody tr th:only-of-type {\n",
       "        vertical-align: middle;\n",
       "    }\n",
       "\n",
       "    .dataframe tbody tr th {\n",
       "        vertical-align: top;\n",
       "    }\n",
       "\n",
       "    .dataframe thead th {\n",
       "        text-align: right;\n",
       "    }\n",
       "</style>\n",
       "<table border=\"1\" class=\"dataframe\">\n",
       "  <thead>\n",
       "    <tr style=\"text-align: right;\">\n",
       "      <th></th>\n",
       "      <th>Metrics</th>\n",
       "      <th>Random Forest Results</th>\n",
       "    </tr>\n",
       "  </thead>\n",
       "  <tbody>\n",
       "    <tr>\n",
       "      <th>count</th>\n",
       "      <td>10</td>\n",
       "      <td>10.000000</td>\n",
       "    </tr>\n",
       "    <tr>\n",
       "      <th>unique</th>\n",
       "      <td>10</td>\n",
       "      <td>NaN</td>\n",
       "    </tr>\n",
       "    <tr>\n",
       "      <th>top</th>\n",
       "      <td>Test Recall</td>\n",
       "      <td>NaN</td>\n",
       "    </tr>\n",
       "    <tr>\n",
       "      <th>freq</th>\n",
       "      <td>1</td>\n",
       "      <td>NaN</td>\n",
       "    </tr>\n",
       "    <tr>\n",
       "      <th>mean</th>\n",
       "      <td>NaN</td>\n",
       "      <td>0.868543</td>\n",
       "    </tr>\n",
       "    <tr>\n",
       "      <th>std</th>\n",
       "      <td>NaN</td>\n",
       "      <td>0.069143</td>\n",
       "    </tr>\n",
       "    <tr>\n",
       "      <th>min</th>\n",
       "      <td>NaN</td>\n",
       "      <td>0.731342</td>\n",
       "    </tr>\n",
       "    <tr>\n",
       "      <th>25%</th>\n",
       "      <td>NaN</td>\n",
       "      <td>0.884022</td>\n",
       "    </tr>\n",
       "    <tr>\n",
       "      <th>50%</th>\n",
       "      <td>NaN</td>\n",
       "      <td>0.890178</td>\n",
       "    </tr>\n",
       "    <tr>\n",
       "      <th>75%</th>\n",
       "      <td>NaN</td>\n",
       "      <td>0.900660</td>\n",
       "    </tr>\n",
       "    <tr>\n",
       "      <th>max</th>\n",
       "      <td>NaN</td>\n",
       "      <td>0.949689</td>\n",
       "    </tr>\n",
       "  </tbody>\n",
       "</table>\n",
       "</div>"
      ],
      "text/plain": [
       "            Metrics  Random Forest Results\n",
       "count            10              10.000000\n",
       "unique           10                    NaN\n",
       "top     Test Recall                    NaN\n",
       "freq              1                    NaN\n",
       "mean            NaN               0.868543\n",
       "std             NaN               0.069143\n",
       "min             NaN               0.731342\n",
       "25%             NaN               0.884022\n",
       "50%             NaN               0.890178\n",
       "75%             NaN               0.900660\n",
       "max             NaN               0.949689"
      ]
     },
     "execution_count": 86,
     "metadata": {},
     "output_type": "execute_result"
    }
   ],
   "source": [
    "df_rfc_confusion_table.describe(include='all')"
   ]
  },
  {
   "cell_type": "code",
   "execution_count": 87,
   "metadata": {},
   "outputs": [
    {
     "data": {
      "text/html": [
       "<div>\n",
       "<style scoped>\n",
       "    .dataframe tbody tr th:only-of-type {\n",
       "        vertical-align: middle;\n",
       "    }\n",
       "\n",
       "    .dataframe tbody tr th {\n",
       "        vertical-align: top;\n",
       "    }\n",
       "\n",
       "    .dataframe thead th {\n",
       "        text-align: right;\n",
       "    }\n",
       "</style>\n",
       "<table border=\"1\" class=\"dataframe\">\n",
       "  <thead>\n",
       "    <tr style=\"text-align: right;\">\n",
       "      <th></th>\n",
       "      <th>Metrics</th>\n",
       "      <th>Decision Tree Results</th>\n",
       "    </tr>\n",
       "  </thead>\n",
       "  <tbody>\n",
       "    <tr>\n",
       "      <th>count</th>\n",
       "      <td>10</td>\n",
       "      <td>10.000000</td>\n",
       "    </tr>\n",
       "    <tr>\n",
       "      <th>unique</th>\n",
       "      <td>10</td>\n",
       "      <td>NaN</td>\n",
       "    </tr>\n",
       "    <tr>\n",
       "      <th>top</th>\n",
       "      <td>Test Recall</td>\n",
       "      <td>NaN</td>\n",
       "    </tr>\n",
       "    <tr>\n",
       "      <th>freq</th>\n",
       "      <td>1</td>\n",
       "      <td>NaN</td>\n",
       "    </tr>\n",
       "    <tr>\n",
       "      <th>mean</th>\n",
       "      <td>NaN</td>\n",
       "      <td>0.761402</td>\n",
       "    </tr>\n",
       "    <tr>\n",
       "      <th>std</th>\n",
       "      <td>NaN</td>\n",
       "      <td>0.067234</td>\n",
       "    </tr>\n",
       "    <tr>\n",
       "      <th>min</th>\n",
       "      <td>NaN</td>\n",
       "      <td>0.642797</td>\n",
       "    </tr>\n",
       "    <tr>\n",
       "      <th>25%</th>\n",
       "      <td>NaN</td>\n",
       "      <td>0.741893</td>\n",
       "    </tr>\n",
       "    <tr>\n",
       "      <th>50%</th>\n",
       "      <td>NaN</td>\n",
       "      <td>0.770160</td>\n",
       "    </tr>\n",
       "    <tr>\n",
       "      <th>75%</th>\n",
       "      <td>NaN</td>\n",
       "      <td>0.800449</td>\n",
       "    </tr>\n",
       "    <tr>\n",
       "      <th>max</th>\n",
       "      <td>NaN</td>\n",
       "      <td>0.865848</td>\n",
       "    </tr>\n",
       "  </tbody>\n",
       "</table>\n",
       "</div>"
      ],
      "text/plain": [
       "            Metrics  Decision Tree Results\n",
       "count            10              10.000000\n",
       "unique           10                    NaN\n",
       "top     Test Recall                    NaN\n",
       "freq              1                    NaN\n",
       "mean            NaN               0.761402\n",
       "std             NaN               0.067234\n",
       "min             NaN               0.642797\n",
       "25%             NaN               0.741893\n",
       "50%             NaN               0.770160\n",
       "75%             NaN               0.800449\n",
       "max             NaN               0.865848"
      ]
     },
     "execution_count": 87,
     "metadata": {},
     "output_type": "execute_result"
    }
   ],
   "source": [
    "df_dt_confusion_table.describe(include='all')"
   ]
  },
  {
   "cell_type": "code",
   "execution_count": 88,
   "metadata": {},
   "outputs": [],
   "source": [
    "df_full_confusion_table = pd.concat([df_xgb_confusion_table.set_index('Metrics'),\n",
    "                                     df_rfc_confusion_table.set_index('Metrics'),\n",
    "                                     df_dt_confusion_table.set_index('Metrics')], axis=1, sort=False)"
   ]
  },
  {
   "cell_type": "code",
   "execution_count": 89,
   "metadata": {},
   "outputs": [
    {
     "data": {
      "text/html": [
       "<div>\n",
       "<style scoped>\n",
       "    .dataframe tbody tr th:only-of-type {\n",
       "        vertical-align: middle;\n",
       "    }\n",
       "\n",
       "    .dataframe tbody tr th {\n",
       "        vertical-align: top;\n",
       "    }\n",
       "\n",
       "    .dataframe thead th {\n",
       "        text-align: right;\n",
       "    }\n",
       "</style>\n",
       "<table border=\"1\" class=\"dataframe\">\n",
       "  <thead>\n",
       "    <tr style=\"text-align: right;\">\n",
       "      <th></th>\n",
       "      <th>Metrics</th>\n",
       "      <th>XGBoost Results</th>\n",
       "      <th>Random Forest Results</th>\n",
       "      <th>Decision Tree Results</th>\n",
       "    </tr>\n",
       "  </thead>\n",
       "  <tbody>\n",
       "    <tr>\n",
       "      <th>0</th>\n",
       "      <td>Average Validation Balanced Accuracy</td>\n",
       "      <td>0.740494</td>\n",
       "      <td>0.754283</td>\n",
       "      <td>0.665245</td>\n",
       "    </tr>\n",
       "    <tr>\n",
       "      <th>1</th>\n",
       "      <td>Average Validation Precision</td>\n",
       "      <td>0.888365</td>\n",
       "      <td>0.884022</td>\n",
       "      <td>0.815683</td>\n",
       "    </tr>\n",
       "    <tr>\n",
       "      <th>2</th>\n",
       "      <td>Average Validation Recall</td>\n",
       "      <td>0.896584</td>\n",
       "      <td>0.884558</td>\n",
       "      <td>0.775894</td>\n",
       "    </tr>\n",
       "    <tr>\n",
       "      <th>3</th>\n",
       "      <td>Average Validation F1</td>\n",
       "      <td>0.890078</td>\n",
       "      <td>0.884023</td>\n",
       "      <td>0.791499</td>\n",
       "    </tr>\n",
       "    <tr>\n",
       "      <th>4</th>\n",
       "      <td>Average Validation ROC-AUC (One vs Rest) score</td>\n",
       "      <td>0.957780</td>\n",
       "      <td>0.949689</td>\n",
       "      <td>0.750004</td>\n",
       "    </tr>\n",
       "    <tr>\n",
       "      <th>5</th>\n",
       "      <td>Test Balanced Accuracy</td>\n",
       "      <td>0.711597</td>\n",
       "      <td>0.731342</td>\n",
       "      <td>0.642797</td>\n",
       "    </tr>\n",
       "    <tr>\n",
       "      <th>6</th>\n",
       "      <td>Test Precision</td>\n",
       "      <td>0.900517</td>\n",
       "      <td>0.901839</td>\n",
       "      <td>0.865848</td>\n",
       "    </tr>\n",
       "    <tr>\n",
       "      <th>7</th>\n",
       "      <td>Test Recall</td>\n",
       "      <td>0.910364</td>\n",
       "      <td>0.895798</td>\n",
       "      <td>0.764426</td>\n",
       "    </tr>\n",
       "    <tr>\n",
       "      <th>8</th>\n",
       "      <td>Test F1</td>\n",
       "      <td>0.904353</td>\n",
       "      <td>0.898488</td>\n",
       "      <td>0.803432</td>\n",
       "    </tr>\n",
       "    <tr>\n",
       "      <th>9</th>\n",
       "      <td>Test ROC-AUC (One vs Rest) score</td>\n",
       "      <td>0.907270</td>\n",
       "      <td>0.901384</td>\n",
       "      <td>0.739189</td>\n",
       "    </tr>\n",
       "  </tbody>\n",
       "</table>\n",
       "</div>"
      ],
      "text/plain": [
       "                                          Metrics  XGBoost Results  \\\n",
       "0            Average Validation Balanced Accuracy         0.740494   \n",
       "1                    Average Validation Precision         0.888365   \n",
       "2                       Average Validation Recall         0.896584   \n",
       "3                           Average Validation F1         0.890078   \n",
       "4  Average Validation ROC-AUC (One vs Rest) score         0.957780   \n",
       "5                          Test Balanced Accuracy         0.711597   \n",
       "6                                  Test Precision         0.900517   \n",
       "7                                     Test Recall         0.910364   \n",
       "8                                         Test F1         0.904353   \n",
       "9                Test ROC-AUC (One vs Rest) score         0.907270   \n",
       "\n",
       "   Random Forest Results  Decision Tree Results  \n",
       "0               0.754283               0.665245  \n",
       "1               0.884022               0.815683  \n",
       "2               0.884558               0.775894  \n",
       "3               0.884023               0.791499  \n",
       "4               0.949689               0.750004  \n",
       "5               0.731342               0.642797  \n",
       "6               0.901839               0.865848  \n",
       "7               0.895798               0.764426  \n",
       "8               0.898488               0.803432  \n",
       "9               0.901384               0.739189  "
      ]
     },
     "execution_count": 89,
     "metadata": {},
     "output_type": "execute_result"
    }
   ],
   "source": [
    "df_full_confusion_table.reset_index()"
   ]
  },
  {
   "cell_type": "code",
   "execution_count": 90,
   "metadata": {},
   "outputs": [
    {
     "data": {
      "text/plain": [
       "Index(['Average Validation Balanced Accuracy', 'Average Validation Precision',\n",
       "       'Average Validation Recall', 'Average Validation F1',\n",
       "       'Average Validation ROC-AUC (One vs Rest) score',\n",
       "       'Test Balanced Accuracy', 'Test Precision', 'Test Recall', 'Test F1',\n",
       "       'Test ROC-AUC (One vs Rest) score'],\n",
       "      dtype='object', name='Metrics')"
      ]
     },
     "execution_count": 90,
     "metadata": {},
     "output_type": "execute_result"
    }
   ],
   "source": [
    "df_full_confusion_table.index"
   ]
  },
  {
   "cell_type": "code",
   "execution_count": 91,
   "metadata": {},
   "outputs": [],
   "source": [
    "# File Output\n",
    "three_results_file_name = 'all_three_model_results.csv'\n",
    "three_results_file_path = 'Data/Data_visualization_folders/modelling_results/' + \\\n",
    "    three_results_file_name\n",
    "if os.path.exists(three_results_file_name):\n",
    "    os.remove(three_results_file_name)\n",
    "    df_full_confusion_table.to_csv(three_results_file_path, index=True)\n",
    "else:\n",
    "    df_full_confusion_table.to_csv(three_results_file_path, index=True)"
   ]
  },
  {
   "attachments": {},
   "cell_type": "markdown",
   "metadata": {},
   "source": [
    "#### [XGBoost - MAP (HEATMAP): Fire-risk level for ‘2023-01’ per grid]"
   ]
  },
  {
   "cell_type": "code",
   "execution_count": 92,
   "metadata": {},
   "outputs": [],
   "source": [
    "gdf = gpd.read_file('Data/Generated_grids/square_grids1000.shp')"
   ]
  },
  {
   "cell_type": "code",
   "execution_count": 93,
   "metadata": {},
   "outputs": [],
   "source": [
    "df_xgb_test_combined_lm = pd.read_csv('Data/Data_visualization_folders/modelling_results/xgb_test_combined_last_month.csv', index_col=0)"
   ]
  },
  {
   "cell_type": "code",
   "execution_count": 94,
   "metadata": {},
   "outputs": [],
   "source": [
    "merged_df_xgb_test_combined_lm = gdf.merge(df_xgb_test_combined_lm,\n",
    "                      left_on='grid_id', right_on='1000_GRID_ID')"
   ]
  },
  {
   "cell_type": "code",
   "execution_count": 95,
   "metadata": {},
   "outputs": [
    {
     "name": "stderr",
     "output_type": "stream",
     "text": [
      "<ipython-input-95-196b636a8451>:1: UserWarning: Column names longer than 10 characters will be truncated when saved to ESRI Shapefile.\n",
      "  merged_df_xgb_test_combined_lm.to_file('Data/Data_visualization_folders/modelling_results/merged_df_xgb_test_combined_lm.shp',\n"
     ]
    }
   ],
   "source": [
    "merged_df_xgb_test_combined_lm.to_file('Data/Data_visualization_folders/modelling_results/merged_df_xgb_test_combined_lm.shp',\n",
    "                  driver='ESRI Shapefile', encoding='utf-8')"
   ]
  },
  {
   "attachments": {},
   "cell_type": "markdown",
   "metadata": {},
   "source": [
    "#### [Random Forest - MAP (HEATMAP): Fire-risk level for ‘2023-01’ per grid]"
   ]
  },
  {
   "cell_type": "code",
   "execution_count": 96,
   "metadata": {},
   "outputs": [],
   "source": [
    "df_rfc_test_combined_lm = pd.read_csv(\n",
    "    'Data/Data_visualization_folders/modelling_results/rfc_test_combined_last_month.csv', index_col=0)"
   ]
  },
  {
   "cell_type": "code",
   "execution_count": 97,
   "metadata": {},
   "outputs": [],
   "source": [
    "merged_df_rfc_test_combined_lm = gdf.merge(df_rfc_test_combined_lm,\n",
    "                                           left_on='grid_id', right_on='1000_GRID_ID')"
   ]
  },
  {
   "cell_type": "code",
   "execution_count": 98,
   "metadata": {},
   "outputs": [
    {
     "name": "stderr",
     "output_type": "stream",
     "text": [
      "<ipython-input-98-dc0230e99b1a>:1: UserWarning: Column names longer than 10 characters will be truncated when saved to ESRI Shapefile.\n",
      "  merged_df_rfc_test_combined_lm.to_file('Data/Data_visualization_folders/modelling_results/merged_df_rfc_test_combined_lm.shp',\n"
     ]
    }
   ],
   "source": [
    "merged_df_rfc_test_combined_lm.to_file('Data/Data_visualization_folders/modelling_results/merged_df_rfc_test_combined_lm.shp',\n",
    "                                       driver='ESRI Shapefile', encoding='utf-8')"
   ]
  },
  {
   "attachments": {},
   "cell_type": "markdown",
   "metadata": {},
   "source": [
    "#### [Decision Tree - MAP (HEATMAP): Fire-risk level for ‘2023-01’ per grid]"
   ]
  },
  {
   "cell_type": "code",
   "execution_count": 99,
   "metadata": {},
   "outputs": [],
   "source": [
    "df_dt_test_combined_lm = pd.read_csv(\n",
    "    'Data/Data_visualization_folders/modelling_results/dt_test_combined_last_month.csv', index_col=0)"
   ]
  },
  {
   "cell_type": "code",
   "execution_count": 100,
   "metadata": {},
   "outputs": [],
   "source": [
    "merged_df_dt_test_combined_lm = gdf.merge(df_dt_test_combined_lm,\n",
    "                                           left_on='grid_id', right_on='1000_GRID_ID')"
   ]
  },
  {
   "cell_type": "code",
   "execution_count": 101,
   "metadata": {},
   "outputs": [
    {
     "name": "stderr",
     "output_type": "stream",
     "text": [
      "<ipython-input-101-98390501562f>:1: UserWarning: Column names longer than 10 characters will be truncated when saved to ESRI Shapefile.\n",
      "  merged_df_dt_test_combined_lm.to_file('Data/Data_visualization_folders/modelling_results/merged_df_dt_test_combined_lm.shp',\n"
     ]
    }
   ],
   "source": [
    "merged_df_dt_test_combined_lm.to_file('Data/Data_visualization_folders/modelling_results/merged_df_dt_test_combined_lm.shp',\n",
    "                                       driver='ESRI Shapefile', encoding='utf-8')"
   ]
  },
  {
   "attachments": {},
   "cell_type": "markdown",
   "metadata": {},
   "source": [
    "#### [BAR CHART: Compare average validation and test ‘Recall’ for 3 models]"
   ]
  },
  {
   "cell_type": "code",
   "execution_count": 102,
   "metadata": {},
   "outputs": [
    {
     "data": {
      "image/png": "[encoded data removed]",
      "text/plain": [
       "<Figure size 432x288 with 1 Axes>"
      ]
     },
     "metadata": {
      "needs_background": "light"
     },
     "output_type": "display_data"
    }
   ],
   "source": [
    "# Extract the recall values for each model\n",
    "xgb_val_recall = df_full_confusion_table.loc['Average Validation Recall',\n",
    "                                             'XGBoost Results']\n",
    "xgb_test_recall = df_full_confusion_table.loc['Test Recall', 'XGBoost Results']\n",
    "rf_val_recall = df_full_confusion_table.loc['Average Validation Recall',\n",
    "                                            'Random Forest Results']\n",
    "rf_test_recall = df_full_confusion_table.loc['Test Recall',\n",
    "                                             'Random Forest Results']\n",
    "dt_val_recall = df_full_confusion_table.loc['Average Validation Recall',\n",
    "                                            'Decision Tree Results']\n",
    "dt_test_recall = df_full_confusion_table.loc['Test Recall',\n",
    "                                             'Decision Tree Results']\n",
    "\n",
    "# Create a bar chart\n",
    "models = ['XGBoost', 'Random Forest', 'Decision Tree']\n",
    "val_recalls = [xgb_val_recall, rf_val_recall, dt_val_recall]\n",
    "test_recalls = [xgb_test_recall, rf_test_recall, dt_test_recall]\n",
    "bar_width = 0.35\n",
    "r1 = np.arange(len(models))\n",
    "r2 = [x + bar_width for x in r1]\n",
    "\n",
    "fig, ax = plt.subplots()\n",
    "ax.bar(r1, val_recalls, color='#1f77b4', width=bar_width,\n",
    "       edgecolor='grey', label='Validation')\n",
    "ax.bar(r2, test_recalls, color='#2ca02c',\n",
    "       width=bar_width, edgecolor='grey', label='Test')\n",
    "\n",
    "# Set chart title and axis labels\n",
    "ax.set_title('Comparison of Recall for Three Models', fontsize=14)\n",
    "ax.set_xlabel('Model', fontsize=12)\n",
    "ax.set_ylabel('Recall', fontsize=12)\n",
    "ax.set_xticks([r + bar_width/2 for r in range(len(models))])\n",
    "ax.set_xticklabels(models, fontsize=11)\n",
    "\n",
    "# Set axis tick font size\n",
    "ax.tick_params(axis='both', which='major', labelsize=10)\n",
    "\n",
    "# Add legend\n",
    "ax.legend(fontsize=10)\n",
    "\n",
    "# Adjust figure padding\n",
    "fig.tight_layout()\n",
    "\n",
    "# Display the chart\n",
    "plt.show();\n"
   ]
  },
  {
   "cell_type": "code",
   "execution_count": 103,
   "metadata": {},
   "outputs": [],
   "source": [
    "# File Output\n",
    "three_recall_bar_chart_name = 'three_models_recall_bar_chart.png'\n",
    "three_recall_bar_chart_file_path = 'Data/Data_visualization_folders/modelling_results/' + \\\n",
    "    three_recall_bar_chart_name\n",
    "if os.path.exists(three_recall_bar_chart_name):\n",
    "    os.remove(three_recall_bar_chart_name)\n",
    "    # Save the plot to a file\n",
    "    fig.savefig(three_recall_bar_chart_file_path, dpi=300, bbox_inches='tight')\n",
    "else:\n",
    "    # Save the plot to a file\n",
    "    fig.savefig(three_recall_bar_chart_file_path, dpi=300, bbox_inches='tight')"
   ]
  },
  {
   "attachments": {},
   "cell_type": "markdown",
   "metadata": {},
   "source": [
    "#### [BAR CHART: Compare average validation and test ‘F1-score’ for 3 models]"
   ]
  },
  {
   "cell_type": "code",
   "execution_count": 104,
   "metadata": {},
   "outputs": [
    {
     "data": {
      "image/png": "[encoded data removed]",
      "text/plain": [
       "<Figure size 432x288 with 1 Axes>"
      ]
     },
     "metadata": {
      "needs_background": "light"
     },
     "output_type": "display_data"
    }
   ],
   "source": [
    "# Extract the recall values for each model\n",
    "xgb_val_recall = df_full_confusion_table.loc['Average Validation F1',\n",
    "                                             'XGBoost Results']\n",
    "xgb_test_recall = df_full_confusion_table.loc['Test F1', 'XGBoost Results']\n",
    "rf_val_recall = df_full_confusion_table.loc['Average Validation F1',\n",
    "                                            'Random Forest Results']\n",
    "rf_test_recall = df_full_confusion_table.loc['Test F1',\n",
    "                                             'Random Forest Results']\n",
    "dt_val_recall = df_full_confusion_table.loc['Average Validation F1',\n",
    "                                            'Decision Tree Results']\n",
    "dt_test_recall = df_full_confusion_table.loc['Test F1',\n",
    "                                             'Decision Tree Results']\n",
    "\n",
    "# Create a bar chart\n",
    "models = ['XGBoost', 'Random Forest', 'Decision Tree']\n",
    "val_recalls = [xgb_val_recall, rf_val_recall, dt_val_recall]\n",
    "test_recalls = [xgb_test_recall, rf_test_recall, dt_test_recall]\n",
    "bar_width = 0.35\n",
    "r1 = np.arange(len(models))\n",
    "r2 = [x + bar_width for x in r1]\n",
    "\n",
    "fig, ax = plt.subplots()\n",
    "ax.bar(r1, val_recalls, color='#1f77b4', width=bar_width,\n",
    "       edgecolor='grey', label='Validation')\n",
    "ax.bar(r2, test_recalls, color='#2ca02c',\n",
    "       width=bar_width, edgecolor='grey', label='Test')\n",
    "\n",
    "# Set chart title and axis labels\n",
    "ax.set_title('Comparison of F1-Score for Three Models', fontsize=14)\n",
    "ax.set_xlabel('Model', fontsize=12)\n",
    "ax.set_ylabel('Recall', fontsize=12)\n",
    "ax.set_xticks([r + bar_width/2 for r in range(len(models))])\n",
    "ax.set_xticklabels(models, fontsize=11)\n",
    "\n",
    "# Set axis tick font size\n",
    "ax.tick_params(axis='both', which='major', labelsize=10)\n",
    "\n",
    "# Add legend\n",
    "ax.legend(fontsize=10)\n",
    "\n",
    "# Adjust figure padding\n",
    "fig.tight_layout()\n",
    "\n",
    "# Display the chart\n",
    "plt.show();"
   ]
  },
  {
   "cell_type": "code",
   "execution_count": 105,
   "metadata": {},
   "outputs": [],
   "source": [
    "# File Output\n",
    "three_f1_bar_chart_name = 'three_models_f1_bar_chart.png'\n",
    "three_f1_bar_chart_file_path = 'Data/Data_visualization_folders/modelling_results/' + \\\n",
    "    three_f1_bar_chart_name\n",
    "if os.path.exists(three_f1_bar_chart_name):\n",
    "    os.remove(three_f1_bar_chart_name)\n",
    "    # Save the plot to a file\n",
    "    fig.savefig(three_f1_bar_chart_file_path, dpi=300, bbox_inches='tight')\n",
    "else:\n",
    "    # Save the plot to a file\n",
    "    fig.savefig(three_f1_bar_chart_file_path, dpi=300, bbox_inches='tight')"
   ]
  },
  {
   "attachments": {},
   "cell_type": "markdown",
   "metadata": {},
   "source": [
    "#### [ROC-AUC (One vs Rest) CURVE: Compare the ROC-AUC curve for each model]"
   ]
  },
  {
   "cell_type": "code",
   "execution_count": 106,
   "metadata": {},
   "outputs": [],
   "source": [
    "dt_roc = pd.read_csv(\n",
    "    'Data/Data_visualization_folders/modelling_results/dt_roc.csv', index_col=0)\n",
    "rfc_roc = pd.read_csv(\n",
    "    'Data/Data_visualization_folders/modelling_results/rfc_roc.csv', index_col=0)\n",
    "xgb_roc = pd.read_csv(\n",
    "    'Data/Data_visualization_folders/modelling_results/xgb_roc.csv', index_col=0)"
   ]
  },
  {
   "cell_type": "code",
   "execution_count": 107,
   "metadata": {},
   "outputs": [
    {
     "data": {
      "image/png": "[encoded data removed]",
      "text/plain": [
       "<Figure size 576x432 with 1 Axes>"
      ]
     },
     "metadata": {
      "needs_background": "light"
     },
     "output_type": "display_data"
    }
   ],
   "source": [
    "fig, ax = plt.subplots(figsize=(8, 6))\n",
    "\n",
    "# Plot ROC curves for three models\n",
    "plt.plot(xgb_roc[\"XGBoost False Positive Rate\"], xgb_roc[\"XGBoost True Positive Rate\"],\n",
    "         label=\"XGBoost\", color=\"blue\", linewidth=2)\n",
    "plt.plot(rfc_roc[\"Random Forest False Positive Rate\"], rfc_roc[\"Random Forest True Positive Rate\"],\n",
    "         label=\"Random Forest\", color=\"green\", linewidth=2)\n",
    "plt.plot(dt_roc[\"Decision Tree False Positive Rate\"], dt_roc[\"Decision Tree True Positive Rate\"],\n",
    "         label=\"Decision Tree\", color=\"red\", linewidth=2)\n",
    "\n",
    "# Plot ROC curve for chance level\n",
    "plt.plot([0, 1], [0, 1], \"k--\", label=\"ROC curve for chance level (AUC = 0.5)\")\n",
    "\n",
    "# Set plot title and axis labels\n",
    "plt.title(\"ROC-AUC (One vs Rest) Curves - Macro Average\")\n",
    "plt.xlabel(\"False Positive Rate\")\n",
    "plt.ylabel(\"True Positive Rate\")\n",
    "\n",
    "# Add legend\n",
    "plt.legend()\n",
    "\n",
    "# Display the plot\n",
    "plt.show();\n"
   ]
  },
  {
   "cell_type": "code",
   "execution_count": 108,
   "metadata": {},
   "outputs": [],
   "source": [
    "# File Output\n",
    "three_roc_file_name = 'three_roc_curve.png'\n",
    "three_roc_file_path = 'Data/Data_visualization_folders/modelling_results/' + \\\n",
    "    three_roc_file_name\n",
    "if os.path.exists(three_roc_file_name):\n",
    "    os.remove(three_roc_file_name)\n",
    "    # Save the plot to a file\n",
    "    fig.savefig(three_roc_file_path, dpi=300, bbox_inches='tight')\n",
    "else:\n",
    "    # Save the plot to a file\n",
    "    fig.savefig(three_roc_file_path, dpi=300, bbox_inches='tight')"
   ]
  },
  {
   "attachments": {},
   "cell_type": "markdown",
   "metadata": {},
   "source": [
    "#### [XGBoost - MAP (HEAT MAP): Percentage of mislabeled fire-risk for ‘TEST’ months per grid ]"
   ]
  },
  {
   "cell_type": "code",
   "execution_count": 109,
   "metadata": {},
   "outputs": [],
   "source": [
    "df_xgb_test_combined = pd.read_csv('Data/Data_visualization_folders/modelling_results/xgb_test_combined.csv', index_col=0)"
   ]
  },
  {
   "cell_type": "code",
   "execution_count": 110,
   "metadata": {},
   "outputs": [],
   "source": [
    "df_xgb_test_combined_count = df_xgb_test_combined.groupby('1000_GRID_ID')[\n",
    "    'COMPARAISON_FIRE_RISK_1_MONTH_FORWARD_SHIFT'].count().reset_index(name='TOTAL_COUNT')\n",
    "df_xgb_test_combined_false_counts = df_xgb_test_combined.groupby('1000_GRID_ID')[\n",
    "    'COMPARAISON_FIRE_RISK_1_MONTH_FORWARD_SHIFT'].apply(lambda x: (x == False).sum()).reset_index(name='FALSE_COUNT')\n",
    "df_xgb_test_combined_false_percents = pd.merge(\n",
    "    df_xgb_test_combined_false_counts, df_xgb_test_combined_count, on='1000_GRID_ID')\n",
    "df_xgb_test_combined_false_percents['FALSE_PERCENT'] = df_xgb_test_combined_false_percents['FALSE_COUNT'] / \\\n",
    "    df_xgb_test_combined_false_percents['TOTAL_COUNT'] * 100"
   ]
  },
  {
   "cell_type": "code",
   "execution_count": 111,
   "metadata": {},
   "outputs": [
    {
     "data": {
      "text/html": [
       "<div>\n",
       "<style scoped>\n",
       "    .dataframe tbody tr th:only-of-type {\n",
       "        vertical-align: middle;\n",
       "    }\n",
       "\n",
       "    .dataframe tbody tr th {\n",
       "        vertical-align: top;\n",
       "    }\n",
       "\n",
       "    .dataframe thead th {\n",
       "        text-align: right;\n",
       "    }\n",
       "</style>\n",
       "<table border=\"1\" class=\"dataframe\">\n",
       "  <thead>\n",
       "    <tr style=\"text-align: right;\">\n",
       "      <th></th>\n",
       "      <th>1000_GRID_ID</th>\n",
       "      <th>FALSE_COUNT</th>\n",
       "      <th>TOTAL_COUNT</th>\n",
       "      <th>FALSE_PERCENT</th>\n",
       "    </tr>\n",
       "  </thead>\n",
       "  <tbody>\n",
       "    <tr>\n",
       "      <th>count</th>\n",
       "      <td>714</td>\n",
       "      <td>714.000000</td>\n",
       "      <td>714.0</td>\n",
       "      <td>714.000000</td>\n",
       "    </tr>\n",
       "    <tr>\n",
       "      <th>unique</th>\n",
       "      <td>714</td>\n",
       "      <td>NaN</td>\n",
       "      <td>NaN</td>\n",
       "      <td>NaN</td>\n",
       "    </tr>\n",
       "    <tr>\n",
       "      <th>top</th>\n",
       "      <td>eZk6XrHE1zw=</td>\n",
       "      <td>NaN</td>\n",
       "      <td>NaN</td>\n",
       "      <td>NaN</td>\n",
       "    </tr>\n",
       "    <tr>\n",
       "      <th>freq</th>\n",
       "      <td>1</td>\n",
       "      <td>NaN</td>\n",
       "      <td>NaN</td>\n",
       "      <td>NaN</td>\n",
       "    </tr>\n",
       "    <tr>\n",
       "      <th>mean</th>\n",
       "      <td>NaN</td>\n",
       "      <td>0.448179</td>\n",
       "      <td>5.0</td>\n",
       "      <td>8.963585</td>\n",
       "    </tr>\n",
       "    <tr>\n",
       "      <th>std</th>\n",
       "      <td>NaN</td>\n",
       "      <td>0.812406</td>\n",
       "      <td>0.0</td>\n",
       "      <td>16.248122</td>\n",
       "    </tr>\n",
       "    <tr>\n",
       "      <th>min</th>\n",
       "      <td>NaN</td>\n",
       "      <td>0.000000</td>\n",
       "      <td>5.0</td>\n",
       "      <td>0.000000</td>\n",
       "    </tr>\n",
       "    <tr>\n",
       "      <th>25%</th>\n",
       "      <td>NaN</td>\n",
       "      <td>0.000000</td>\n",
       "      <td>5.0</td>\n",
       "      <td>0.000000</td>\n",
       "    </tr>\n",
       "    <tr>\n",
       "      <th>50%</th>\n",
       "      <td>NaN</td>\n",
       "      <td>0.000000</td>\n",
       "      <td>5.0</td>\n",
       "      <td>0.000000</td>\n",
       "    </tr>\n",
       "    <tr>\n",
       "      <th>75%</th>\n",
       "      <td>NaN</td>\n",
       "      <td>1.000000</td>\n",
       "      <td>5.0</td>\n",
       "      <td>20.000000</td>\n",
       "    </tr>\n",
       "    <tr>\n",
       "      <th>max</th>\n",
       "      <td>NaN</td>\n",
       "      <td>4.000000</td>\n",
       "      <td>5.0</td>\n",
       "      <td>80.000000</td>\n",
       "    </tr>\n",
       "  </tbody>\n",
       "</table>\n",
       "</div>"
      ],
      "text/plain": [
       "        1000_GRID_ID  FALSE_COUNT  TOTAL_COUNT  FALSE_PERCENT\n",
       "count            714   714.000000        714.0     714.000000\n",
       "unique           714          NaN          NaN            NaN\n",
       "top     eZk6XrHE1zw=          NaN          NaN            NaN\n",
       "freq               1          NaN          NaN            NaN\n",
       "mean             NaN     0.448179          5.0       8.963585\n",
       "std              NaN     0.812406          0.0      16.248122\n",
       "min              NaN     0.000000          5.0       0.000000\n",
       "25%              NaN     0.000000          5.0       0.000000\n",
       "50%              NaN     0.000000          5.0       0.000000\n",
       "75%              NaN     1.000000          5.0      20.000000\n",
       "max              NaN     4.000000          5.0      80.000000"
      ]
     },
     "execution_count": 111,
     "metadata": {},
     "output_type": "execute_result"
    }
   ],
   "source": [
    "df_xgb_test_combined_false_percents.describe(include='all')"
   ]
  },
  {
   "cell_type": "code",
   "execution_count": 112,
   "metadata": {},
   "outputs": [],
   "source": [
    "merged_df_xgb_test_combined_false_percents = gdf.merge(df_xgb_test_combined_false_percents,\n",
    "                                          left_on='grid_id', right_on='1000_GRID_ID')"
   ]
  },
  {
   "cell_type": "code",
   "execution_count": 113,
   "metadata": {},
   "outputs": [
    {
     "name": "stderr",
     "output_type": "stream",
     "text": [
      "<ipython-input-113-e86346faf7b0>:1: UserWarning: Column names longer than 10 characters will be truncated when saved to ESRI Shapefile.\n",
      "  merged_df_xgb_test_combined_false_percents.to_file('Data/Data_visualization_folders/modelling_results/merged_df_xgb_test_combined_false_percents.shp',\n"
     ]
    }
   ],
   "source": [
    "merged_df_xgb_test_combined_false_percents.to_file('Data/Data_visualization_folders/modelling_results/merged_df_xgb_test_combined_false_percents.shp',\n",
    "                                      driver='ESRI Shapefile', encoding='utf-8')"
   ]
  },
  {
   "attachments": {},
   "cell_type": "markdown",
   "metadata": {},
   "source": [
    "#### [Random Forest - MAP (HEAT MAP): Percentage of mislabeled fire-risk for ‘TEST’ months per grid ]"
   ]
  },
  {
   "cell_type": "code",
   "execution_count": 114,
   "metadata": {},
   "outputs": [],
   "source": [
    "df_rfc_test_combined = pd.read_csv(\n",
    "    'Data/Data_visualization_folders/modelling_results/rfc_test_combined.csv', index_col=0)"
   ]
  },
  {
   "cell_type": "code",
   "execution_count": 115,
   "metadata": {},
   "outputs": [],
   "source": [
    "df_rfc_test_combined_count = df_rfc_test_combined.groupby('1000_GRID_ID')[\n",
    "    'COMPARAISON_FIRE_RISK_1_MONTH_FORWARD_SHIFT'].count().reset_index(name='TOTAL_COUNT')\n",
    "df_rfc_test_combined_false_counts = df_rfc_test_combined.groupby('1000_GRID_ID')[\n",
    "    'COMPARAISON_FIRE_RISK_1_MONTH_FORWARD_SHIFT'].apply(lambda x: (x == False).sum()).reset_index(name='FALSE_COUNT')\n",
    "df_rfc_test_combined_false_percents = pd.merge(\n",
    "    df_rfc_test_combined_false_counts, df_rfc_test_combined_count, on='1000_GRID_ID')\n",
    "df_rfc_test_combined_false_percents['FALSE_PERCENT'] = df_rfc_test_combined_false_percents['FALSE_COUNT'] / \\\n",
    "    df_rfc_test_combined_false_percents['TOTAL_COUNT'] * 100"
   ]
  },
  {
   "cell_type": "code",
   "execution_count": 116,
   "metadata": {},
   "outputs": [
    {
     "data": {
      "text/html": [
       "<div>\n",
       "<style scoped>\n",
       "    .dataframe tbody tr th:only-of-type {\n",
       "        vertical-align: middle;\n",
       "    }\n",
       "\n",
       "    .dataframe tbody tr th {\n",
       "        vertical-align: top;\n",
       "    }\n",
       "\n",
       "    .dataframe thead th {\n",
       "        text-align: right;\n",
       "    }\n",
       "</style>\n",
       "<table border=\"1\" class=\"dataframe\">\n",
       "  <thead>\n",
       "    <tr style=\"text-align: right;\">\n",
       "      <th></th>\n",
       "      <th>1000_GRID_ID</th>\n",
       "      <th>FALSE_COUNT</th>\n",
       "      <th>TOTAL_COUNT</th>\n",
       "      <th>FALSE_PERCENT</th>\n",
       "    </tr>\n",
       "  </thead>\n",
       "  <tbody>\n",
       "    <tr>\n",
       "      <th>count</th>\n",
       "      <td>714</td>\n",
       "      <td>714.000000</td>\n",
       "      <td>714.0</td>\n",
       "      <td>714.000000</td>\n",
       "    </tr>\n",
       "    <tr>\n",
       "      <th>unique</th>\n",
       "      <td>714</td>\n",
       "      <td>NaN</td>\n",
       "      <td>NaN</td>\n",
       "      <td>NaN</td>\n",
       "    </tr>\n",
       "    <tr>\n",
       "      <th>top</th>\n",
       "      <td>eZk6XrHE1zw=</td>\n",
       "      <td>NaN</td>\n",
       "      <td>NaN</td>\n",
       "      <td>NaN</td>\n",
       "    </tr>\n",
       "    <tr>\n",
       "      <th>freq</th>\n",
       "      <td>1</td>\n",
       "      <td>NaN</td>\n",
       "      <td>NaN</td>\n",
       "      <td>NaN</td>\n",
       "    </tr>\n",
       "    <tr>\n",
       "      <th>mean</th>\n",
       "      <td>NaN</td>\n",
       "      <td>0.521008</td>\n",
       "      <td>5.0</td>\n",
       "      <td>10.420168</td>\n",
       "    </tr>\n",
       "    <tr>\n",
       "      <th>std</th>\n",
       "      <td>NaN</td>\n",
       "      <td>0.935647</td>\n",
       "      <td>0.0</td>\n",
       "      <td>18.712932</td>\n",
       "    </tr>\n",
       "    <tr>\n",
       "      <th>min</th>\n",
       "      <td>NaN</td>\n",
       "      <td>0.000000</td>\n",
       "      <td>5.0</td>\n",
       "      <td>0.000000</td>\n",
       "    </tr>\n",
       "    <tr>\n",
       "      <th>25%</th>\n",
       "      <td>NaN</td>\n",
       "      <td>0.000000</td>\n",
       "      <td>5.0</td>\n",
       "      <td>0.000000</td>\n",
       "    </tr>\n",
       "    <tr>\n",
       "      <th>50%</th>\n",
       "      <td>NaN</td>\n",
       "      <td>0.000000</td>\n",
       "      <td>5.0</td>\n",
       "      <td>0.000000</td>\n",
       "    </tr>\n",
       "    <tr>\n",
       "      <th>75%</th>\n",
       "      <td>NaN</td>\n",
       "      <td>1.000000</td>\n",
       "      <td>5.0</td>\n",
       "      <td>20.000000</td>\n",
       "    </tr>\n",
       "    <tr>\n",
       "      <th>max</th>\n",
       "      <td>NaN</td>\n",
       "      <td>4.000000</td>\n",
       "      <td>5.0</td>\n",
       "      <td>80.000000</td>\n",
       "    </tr>\n",
       "  </tbody>\n",
       "</table>\n",
       "</div>"
      ],
      "text/plain": [
       "        1000_GRID_ID  FALSE_COUNT  TOTAL_COUNT  FALSE_PERCENT\n",
       "count            714   714.000000        714.0     714.000000\n",
       "unique           714          NaN          NaN            NaN\n",
       "top     eZk6XrHE1zw=          NaN          NaN            NaN\n",
       "freq               1          NaN          NaN            NaN\n",
       "mean             NaN     0.521008          5.0      10.420168\n",
       "std              NaN     0.935647          0.0      18.712932\n",
       "min              NaN     0.000000          5.0       0.000000\n",
       "25%              NaN     0.000000          5.0       0.000000\n",
       "50%              NaN     0.000000          5.0       0.000000\n",
       "75%              NaN     1.000000          5.0      20.000000\n",
       "max              NaN     4.000000          5.0      80.000000"
      ]
     },
     "execution_count": 116,
     "metadata": {},
     "output_type": "execute_result"
    }
   ],
   "source": [
    "df_rfc_test_combined_false_percents.describe(include='all')"
   ]
  },
  {
   "cell_type": "code",
   "execution_count": 117,
   "metadata": {},
   "outputs": [],
   "source": [
    "merged_df_rfc_test_combined_false_percents = gdf.merge(df_rfc_test_combined_false_percents,\n",
    "                                                       left_on='grid_id', right_on='1000_GRID_ID')"
   ]
  },
  {
   "cell_type": "code",
   "execution_count": 118,
   "metadata": {},
   "outputs": [
    {
     "name": "stderr",
     "output_type": "stream",
     "text": [
      "<ipython-input-118-c7990cd36c4e>:1: UserWarning: Column names longer than 10 characters will be truncated when saved to ESRI Shapefile.\n",
      "  merged_df_rfc_test_combined_false_percents.to_file('Data/Data_visualization_folders/modelling_results/merged_df_rfc_test_combined_false_percents.shp',\n"
     ]
    }
   ],
   "source": [
    "merged_df_rfc_test_combined_false_percents.to_file('Data/Data_visualization_folders/modelling_results/merged_df_rfc_test_combined_false_percents.shp',\n",
    "                                                   driver='ESRI Shapefile', encoding='utf-8')"
   ]
  },
  {
   "attachments": {},
   "cell_type": "markdown",
   "metadata": {},
   "source": [
    "#### [Decision Tree - MAP (HEAT MAP): Percentage of mislabeled fire-risk for ‘TEST’ months per grid]"
   ]
  },
  {
   "cell_type": "code",
   "execution_count": 119,
   "metadata": {},
   "outputs": [],
   "source": [
    "df_dt_test_combined = pd.read_csv(\n",
    "    'Data/Data_visualization_folders/modelling_results/dt_test_combined.csv', index_col=0)"
   ]
  },
  {
   "cell_type": "code",
   "execution_count": 120,
   "metadata": {},
   "outputs": [],
   "source": [
    "df_dt_test_combined_count = df_dt_test_combined.groupby('1000_GRID_ID')[\n",
    "    'COMPARAISON_FIRE_RISK_1_MONTH_FORWARD_SHIFT'].count().reset_index(name='TOTAL_COUNT')\n",
    "df_dt_test_combined_false_counts = df_dt_test_combined.groupby('1000_GRID_ID')[\n",
    "    'COMPARAISON_FIRE_RISK_1_MONTH_FORWARD_SHIFT'].apply(lambda x: (x == False).sum()).reset_index(name='FALSE_COUNT')\n",
    "df_dt_test_combined_false_percents = pd.merge(\n",
    "    df_dt_test_combined_false_counts, df_dt_test_combined_count, on='1000_GRID_ID')\n",
    "df_dt_test_combined_false_percents['FALSE_PERCENT'] = df_dt_test_combined_false_percents['FALSE_COUNT'] / \\\n",
    "    df_dt_test_combined_false_percents['TOTAL_COUNT'] * 100"
   ]
  },
  {
   "cell_type": "code",
   "execution_count": 121,
   "metadata": {},
   "outputs": [
    {
     "data": {
      "text/html": [
       "<div>\n",
       "<style scoped>\n",
       "    .dataframe tbody tr th:only-of-type {\n",
       "        vertical-align: middle;\n",
       "    }\n",
       "\n",
       "    .dataframe tbody tr th {\n",
       "        vertical-align: top;\n",
       "    }\n",
       "\n",
       "    .dataframe thead th {\n",
       "        text-align: right;\n",
       "    }\n",
       "</style>\n",
       "<table border=\"1\" class=\"dataframe\">\n",
       "  <thead>\n",
       "    <tr style=\"text-align: right;\">\n",
       "      <th></th>\n",
       "      <th>1000_GRID_ID</th>\n",
       "      <th>FALSE_COUNT</th>\n",
       "      <th>TOTAL_COUNT</th>\n",
       "      <th>FALSE_PERCENT</th>\n",
       "    </tr>\n",
       "  </thead>\n",
       "  <tbody>\n",
       "    <tr>\n",
       "      <th>count</th>\n",
       "      <td>714</td>\n",
       "      <td>714.000000</td>\n",
       "      <td>714.0</td>\n",
       "      <td>714.000000</td>\n",
       "    </tr>\n",
       "    <tr>\n",
       "      <th>unique</th>\n",
       "      <td>714</td>\n",
       "      <td>NaN</td>\n",
       "      <td>NaN</td>\n",
       "      <td>NaN</td>\n",
       "    </tr>\n",
       "    <tr>\n",
       "      <th>top</th>\n",
       "      <td>eZk6XrHE1zw=</td>\n",
       "      <td>NaN</td>\n",
       "      <td>NaN</td>\n",
       "      <td>NaN</td>\n",
       "    </tr>\n",
       "    <tr>\n",
       "      <th>freq</th>\n",
       "      <td>1</td>\n",
       "      <td>NaN</td>\n",
       "      <td>NaN</td>\n",
       "      <td>NaN</td>\n",
       "    </tr>\n",
       "    <tr>\n",
       "      <th>mean</th>\n",
       "      <td>NaN</td>\n",
       "      <td>1.177871</td>\n",
       "      <td>5.0</td>\n",
       "      <td>23.557423</td>\n",
       "    </tr>\n",
       "    <tr>\n",
       "      <th>std</th>\n",
       "      <td>NaN</td>\n",
       "      <td>1.152113</td>\n",
       "      <td>0.0</td>\n",
       "      <td>23.042255</td>\n",
       "    </tr>\n",
       "    <tr>\n",
       "      <th>min</th>\n",
       "      <td>NaN</td>\n",
       "      <td>0.000000</td>\n",
       "      <td>5.0</td>\n",
       "      <td>0.000000</td>\n",
       "    </tr>\n",
       "    <tr>\n",
       "      <th>25%</th>\n",
       "      <td>NaN</td>\n",
       "      <td>0.000000</td>\n",
       "      <td>5.0</td>\n",
       "      <td>0.000000</td>\n",
       "    </tr>\n",
       "    <tr>\n",
       "      <th>50%</th>\n",
       "      <td>NaN</td>\n",
       "      <td>1.000000</td>\n",
       "      <td>5.0</td>\n",
       "      <td>20.000000</td>\n",
       "    </tr>\n",
       "    <tr>\n",
       "      <th>75%</th>\n",
       "      <td>NaN</td>\n",
       "      <td>2.000000</td>\n",
       "      <td>5.0</td>\n",
       "      <td>40.000000</td>\n",
       "    </tr>\n",
       "    <tr>\n",
       "      <th>max</th>\n",
       "      <td>NaN</td>\n",
       "      <td>5.000000</td>\n",
       "      <td>5.0</td>\n",
       "      <td>100.000000</td>\n",
       "    </tr>\n",
       "  </tbody>\n",
       "</table>\n",
       "</div>"
      ],
      "text/plain": [
       "        1000_GRID_ID  FALSE_COUNT  TOTAL_COUNT  FALSE_PERCENT\n",
       "count            714   714.000000        714.0     714.000000\n",
       "unique           714          NaN          NaN            NaN\n",
       "top     eZk6XrHE1zw=          NaN          NaN            NaN\n",
       "freq               1          NaN          NaN            NaN\n",
       "mean             NaN     1.177871          5.0      23.557423\n",
       "std              NaN     1.152113          0.0      23.042255\n",
       "min              NaN     0.000000          5.0       0.000000\n",
       "25%              NaN     0.000000          5.0       0.000000\n",
       "50%              NaN     1.000000          5.0      20.000000\n",
       "75%              NaN     2.000000          5.0      40.000000\n",
       "max              NaN     5.000000          5.0     100.000000"
      ]
     },
     "execution_count": 121,
     "metadata": {},
     "output_type": "execute_result"
    }
   ],
   "source": [
    "df_dt_test_combined_false_percents.describe(include='all')"
   ]
  },
  {
   "cell_type": "code",
   "execution_count": 122,
   "metadata": {},
   "outputs": [],
   "source": [
    "merged_df_dt_test_combined_false_percents = gdf.merge(df_dt_test_combined_false_percents,\n",
    "                                                       left_on='grid_id', right_on='1000_GRID_ID')"
   ]
  },
  {
   "cell_type": "code",
   "execution_count": 123,
   "metadata": {},
   "outputs": [
    {
     "name": "stderr",
     "output_type": "stream",
     "text": [
      "<ipython-input-123-7824e7349277>:1: UserWarning: Column names longer than 10 characters will be truncated when saved to ESRI Shapefile.\n",
      "  merged_df_dt_test_combined_false_percents.to_file('Data/Data_visualization_folders/modelling_results/merged_df_dt_test_combined_false_percents.shp',\n"
     ]
    }
   ],
   "source": [
    "merged_df_dt_test_combined_false_percents.to_file('Data/Data_visualization_folders/modelling_results/merged_df_dt_test_combined_false_percents.shp',\n",
    "                                                   driver='ESRI Shapefile', encoding='utf-8')"
   ]
  }
 ],
 "metadata": {
  "kernelspec": {
   "display_name": "Python 3",
   "language": "python",
   "name": "python3"
  },
  "language_info": {
   "codemirror_mode": {
    "name": "ipython",
    "version": 3
   },
   "file_extension": ".py",
   "mimetype": "text/x-python",
   "name": "python",
   "nbconvert_exporter": "python",
   "pygments_lexer": "ipython3",
   "version": "3.8.5"
  },
  "orig_nbformat": 4
 },
 "nbformat": 4,
 "nbformat_minor": 2
}
