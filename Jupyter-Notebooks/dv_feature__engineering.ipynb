{
 "cells": [
  {
   "cell_type": "code",
   "execution_count": 1,
   "metadata": {},
   "outputs": [
    {
     "name": "stderr",
     "output_type": "stream",
     "text": [
      "C:\\Users\\ajimp\\AppData\\Roaming\\Python\\Python38\\site-packages\\geopandas\\_compat.py:123: UserWarning: The Shapely GEOS version (3.11.1-CAPI-1.17.1) is incompatible with the GEOS version PyGEOS was compiled with (3.10.4-CAPI-1.16.2). Conversions between both will be slow.\n",
      "  warnings.warn(\n",
      "<ipython-input-1-bb86c12c1256>:3: UserWarning: Shapely 2.0 is installed, but because PyGEOS is also installed, GeoPandas will still use PyGEOS by default for now. To force to use and test Shapely 2.0, you have to set the environment variable USE_PYGEOS=0. You can do this before starting the Python process, or in your code before importing geopandas:\n",
      "\n",
      "import os\n",
      "os.environ['USE_PYGEOS'] = '0'\n",
      "import geopandas\n",
      "\n",
      "In a future release, GeoPandas will switch to using Shapely by default. If you are using PyGEOS directly (calling PyGEOS functions on geometries from GeoPandas), this will then stop working and you are encouraged to migrate from PyGEOS to Shapely 2.0 (https://shapely.readthedocs.io/en/latest/migration_pygeos.html).\n",
      "  import geopandas as gpd\n"
     ]
    }
   ],
   "source": [
    "import pandas as pd\n",
    "import os\n",
    "import geopandas as gpd"
   ]
  },
  {
   "attachments": {},
   "cell_type": "markdown",
   "metadata": {},
   "source": [
    "#### [SINGULAR HORIZENTAL BAR CHART: Binning for monthly and quarterly fire incidents per grid and month]"
   ]
  },
  {
   "cell_type": "code",
   "execution_count": 2,
   "metadata": {},
   "outputs": [
    {
     "data": {
      "image/png": "[encoded data removed]",
      "text/plain": [
       "<Figure size 576x144 with 1 Axes>"
      ]
     },
     "metadata": {
      "needs_background": "light"
     },
     "output_type": "display_data"
    }
   ],
   "source": [
    "import matplotlib.pyplot as plt\n",
    "import numpy as np\n",
    "\n",
    "# Define binning and labels\n",
    "bins = [0, 0.05, 0.2, 1]\n",
    "labels = ['High-Fire Risk', 'Medium-Fire Risk', 'Low-Fire Risk']\n",
    "\n",
    "# Define data for the stacked bar chart\n",
    "data = [0.05, 0.15, 0.8]\n",
    "\n",
    "# Define colors for each bin/label\n",
    "colors = ['red', 'orange', 'green']\n",
    "\n",
    "# Create horizontal stacked bar chart\n",
    "fig, ax = plt.subplots(figsize=(8, 2))\n",
    "ax.barh(y=0, width=data[0], color=colors[0], label=labels[0], edgecolor='none')\n",
    "ax.barh(y=0, left=data[0], width=data[1],\n",
    "        color=colors[1], label=labels[1], edgecolor='none')\n",
    "ax.barh(y=0, left=data[0] + data[1], width=data[2],\n",
    "        color=colors[2], label=labels[2], edgecolor='none')\n",
    "\n",
    "# Set chart title and axis labels\n",
    "plt.title('Fire Risk Binning')\n",
    "plt.yticks([])\n",
    "\n",
    "# Add legend below x-axis label\n",
    "plt.legend(loc='upper center', bbox_to_anchor=(0.5, -0.3), ncol=3)\n",
    "\n",
    "# Adjust spacing and display the chart\n",
    "plt.tight_layout()\n",
    "plt.show();"
   ]
  },
  {
   "cell_type": "code",
   "execution_count": 3,
   "metadata": {},
   "outputs": [],
   "source": [
    "# File Output\n",
    "binning_file_name = 'binning_curve.png'\n",
    "binning_file_path = 'Data/Data_visualization_folders/feature_engineering/' + \\\n",
    "    binning_file_name\n",
    "if os.path.exists(binning_file_name):\n",
    "    os.remove(binning_file_name)\n",
    "    # Save the plot to a file\n",
    "    fig.savefig(binning_file_path, dpi=300, bbox_inches='tight')\n",
    "else:\n",
    "    # Save the plot to a file\n",
    "    fig.savefig(binning_file_path, dpi=300, bbox_inches='tight')\n"
   ]
  },
  {
   "attachments": {},
   "cell_type": "markdown",
   "metadata": {},
   "source": [
    "#### [MAP (HEATMAP): Mode fire-risk level per grid & month]"
   ]
  },
  {
   "cell_type": "code",
   "execution_count": 4,
   "metadata": {},
   "outputs": [],
   "source": [
    "gdf = gpd.read_file('Data/Generated_grids/square_grids1000.shp')"
   ]
  },
  {
   "cell_type": "code",
   "execution_count": 5,
   "metadata": {},
   "outputs": [],
   "source": [
    "df_fe_combined_modified = pd.read_csv('Data/Processed_Datasets/Combined_tables/df_fe_combined.csv', index_col=0)"
   ]
  },
  {
   "cell_type": "code",
   "execution_count": 6,
   "metadata": {},
   "outputs": [],
   "source": [
    "# Group by grid and calculate mode of fire level\n",
    "df_mode_fire_level = df_fe_combined_modified.groupby('1000_GRID_ID')['FIRE_RISK'].apply(\n",
    "    lambda x: x.mode()[0]).rename('MODE_FIRE_RISK').reset_index()"
   ]
  },
  {
   "cell_type": "code",
   "execution_count": 7,
   "metadata": {},
   "outputs": [
    {
     "data": {
      "text/html": [
       "<div>\n",
       "<style scoped>\n",
       "    .dataframe tbody tr th:only-of-type {\n",
       "        vertical-align: middle;\n",
       "    }\n",
       "\n",
       "    .dataframe tbody tr th {\n",
       "        vertical-align: top;\n",
       "    }\n",
       "\n",
       "    .dataframe thead th {\n",
       "        text-align: right;\n",
       "    }\n",
       "</style>\n",
       "<table border=\"1\" class=\"dataframe\">\n",
       "  <thead>\n",
       "    <tr style=\"text-align: right;\">\n",
       "      <th></th>\n",
       "      <th>1000_GRID_ID</th>\n",
       "      <th>MODE_FIRE_RISK</th>\n",
       "    </tr>\n",
       "  </thead>\n",
       "  <tbody>\n",
       "    <tr>\n",
       "      <th>count</th>\n",
       "      <td>714</td>\n",
       "      <td>714</td>\n",
       "    </tr>\n",
       "    <tr>\n",
       "      <th>unique</th>\n",
       "      <td>714</td>\n",
       "      <td>3</td>\n",
       "    </tr>\n",
       "    <tr>\n",
       "      <th>top</th>\n",
       "      <td>PAqV45dPSFI=</td>\n",
       "      <td>2-Low Fire-Risk</td>\n",
       "    </tr>\n",
       "    <tr>\n",
       "      <th>freq</th>\n",
       "      <td>1</td>\n",
       "      <td>654</td>\n",
       "    </tr>\n",
       "  </tbody>\n",
       "</table>\n",
       "</div>"
      ],
      "text/plain": [
       "        1000_GRID_ID   MODE_FIRE_RISK\n",
       "count            714              714\n",
       "unique           714                3\n",
       "top     PAqV45dPSFI=  2-Low Fire-Risk\n",
       "freq               1              654"
      ]
     },
     "execution_count": 7,
     "metadata": {},
     "output_type": "execute_result"
    }
   ],
   "source": [
    "df_mode_fire_level.describe(include='all')"
   ]
  },
  {
   "cell_type": "code",
   "execution_count": 8,
   "metadata": {},
   "outputs": [],
   "source": [
    "merged_df_mode_fire_level = gdf.merge(df_mode_fire_level,\n",
    "                                           left_on='grid_id', right_on='1000_GRID_ID')"
   ]
  },
  {
   "cell_type": "code",
   "execution_count": 9,
   "metadata": {},
   "outputs": [
    {
     "name": "stderr",
     "output_type": "stream",
     "text": [
      "<ipython-input-9-c1523c696f5f>:1: UserWarning: Column names longer than 10 characters will be truncated when saved to ESRI Shapefile.\n",
      "  merged_df_mode_fire_level.to_file('Data/Data_visualization_folders/feature_engineering/merged_mode_fire_risk_level_per_grid.shp',\n"
     ]
    }
   ],
   "source": [
    "merged_df_mode_fire_level.to_file('Data/Data_visualization_folders/feature_engineering/merged_mode_fire_risk_level_per_grid.shp',\n",
    "                                       driver='ESRI Shapefile', encoding='utf-8')"
   ]
  }
 ],
 "metadata": {
  "kernelspec": {
   "display_name": "Python 3",
   "language": "python",
   "name": "python3"
  },
  "language_info": {
   "codemirror_mode": {
    "name": "ipython",
    "version": 3
   },
   "file_extension": ".py",
   "mimetype": "text/x-python",
   "name": "python",
   "nbconvert_exporter": "python",
   "pygments_lexer": "ipython3",
   "version": "3.8.5"
  },
  "orig_nbformat": 4
 },
 "nbformat": 4,
 "nbformat_minor": 2
}
