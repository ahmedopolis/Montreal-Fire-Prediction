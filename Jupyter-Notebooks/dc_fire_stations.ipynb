{
 "cells": [
  {
   "attachments": {},
   "cell_type": "markdown",
   "metadata": {},
   "source": [
    "# Imports"
   ]
  },
  {
   "cell_type": "code",
   "execution_count": 14,
   "metadata": {},
   "outputs": [],
   "source": [
    "import pandas as pd\n",
    "from datetime import datetime"
   ]
  },
  {
   "attachments": {},
   "cell_type": "markdown",
   "metadata": {},
   "source": [
    "# Data Cleaning"
   ]
  },
  {
   "cell_type": "code",
   "execution_count": 15,
   "metadata": {},
   "outputs": [],
   "source": [
    "df_fire_stations = pd.read_csv('Data/Fire_stations/casernes.csv')"
   ]
  },
  {
   "cell_type": "code",
   "execution_count": 16,
   "metadata": {},
   "outputs": [
    {
     "data": {
      "text/plain": [
       "Index(['CASERNE', 'NO_CIVIQUE', 'RUE', 'LATITUDE', 'LONGITUDE',\n",
       "       'ARRONDISSEMENT', 'VILLE', 'DATE_DEBUT', 'DATE_FIN', 'MTM8_X',\n",
       "       'MTM8_Y'],\n",
       "      dtype='object')"
      ]
     },
     "execution_count": 16,
     "metadata": {},
     "output_type": "execute_result"
    }
   ],
   "source": [
    "df_fire_stations.columns\n"
   ]
  },
  {
   "cell_type": "code",
   "execution_count": 17,
   "metadata": {},
   "outputs": [
    {
     "data": {
      "text/html": [
       "<div>\n",
       "<style scoped>\n",
       "    .dataframe tbody tr th:only-of-type {\n",
       "        vertical-align: middle;\n",
       "    }\n",
       "\n",
       "    .dataframe tbody tr th {\n",
       "        vertical-align: top;\n",
       "    }\n",
       "\n",
       "    .dataframe thead th {\n",
       "        text-align: right;\n",
       "    }\n",
       "</style>\n",
       "<table border=\"1\" class=\"dataframe\">\n",
       "  <thead>\n",
       "    <tr style=\"text-align: right;\">\n",
       "      <th></th>\n",
       "      <th>CASERNE</th>\n",
       "      <th>NO_CIVIQUE</th>\n",
       "      <th>RUE</th>\n",
       "      <th>LATITUDE</th>\n",
       "      <th>LONGITUDE</th>\n",
       "      <th>ARRONDISSEMENT</th>\n",
       "      <th>VILLE</th>\n",
       "      <th>DATE_DEBUT</th>\n",
       "      <th>DATE_FIN</th>\n",
       "      <th>MTM8_X</th>\n",
       "      <th>MTM8_Y</th>\n",
       "    </tr>\n",
       "  </thead>\n",
       "  <tbody>\n",
       "    <tr>\n",
       "      <th>0</th>\n",
       "      <td>3</td>\n",
       "      <td>256</td>\n",
       "      <td>rue  Young</td>\n",
       "      <td>45.493454</td>\n",
       "      <td>-73.560172</td>\n",
       "      <td>LE SUD-OUEST</td>\n",
       "      <td>NaN</td>\n",
       "      <td>2015-01-01T07:00:00</td>\n",
       "      <td>NaN</td>\n",
       "      <td>300097.0</td>\n",
       "      <td>5039283.0</td>\n",
       "    </tr>\n",
       "    <tr>\n",
       "      <th>1</th>\n",
       "      <td>15</td>\n",
       "      <td>1255</td>\n",
       "      <td>rue de la Sucrerie</td>\n",
       "      <td>45.484419</td>\n",
       "      <td>-73.560917</td>\n",
       "      <td>LE SUD-OUEST</td>\n",
       "      <td>NaN</td>\n",
       "      <td>2015-01-01T07:00:00</td>\n",
       "      <td>NaN</td>\n",
       "      <td>300038.0</td>\n",
       "      <td>5038279.0</td>\n",
       "    </tr>\n",
       "    <tr>\n",
       "      <th>2</th>\n",
       "      <td>23</td>\n",
       "      <td>523</td>\n",
       "      <td>place Saint-Henri</td>\n",
       "      <td>45.477820</td>\n",
       "      <td>-73.585257</td>\n",
       "      <td>LE SUD-OUEST</td>\n",
       "      <td>NaN</td>\n",
       "      <td>2015-01-01T07:00:00</td>\n",
       "      <td>NaN</td>\n",
       "      <td>298134.6</td>\n",
       "      <td>5037547.3</td>\n",
       "    </tr>\n",
       "    <tr>\n",
       "      <th>3</th>\n",
       "      <td>33</td>\n",
       "      <td>6040</td>\n",
       "      <td>boulevard Monk</td>\n",
       "      <td>45.457841</td>\n",
       "      <td>-73.595450</td>\n",
       "      <td>LE SUD-OUEST</td>\n",
       "      <td>NaN</td>\n",
       "      <td>2015-01-01T07:00:00</td>\n",
       "      <td>NaN</td>\n",
       "      <td>297335.0</td>\n",
       "      <td>5035328.0</td>\n",
       "    </tr>\n",
       "    <tr>\n",
       "      <th>4</th>\n",
       "      <td>9</td>\n",
       "      <td>8100</td>\n",
       "      <td>boulevard Saint-Michel</td>\n",
       "      <td>45.563748</td>\n",
       "      <td>-73.610169</td>\n",
       "      <td>VILLERAY-SAINT-MICHEL-PARC-EXTENSION</td>\n",
       "      <td>NaN</td>\n",
       "      <td>2019-05-06T07:00:00</td>\n",
       "      <td>NaN</td>\n",
       "      <td>296200.0</td>\n",
       "      <td>5047099.0</td>\n",
       "    </tr>\n",
       "  </tbody>\n",
       "</table>\n",
       "</div>"
      ],
      "text/plain": [
       "   CASERNE  NO_CIVIQUE                     RUE   LATITUDE  LONGITUDE  \\\n",
       "0        3         256              rue  Young  45.493454 -73.560172   \n",
       "1       15        1255      rue de la Sucrerie  45.484419 -73.560917   \n",
       "2       23         523       place Saint-Henri  45.477820 -73.585257   \n",
       "3       33        6040          boulevard Monk  45.457841 -73.595450   \n",
       "4        9        8100  boulevard Saint-Michel  45.563748 -73.610169   \n",
       "\n",
       "                         ARRONDISSEMENT VILLE           DATE_DEBUT DATE_FIN  \\\n",
       "0                          LE SUD-OUEST   NaN  2015-01-01T07:00:00      NaN   \n",
       "1                          LE SUD-OUEST   NaN  2015-01-01T07:00:00      NaN   \n",
       "2                          LE SUD-OUEST   NaN  2015-01-01T07:00:00      NaN   \n",
       "3                          LE SUD-OUEST   NaN  2015-01-01T07:00:00      NaN   \n",
       "4  VILLERAY-SAINT-MICHEL-PARC-EXTENSION   NaN  2019-05-06T07:00:00      NaN   \n",
       "\n",
       "     MTM8_X     MTM8_Y  \n",
       "0  300097.0  5039283.0  \n",
       "1  300038.0  5038279.0  \n",
       "2  298134.6  5037547.3  \n",
       "3  297335.0  5035328.0  \n",
       "4  296200.0  5047099.0  "
      ]
     },
     "execution_count": 17,
     "metadata": {},
     "output_type": "execute_result"
    }
   ],
   "source": [
    "df_fire_stations.head()\n"
   ]
  },
  {
   "cell_type": "code",
   "execution_count": 18,
   "metadata": {},
   "outputs": [
    {
     "data": {
      "text/plain": [
       "CASERNE             int64\n",
       "NO_CIVIQUE          int64\n",
       "RUE                object\n",
       "LATITUDE          float64\n",
       "LONGITUDE         float64\n",
       "ARRONDISSEMENT     object\n",
       "VILLE              object\n",
       "DATE_DEBUT         object\n",
       "DATE_FIN           object\n",
       "MTM8_X            float64\n",
       "MTM8_Y            float64\n",
       "dtype: object"
      ]
     },
     "execution_count": 18,
     "metadata": {},
     "output_type": "execute_result"
    }
   ],
   "source": [
    "df_fire_stations.dtypes\n"
   ]
  },
  {
   "attachments": {},
   "cell_type": "markdown",
   "metadata": {},
   "source": [
    "### Modify date columns"
   ]
  },
  {
   "cell_type": "code",
   "execution_count": 19,
   "metadata": {},
   "outputs": [],
   "source": [
    "df_fire_stations['DATE_DEBUT'] = pd.to_datetime(\n",
    "    df_fire_stations['DATE_DEBUT'])\n"
   ]
  },
  {
   "cell_type": "code",
   "execution_count": 20,
   "metadata": {},
   "outputs": [],
   "source": [
    "df_fire_stations = df_fire_stations.rename(\n",
    "    columns={'DATE_DEBUT': 'DATE'})"
   ]
  },
  {
   "cell_type": "code",
   "execution_count": 24,
   "metadata": {},
   "outputs": [],
   "source": [
    "df_fire_stations['DAY'] = df_fire_stations['DATE'].dt.strftime('%Y-%m-%d')\n",
    "df_fire_stations['MONTH'] = df_fire_stations['DATE'].dt.strftime('%Y-%m')\n",
    "df_fire_stations['YEAR'] = df_fire_stations['DATE'].dt.strftime('%Y')"
   ]
  },
  {
   "attachments": {},
   "cell_type": "markdown",
   "metadata": {},
   "source": [
    "### Other cleaning"
   ]
  },
  {
   "cell_type": "code",
   "execution_count": 21,
   "metadata": {},
   "outputs": [],
   "source": [
    "df_fire_stations = df_fire_stations.astype({'CASERNE': object})"
   ]
  },
  {
   "cell_type": "code",
   "execution_count": 22,
   "metadata": {},
   "outputs": [],
   "source": [
    "df_fire_stations = df_fire_stations.drop(['NO_CIVIQUE', 'RUE', 'ARRONDISSEMENT', 'VILLE', 'DATE_FIN', 'MTM8_X', 'MTM8_Y'], axis=1)\n"
   ]
  },
  {
   "cell_type": "code",
   "execution_count": 23,
   "metadata": {},
   "outputs": [
    {
     "data": {
      "text/plain": [
       "CASERNE              object\n",
       "LATITUDE            float64\n",
       "LONGITUDE           float64\n",
       "DATE         datetime64[ns]\n",
       "dtype: object"
      ]
     },
     "execution_count": 23,
     "metadata": {},
     "output_type": "execute_result"
    }
   ],
   "source": [
    "df_fire_stations.dtypes\n"
   ]
  },
  {
   "cell_type": "code",
   "execution_count": 25,
   "metadata": {},
   "outputs": [
    {
     "data": {
      "text/html": [
       "<div>\n",
       "<style scoped>\n",
       "    .dataframe tbody tr th:only-of-type {\n",
       "        vertical-align: middle;\n",
       "    }\n",
       "\n",
       "    .dataframe tbody tr th {\n",
       "        vertical-align: top;\n",
       "    }\n",
       "\n",
       "    .dataframe thead th {\n",
       "        text-align: right;\n",
       "    }\n",
       "</style>\n",
       "<table border=\"1\" class=\"dataframe\">\n",
       "  <thead>\n",
       "    <tr style=\"text-align: right;\">\n",
       "      <th></th>\n",
       "      <th>CASERNE</th>\n",
       "      <th>LATITUDE</th>\n",
       "      <th>LONGITUDE</th>\n",
       "      <th>DATE</th>\n",
       "      <th>DAY</th>\n",
       "      <th>MONTH</th>\n",
       "      <th>YEAR</th>\n",
       "    </tr>\n",
       "  </thead>\n",
       "  <tbody>\n",
       "    <tr>\n",
       "      <th>count</th>\n",
       "      <td>68.0</td>\n",
       "      <td>68.000000</td>\n",
       "      <td>68.000000</td>\n",
       "      <td>68</td>\n",
       "      <td>68</td>\n",
       "      <td>68</td>\n",
       "      <td>68</td>\n",
       "    </tr>\n",
       "    <tr>\n",
       "      <th>unique</th>\n",
       "      <td>68.0</td>\n",
       "      <td>NaN</td>\n",
       "      <td>NaN</td>\n",
       "      <td>NaN</td>\n",
       "      <td>3</td>\n",
       "      <td>3</td>\n",
       "      <td>3</td>\n",
       "    </tr>\n",
       "    <tr>\n",
       "      <th>top</th>\n",
       "      <td>79.0</td>\n",
       "      <td>NaN</td>\n",
       "      <td>NaN</td>\n",
       "      <td>NaN</td>\n",
       "      <td>2015-01-01</td>\n",
       "      <td>2015-01</td>\n",
       "      <td>2015</td>\n",
       "    </tr>\n",
       "    <tr>\n",
       "      <th>freq</th>\n",
       "      <td>1.0</td>\n",
       "      <td>NaN</td>\n",
       "      <td>NaN</td>\n",
       "      <td>NaN</td>\n",
       "      <td>57</td>\n",
       "      <td>57</td>\n",
       "      <td>57</td>\n",
       "    </tr>\n",
       "    <tr>\n",
       "      <th>mean</th>\n",
       "      <td>NaN</td>\n",
       "      <td>45.520471</td>\n",
       "      <td>-73.642306</td>\n",
       "      <td>2013-12-12 20:03:31.764707840</td>\n",
       "      <td>NaN</td>\n",
       "      <td>NaN</td>\n",
       "      <td>NaN</td>\n",
       "    </tr>\n",
       "    <tr>\n",
       "      <th>min</th>\n",
       "      <td>NaN</td>\n",
       "      <td>45.417779</td>\n",
       "      <td>-73.950016</td>\n",
       "      <td>1900-01-01 07:00:00</td>\n",
       "      <td>NaN</td>\n",
       "      <td>NaN</td>\n",
       "      <td>NaN</td>\n",
       "    </tr>\n",
       "    <tr>\n",
       "      <th>25%</th>\n",
       "      <td>NaN</td>\n",
       "      <td>45.477228</td>\n",
       "      <td>-73.672228</td>\n",
       "      <td>2015-01-01 07:00:00</td>\n",
       "      <td>NaN</td>\n",
       "      <td>NaN</td>\n",
       "      <td>NaN</td>\n",
       "    </tr>\n",
       "    <tr>\n",
       "      <th>50%</th>\n",
       "      <td>NaN</td>\n",
       "      <td>45.512427</td>\n",
       "      <td>-73.612212</td>\n",
       "      <td>2015-01-01 07:00:00</td>\n",
       "      <td>NaN</td>\n",
       "      <td>NaN</td>\n",
       "      <td>NaN</td>\n",
       "    </tr>\n",
       "    <tr>\n",
       "      <th>75%</th>\n",
       "      <td>NaN</td>\n",
       "      <td>45.549642</td>\n",
       "      <td>-73.565869</td>\n",
       "      <td>2015-01-01 07:00:00</td>\n",
       "      <td>NaN</td>\n",
       "      <td>NaN</td>\n",
       "      <td>NaN</td>\n",
       "    </tr>\n",
       "    <tr>\n",
       "      <th>max</th>\n",
       "      <td>NaN</td>\n",
       "      <td>45.697052</td>\n",
       "      <td>-73.492367</td>\n",
       "      <td>2019-05-06 07:00:00</td>\n",
       "      <td>NaN</td>\n",
       "      <td>NaN</td>\n",
       "      <td>NaN</td>\n",
       "    </tr>\n",
       "    <tr>\n",
       "      <th>std</th>\n",
       "      <td>NaN</td>\n",
       "      <td>0.061408</td>\n",
       "      <td>0.109840</td>\n",
       "      <td>NaN</td>\n",
       "      <td>NaN</td>\n",
       "      <td>NaN</td>\n",
       "      <td>NaN</td>\n",
       "    </tr>\n",
       "  </tbody>\n",
       "</table>\n",
       "</div>"
      ],
      "text/plain": [
       "        CASERNE   LATITUDE  LONGITUDE                           DATE  \\\n",
       "count      68.0  68.000000  68.000000                             68   \n",
       "unique     68.0        NaN        NaN                            NaN   \n",
       "top        79.0        NaN        NaN                            NaN   \n",
       "freq        1.0        NaN        NaN                            NaN   \n",
       "mean        NaN  45.520471 -73.642306  2013-12-12 20:03:31.764707840   \n",
       "min         NaN  45.417779 -73.950016            1900-01-01 07:00:00   \n",
       "25%         NaN  45.477228 -73.672228            2015-01-01 07:00:00   \n",
       "50%         NaN  45.512427 -73.612212            2015-01-01 07:00:00   \n",
       "75%         NaN  45.549642 -73.565869            2015-01-01 07:00:00   \n",
       "max         NaN  45.697052 -73.492367            2019-05-06 07:00:00   \n",
       "std         NaN   0.061408   0.109840                            NaN   \n",
       "\n",
       "               DAY    MONTH  YEAR  \n",
       "count           68       68    68  \n",
       "unique           3        3     3  \n",
       "top     2015-01-01  2015-01  2015  \n",
       "freq            57       57    57  \n",
       "mean           NaN      NaN   NaN  \n",
       "min            NaN      NaN   NaN  \n",
       "25%            NaN      NaN   NaN  \n",
       "50%            NaN      NaN   NaN  \n",
       "75%            NaN      NaN   NaN  \n",
       "max            NaN      NaN   NaN  \n",
       "std            NaN      NaN   NaN  "
      ]
     },
     "execution_count": 25,
     "metadata": {},
     "output_type": "execute_result"
    }
   ],
   "source": [
    "df_fire_stations.describe(include='all', datetime_is_numeric=True)"
   ]
  },
  {
   "cell_type": "code",
   "execution_count": 26,
   "metadata": {},
   "outputs": [
    {
     "data": {
      "text/plain": [
       "(68, 7)"
      ]
     },
     "execution_count": 26,
     "metadata": {},
     "output_type": "execute_result"
    }
   ],
   "source": [
    "df_fire_stations.shape"
   ]
  },
  {
   "cell_type": "code",
   "execution_count": 27,
   "metadata": {},
   "outputs": [],
   "source": [
    "df_fire_stations = df_fire_stations.sort_values([\n",
    "    'MONTH', 'DAY'])\n"
   ]
  },
  {
   "cell_type": "code",
   "execution_count": 28,
   "metadata": {},
   "outputs": [
    {
     "data": {
      "text/html": [
       "<div>\n",
       "<style scoped>\n",
       "    .dataframe tbody tr th:only-of-type {\n",
       "        vertical-align: middle;\n",
       "    }\n",
       "\n",
       "    .dataframe tbody tr th {\n",
       "        vertical-align: top;\n",
       "    }\n",
       "\n",
       "    .dataframe thead th {\n",
       "        text-align: right;\n",
       "    }\n",
       "</style>\n",
       "<table border=\"1\" class=\"dataframe\">\n",
       "  <thead>\n",
       "    <tr style=\"text-align: right;\">\n",
       "      <th></th>\n",
       "      <th>CASERNE</th>\n",
       "      <th>LATITUDE</th>\n",
       "      <th>LONGITUDE</th>\n",
       "      <th>DATE</th>\n",
       "      <th>DAY</th>\n",
       "      <th>MONTH</th>\n",
       "      <th>YEAR</th>\n",
       "    </tr>\n",
       "  </thead>\n",
       "  <tbody>\n",
       "    <tr>\n",
       "      <th>60</th>\n",
       "      <td>79</td>\n",
       "      <td>45.483487</td>\n",
       "      <td>-73.639332</td>\n",
       "      <td>1900-01-01 07:00:00</td>\n",
       "      <td>1900-01-01</td>\n",
       "      <td>1900-01</td>\n",
       "      <td>1900</td>\n",
       "    </tr>\n",
       "    <tr>\n",
       "      <th>0</th>\n",
       "      <td>3</td>\n",
       "      <td>45.493454</td>\n",
       "      <td>-73.560172</td>\n",
       "      <td>2015-01-01 07:00:00</td>\n",
       "      <td>2015-01-01</td>\n",
       "      <td>2015-01</td>\n",
       "      <td>2015</td>\n",
       "    </tr>\n",
       "    <tr>\n",
       "      <th>1</th>\n",
       "      <td>15</td>\n",
       "      <td>45.484419</td>\n",
       "      <td>-73.560917</td>\n",
       "      <td>2015-01-01 07:00:00</td>\n",
       "      <td>2015-01-01</td>\n",
       "      <td>2015-01</td>\n",
       "      <td>2015</td>\n",
       "    </tr>\n",
       "    <tr>\n",
       "      <th>2</th>\n",
       "      <td>23</td>\n",
       "      <td>45.477820</td>\n",
       "      <td>-73.585257</td>\n",
       "      <td>2015-01-01 07:00:00</td>\n",
       "      <td>2015-01-01</td>\n",
       "      <td>2015-01</td>\n",
       "      <td>2015</td>\n",
       "    </tr>\n",
       "    <tr>\n",
       "      <th>3</th>\n",
       "      <td>33</td>\n",
       "      <td>45.457841</td>\n",
       "      <td>-73.595450</td>\n",
       "      <td>2015-01-01 07:00:00</td>\n",
       "      <td>2015-01-01</td>\n",
       "      <td>2015-01</td>\n",
       "      <td>2015</td>\n",
       "    </tr>\n",
       "  </tbody>\n",
       "</table>\n",
       "</div>"
      ],
      "text/plain": [
       "   CASERNE   LATITUDE  LONGITUDE                DATE         DAY    MONTH  \\\n",
       "60      79  45.483487 -73.639332 1900-01-01 07:00:00  1900-01-01  1900-01   \n",
       "0        3  45.493454 -73.560172 2015-01-01 07:00:00  2015-01-01  2015-01   \n",
       "1       15  45.484419 -73.560917 2015-01-01 07:00:00  2015-01-01  2015-01   \n",
       "2       23  45.477820 -73.585257 2015-01-01 07:00:00  2015-01-01  2015-01   \n",
       "3       33  45.457841 -73.595450 2015-01-01 07:00:00  2015-01-01  2015-01   \n",
       "\n",
       "    YEAR  \n",
       "60  1900  \n",
       "0   2015  \n",
       "1   2015  \n",
       "2   2015  \n",
       "3   2015  "
      ]
     },
     "execution_count": 28,
     "metadata": {},
     "output_type": "execute_result"
    }
   ],
   "source": [
    "df_fire_stations.head()"
   ]
  },
  {
   "cell_type": "code",
   "execution_count": 29,
   "metadata": {},
   "outputs": [],
   "source": [
    "df_fire_stations.to_csv(\n",
    "    'Data/Processed_Datasets/Cleaned_datasets/df_fire_stations.csv')"
   ]
  }
 ],
 "metadata": {
  "kernelspec": {
   "display_name": "Python 3",
   "language": "python",
   "name": "python3"
  },
  "language_info": {
   "codemirror_mode": {
    "name": "ipython",
    "version": 3
   },
   "file_extension": ".py",
   "mimetype": "text/x-python",
   "name": "python",
   "nbconvert_exporter": "python",
   "pygments_lexer": "ipython3",
   "version": "3.8.5"
  },
  "orig_nbformat": 4,
  "vscode": {
   "interpreter": {
    "hash": "ad2bdc8ecc057115af97d19610ffacc2b4e99fae6737bb82f5d7fb13d2f2c186"
   }
  }
 },
 "nbformat": 4,
 "nbformat_minor": 2
}
