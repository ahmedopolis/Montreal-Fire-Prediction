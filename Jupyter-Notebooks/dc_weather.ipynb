{
 "cells": [
  {
   "attachments": {},
   "cell_type": "markdown",
   "metadata": {},
   "source": [
    "# Imports"
   ]
  },
  {
   "cell_type": "code",
   "execution_count": 1,
   "metadata": {},
   "outputs": [],
   "source": [
    "import pandas as pd\n",
    "from datetime import datetime, timedelta"
   ]
  },
  {
   "cell_type": "code",
   "execution_count": 2,
   "metadata": {},
   "outputs": [
    {
     "name": "stderr",
     "output_type": "stream",
     "text": [
      "C:\\Users\\ajimp\\AppData\\Roaming\\Python\\Python38\\site-packages\\geopandas\\_compat.py:123: UserWarning: The Shapely GEOS version (3.11.1-CAPI-1.17.1) is incompatible with the GEOS version PyGEOS was compiled with (3.10.4-CAPI-1.16.2). Conversions between both will be slow.\n",
      "  warnings.warn(\n",
      "<ipython-input-2-93708b63e478>:5: UserWarning: Shapely 2.0 is installed, but because PyGEOS is also installed, GeoPandas will still use PyGEOS by default for now. To force to use and test Shapely 2.0, you have to set the environment variable USE_PYGEOS=0. You can do this before starting the Python process, or in your code before importing geopandas:\n",
      "\n",
      "import os\n",
      "os.environ['USE_PYGEOS'] = '0'\n",
      "import geopandas\n",
      "\n",
      "In a future release, GeoPandas will switch to using Shapely by default. If you are using PyGEOS directly (calling PyGEOS functions on geometries from GeoPandas), this will then stop working and you are encouraged to migrate from PyGEOS to Shapely 2.0 (https://shapely.readthedocs.io/en/latest/migration_pygeos.html).\n",
      "  import geopandas as gpd\n"
     ]
    }
   ],
   "source": [
    "import time\n",
    "import os\n",
    "import base64\n",
    "import hashlib\n",
    "import geopandas as gpd\n",
    "import requests\n",
    "import re\n",
    "from dotenv import load_dotenv\n",
    "from shapely.geometry import Polygon, MultiPolygon, GeometryCollection, Point"
   ]
  },
  {
   "cell_type": "code",
   "execution_count": 3,
   "metadata": {},
   "outputs": [],
   "source": [
    "import numpy as np                           "
   ]
  },
  {
   "attachments": {},
   "cell_type": "markdown",
   "metadata": {},
   "source": [
    "# Data Collection"
   ]
  },
  {
   "cell_type": "code",
   "execution_count": 4,
   "metadata": {},
   "outputs": [],
   "source": [
    "df_weather = pd.read_csv('Data/Weather/open_meteo_historical_weather_data.csv')"
   ]
  },
  {
   "cell_type": "code",
   "execution_count": 5,
   "metadata": {},
   "outputs": [
    {
     "data": {
      "text/plain": [
       "Index(['time', 'temperature_2m_max (°C)', 'temperature_2m_min (°C)',\n",
       "       'temperature_2m_mean (°C)', 'apparent_temperature_max (°C)',\n",
       "       'apparent_temperature_min (°C)', 'apparent_temperature_mean (°C)',\n",
       "       'shortwave_radiation_sum (MJ/m²)', 'precipitation_sum (mm)',\n",
       "       'rain_sum (mm)', 'snowfall_sum (cm)', 'precipitation_hours (h)',\n",
       "       'windspeed_10m_max (km/h)', 'windgusts_10m_max (km/h)',\n",
       "       'winddirection_10m_dominant (°)', 'et0_fao_evapotranspiration (mm)'],\n",
       "      dtype='object')"
      ]
     },
     "execution_count": 5,
     "metadata": {},
     "output_type": "execute_result"
    }
   ],
   "source": [
    "df_weather.columns"
   ]
  },
  {
   "cell_type": "code",
   "execution_count": 6,
   "metadata": {},
   "outputs": [
    {
     "data": {
      "text/html": [
       "<div>\n",
       "<style scoped>\n",
       "    .dataframe tbody tr th:only-of-type {\n",
       "        vertical-align: middle;\n",
       "    }\n",
       "\n",
       "    .dataframe tbody tr th {\n",
       "        vertical-align: top;\n",
       "    }\n",
       "\n",
       "    .dataframe thead th {\n",
       "        text-align: right;\n",
       "    }\n",
       "</style>\n",
       "<table border=\"1\" class=\"dataframe\">\n",
       "  <thead>\n",
       "    <tr style=\"text-align: right;\">\n",
       "      <th></th>\n",
       "      <th>time</th>\n",
       "      <th>temperature_2m_max (°C)</th>\n",
       "      <th>temperature_2m_min (°C)</th>\n",
       "      <th>temperature_2m_mean (°C)</th>\n",
       "      <th>apparent_temperature_max (°C)</th>\n",
       "      <th>apparent_temperature_min (°C)</th>\n",
       "      <th>apparent_temperature_mean (°C)</th>\n",
       "      <th>shortwave_radiation_sum (MJ/m²)</th>\n",
       "      <th>precipitation_sum (mm)</th>\n",
       "      <th>rain_sum (mm)</th>\n",
       "      <th>snowfall_sum (cm)</th>\n",
       "      <th>precipitation_hours (h)</th>\n",
       "      <th>windspeed_10m_max (km/h)</th>\n",
       "      <th>windgusts_10m_max (km/h)</th>\n",
       "      <th>winddirection_10m_dominant (°)</th>\n",
       "      <th>et0_fao_evapotranspiration (mm)</th>\n",
       "    </tr>\n",
       "  </thead>\n",
       "  <tbody>\n",
       "    <tr>\n",
       "      <th>0</th>\n",
       "      <td>1420088400</td>\n",
       "      <td>-2.7</td>\n",
       "      <td>-8.2</td>\n",
       "      <td>-5.6</td>\n",
       "      <td>-14.4</td>\n",
       "      <td>-10.2</td>\n",
       "      <td>-12.4</td>\n",
       "      <td>3.82</td>\n",
       "      <td>1.1</td>\n",
       "      <td>0.0</td>\n",
       "      <td>0.91</td>\n",
       "      <td>6</td>\n",
       "      <td>33.2</td>\n",
       "      <td>67.7</td>\n",
       "      <td>228</td>\n",
       "      <td>0.63</td>\n",
       "    </tr>\n",
       "    <tr>\n",
       "      <th>1</th>\n",
       "      <td>1420174800</td>\n",
       "      <td>-4.6</td>\n",
       "      <td>-13.7</td>\n",
       "      <td>-9.0</td>\n",
       "      <td>-22.2</td>\n",
       "      <td>-10.6</td>\n",
       "      <td>-16.4</td>\n",
       "      <td>7.12</td>\n",
       "      <td>0.0</td>\n",
       "      <td>0.0</td>\n",
       "      <td>0.00</td>\n",
       "      <td>0</td>\n",
       "      <td>22.6</td>\n",
       "      <td>51.1</td>\n",
       "      <td>276</td>\n",
       "      <td>0.73</td>\n",
       "    </tr>\n",
       "    <tr>\n",
       "      <th>2</th>\n",
       "      <td>1420261200</td>\n",
       "      <td>-8.5</td>\n",
       "      <td>-16.5</td>\n",
       "      <td>-12.8</td>\n",
       "      <td>-24.0</td>\n",
       "      <td>-16.5</td>\n",
       "      <td>-20.9</td>\n",
       "      <td>4.32</td>\n",
       "      <td>8.7</td>\n",
       "      <td>0.0</td>\n",
       "      <td>6.09</td>\n",
       "      <td>10</td>\n",
       "      <td>17.4</td>\n",
       "      <td>33.5</td>\n",
       "      <td>55</td>\n",
       "      <td>0.28</td>\n",
       "    </tr>\n",
       "    <tr>\n",
       "      <th>3</th>\n",
       "      <td>1420347600</td>\n",
       "      <td>3.8</td>\n",
       "      <td>-7.6</td>\n",
       "      <td>-1.7</td>\n",
       "      <td>-15.9</td>\n",
       "      <td>-3.5</td>\n",
       "      <td>-9.9</td>\n",
       "      <td>0.64</td>\n",
       "      <td>19.7</td>\n",
       "      <td>9.0</td>\n",
       "      <td>7.49</td>\n",
       "      <td>19</td>\n",
       "      <td>25.9</td>\n",
       "      <td>56.9</td>\n",
       "      <td>12</td>\n",
       "      <td>0.14</td>\n",
       "    </tr>\n",
       "    <tr>\n",
       "      <th>4</th>\n",
       "      <td>1420434000</td>\n",
       "      <td>-5.5</td>\n",
       "      <td>-22.2</td>\n",
       "      <td>-15.6</td>\n",
       "      <td>-27.6</td>\n",
       "      <td>-13.5</td>\n",
       "      <td>-22.3</td>\n",
       "      <td>6.91</td>\n",
       "      <td>0.0</td>\n",
       "      <td>0.0</td>\n",
       "      <td>0.00</td>\n",
       "      <td>0</td>\n",
       "      <td>27.1</td>\n",
       "      <td>58.0</td>\n",
       "      <td>269</td>\n",
       "      <td>0.39</td>\n",
       "    </tr>\n",
       "  </tbody>\n",
       "</table>\n",
       "</div>"
      ],
      "text/plain": [
       "         time  temperature_2m_max (°C)  temperature_2m_min (°C)  \\\n",
       "0  1420088400                     -2.7                     -8.2   \n",
       "1  1420174800                     -4.6                    -13.7   \n",
       "2  1420261200                     -8.5                    -16.5   \n",
       "3  1420347600                      3.8                     -7.6   \n",
       "4  1420434000                     -5.5                    -22.2   \n",
       "\n",
       "   temperature_2m_mean (°C)  apparent_temperature_max (°C)  \\\n",
       "0                      -5.6                          -14.4   \n",
       "1                      -9.0                          -22.2   \n",
       "2                     -12.8                          -24.0   \n",
       "3                      -1.7                          -15.9   \n",
       "4                     -15.6                          -27.6   \n",
       "\n",
       "   apparent_temperature_min (°C)  apparent_temperature_mean (°C)  \\\n",
       "0                          -10.2                           -12.4   \n",
       "1                          -10.6                           -16.4   \n",
       "2                          -16.5                           -20.9   \n",
       "3                           -3.5                            -9.9   \n",
       "4                          -13.5                           -22.3   \n",
       "\n",
       "   shortwave_radiation_sum (MJ/m²)  precipitation_sum (mm)  rain_sum (mm)  \\\n",
       "0                             3.82                     1.1            0.0   \n",
       "1                             7.12                     0.0            0.0   \n",
       "2                             4.32                     8.7            0.0   \n",
       "3                             0.64                    19.7            9.0   \n",
       "4                             6.91                     0.0            0.0   \n",
       "\n",
       "   snowfall_sum (cm)  precipitation_hours (h)  windspeed_10m_max (km/h)  \\\n",
       "0               0.91                        6                      33.2   \n",
       "1               0.00                        0                      22.6   \n",
       "2               6.09                       10                      17.4   \n",
       "3               7.49                       19                      25.9   \n",
       "4               0.00                        0                      27.1   \n",
       "\n",
       "   windgusts_10m_max (km/h)  winddirection_10m_dominant (°)  \\\n",
       "0                      67.7                             228   \n",
       "1                      51.1                             276   \n",
       "2                      33.5                              55   \n",
       "3                      56.9                              12   \n",
       "4                      58.0                             269   \n",
       "\n",
       "   et0_fao_evapotranspiration (mm)  \n",
       "0                             0.63  \n",
       "1                             0.73  \n",
       "2                             0.28  \n",
       "3                             0.14  \n",
       "4                             0.39  "
      ]
     },
     "execution_count": 6,
     "metadata": {},
     "output_type": "execute_result"
    }
   ],
   "source": [
    "df_weather.head()"
   ]
  },
  {
   "cell_type": "code",
   "execution_count": 7,
   "metadata": {},
   "outputs": [
    {
     "data": {
      "text/plain": [
       "time                                 int64\n",
       "temperature_2m_max (°C)            float64\n",
       "temperature_2m_min (°C)            float64\n",
       "temperature_2m_mean (°C)           float64\n",
       "apparent_temperature_max (°C)      float64\n",
       "apparent_temperature_min (°C)      float64\n",
       "apparent_temperature_mean (°C)     float64\n",
       "shortwave_radiation_sum (MJ/m²)    float64\n",
       "precipitation_sum (mm)             float64\n",
       "rain_sum (mm)                      float64\n",
       "snowfall_sum (cm)                  float64\n",
       "precipitation_hours (h)              int64\n",
       "windspeed_10m_max (km/h)           float64\n",
       "windgusts_10m_max (km/h)           float64\n",
       "winddirection_10m_dominant (°)       int64\n",
       "et0_fao_evapotranspiration (mm)    float64\n",
       "dtype: object"
      ]
     },
     "execution_count": 7,
     "metadata": {},
     "output_type": "execute_result"
    }
   ],
   "source": [
    "df_weather.dtypes"
   ]
  },
  {
   "attachments": {},
   "cell_type": "markdown",
   "metadata": {},
   "source": [
    "# Data Cleaning"
   ]
  },
  {
   "attachments": {},
   "cell_type": "markdown",
   "metadata": {},
   "source": [
    "### Manipulate time data type"
   ]
  },
  {
   "cell_type": "code",
   "execution_count": 8,
   "metadata": {},
   "outputs": [],
   "source": [
    "df_weather['time'] = pd.to_datetime(df_weather['time'], unit='s')"
   ]
  },
  {
   "cell_type": "code",
   "execution_count": 9,
   "metadata": {},
   "outputs": [],
   "source": [
    "df_weather = df_weather.rename(columns={'time': 'DATE'})"
   ]
  },
  {
   "cell_type": "code",
   "execution_count": 10,
   "metadata": {},
   "outputs": [],
   "source": [
    "df_weather['DAY'] = df_weather['DATE'].dt.strftime('%Y-%m-%d')\n",
    "df_weather['MONTH'] = df_weather['DATE'].dt.strftime('%Y-%m')\n",
    "df_weather['YEAR'] = df_weather['DATE'].dt.strftime('%Y')"
   ]
  },
  {
   "cell_type": "code",
   "execution_count": 11,
   "metadata": {},
   "outputs": [
    {
     "data": {
      "text/html": [
       "<div>\n",
       "<style scoped>\n",
       "    .dataframe tbody tr th:only-of-type {\n",
       "        vertical-align: middle;\n",
       "    }\n",
       "\n",
       "    .dataframe tbody tr th {\n",
       "        vertical-align: top;\n",
       "    }\n",
       "\n",
       "    .dataframe thead th {\n",
       "        text-align: right;\n",
       "    }\n",
       "</style>\n",
       "<table border=\"1\" class=\"dataframe\">\n",
       "  <thead>\n",
       "    <tr style=\"text-align: right;\">\n",
       "      <th></th>\n",
       "      <th>DATE</th>\n",
       "      <th>temperature_2m_max (°C)</th>\n",
       "      <th>temperature_2m_min (°C)</th>\n",
       "      <th>temperature_2m_mean (°C)</th>\n",
       "      <th>apparent_temperature_max (°C)</th>\n",
       "      <th>apparent_temperature_min (°C)</th>\n",
       "      <th>apparent_temperature_mean (°C)</th>\n",
       "      <th>shortwave_radiation_sum (MJ/m²)</th>\n",
       "      <th>precipitation_sum (mm)</th>\n",
       "      <th>rain_sum (mm)</th>\n",
       "      <th>snowfall_sum (cm)</th>\n",
       "      <th>precipitation_hours (h)</th>\n",
       "      <th>windspeed_10m_max (km/h)</th>\n",
       "      <th>windgusts_10m_max (km/h)</th>\n",
       "      <th>winddirection_10m_dominant (°)</th>\n",
       "      <th>et0_fao_evapotranspiration (mm)</th>\n",
       "      <th>DAY</th>\n",
       "      <th>MONTH</th>\n",
       "      <th>YEAR</th>\n",
       "    </tr>\n",
       "  </thead>\n",
       "  <tbody>\n",
       "    <tr>\n",
       "      <th>0</th>\n",
       "      <td>2015-01-01 05:00:00</td>\n",
       "      <td>-2.7</td>\n",
       "      <td>-8.2</td>\n",
       "      <td>-5.6</td>\n",
       "      <td>-14.4</td>\n",
       "      <td>-10.2</td>\n",
       "      <td>-12.4</td>\n",
       "      <td>3.82</td>\n",
       "      <td>1.1</td>\n",
       "      <td>0.0</td>\n",
       "      <td>0.91</td>\n",
       "      <td>6</td>\n",
       "      <td>33.2</td>\n",
       "      <td>67.7</td>\n",
       "      <td>228</td>\n",
       "      <td>0.63</td>\n",
       "      <td>2015-01-01</td>\n",
       "      <td>2015-01</td>\n",
       "      <td>2015</td>\n",
       "    </tr>\n",
       "    <tr>\n",
       "      <th>1</th>\n",
       "      <td>2015-01-02 05:00:00</td>\n",
       "      <td>-4.6</td>\n",
       "      <td>-13.7</td>\n",
       "      <td>-9.0</td>\n",
       "      <td>-22.2</td>\n",
       "      <td>-10.6</td>\n",
       "      <td>-16.4</td>\n",
       "      <td>7.12</td>\n",
       "      <td>0.0</td>\n",
       "      <td>0.0</td>\n",
       "      <td>0.00</td>\n",
       "      <td>0</td>\n",
       "      <td>22.6</td>\n",
       "      <td>51.1</td>\n",
       "      <td>276</td>\n",
       "      <td>0.73</td>\n",
       "      <td>2015-01-02</td>\n",
       "      <td>2015-01</td>\n",
       "      <td>2015</td>\n",
       "    </tr>\n",
       "    <tr>\n",
       "      <th>2</th>\n",
       "      <td>2015-01-03 05:00:00</td>\n",
       "      <td>-8.5</td>\n",
       "      <td>-16.5</td>\n",
       "      <td>-12.8</td>\n",
       "      <td>-24.0</td>\n",
       "      <td>-16.5</td>\n",
       "      <td>-20.9</td>\n",
       "      <td>4.32</td>\n",
       "      <td>8.7</td>\n",
       "      <td>0.0</td>\n",
       "      <td>6.09</td>\n",
       "      <td>10</td>\n",
       "      <td>17.4</td>\n",
       "      <td>33.5</td>\n",
       "      <td>55</td>\n",
       "      <td>0.28</td>\n",
       "      <td>2015-01-03</td>\n",
       "      <td>2015-01</td>\n",
       "      <td>2015</td>\n",
       "    </tr>\n",
       "    <tr>\n",
       "      <th>3</th>\n",
       "      <td>2015-01-04 05:00:00</td>\n",
       "      <td>3.8</td>\n",
       "      <td>-7.6</td>\n",
       "      <td>-1.7</td>\n",
       "      <td>-15.9</td>\n",
       "      <td>-3.5</td>\n",
       "      <td>-9.9</td>\n",
       "      <td>0.64</td>\n",
       "      <td>19.7</td>\n",
       "      <td>9.0</td>\n",
       "      <td>7.49</td>\n",
       "      <td>19</td>\n",
       "      <td>25.9</td>\n",
       "      <td>56.9</td>\n",
       "      <td>12</td>\n",
       "      <td>0.14</td>\n",
       "      <td>2015-01-04</td>\n",
       "      <td>2015-01</td>\n",
       "      <td>2015</td>\n",
       "    </tr>\n",
       "    <tr>\n",
       "      <th>4</th>\n",
       "      <td>2015-01-05 05:00:00</td>\n",
       "      <td>-5.5</td>\n",
       "      <td>-22.2</td>\n",
       "      <td>-15.6</td>\n",
       "      <td>-27.6</td>\n",
       "      <td>-13.5</td>\n",
       "      <td>-22.3</td>\n",
       "      <td>6.91</td>\n",
       "      <td>0.0</td>\n",
       "      <td>0.0</td>\n",
       "      <td>0.00</td>\n",
       "      <td>0</td>\n",
       "      <td>27.1</td>\n",
       "      <td>58.0</td>\n",
       "      <td>269</td>\n",
       "      <td>0.39</td>\n",
       "      <td>2015-01-05</td>\n",
       "      <td>2015-01</td>\n",
       "      <td>2015</td>\n",
       "    </tr>\n",
       "  </tbody>\n",
       "</table>\n",
       "</div>"
      ],
      "text/plain": [
       "                 DATE  temperature_2m_max (°C)  temperature_2m_min (°C)  \\\n",
       "0 2015-01-01 05:00:00                     -2.7                     -8.2   \n",
       "1 2015-01-02 05:00:00                     -4.6                    -13.7   \n",
       "2 2015-01-03 05:00:00                     -8.5                    -16.5   \n",
       "3 2015-01-04 05:00:00                      3.8                     -7.6   \n",
       "4 2015-01-05 05:00:00                     -5.5                    -22.2   \n",
       "\n",
       "   temperature_2m_mean (°C)  apparent_temperature_max (°C)  \\\n",
       "0                      -5.6                          -14.4   \n",
       "1                      -9.0                          -22.2   \n",
       "2                     -12.8                          -24.0   \n",
       "3                      -1.7                          -15.9   \n",
       "4                     -15.6                          -27.6   \n",
       "\n",
       "   apparent_temperature_min (°C)  apparent_temperature_mean (°C)  \\\n",
       "0                          -10.2                           -12.4   \n",
       "1                          -10.6                           -16.4   \n",
       "2                          -16.5                           -20.9   \n",
       "3                           -3.5                            -9.9   \n",
       "4                          -13.5                           -22.3   \n",
       "\n",
       "   shortwave_radiation_sum (MJ/m²)  precipitation_sum (mm)  rain_sum (mm)  \\\n",
       "0                             3.82                     1.1            0.0   \n",
       "1                             7.12                     0.0            0.0   \n",
       "2                             4.32                     8.7            0.0   \n",
       "3                             0.64                    19.7            9.0   \n",
       "4                             6.91                     0.0            0.0   \n",
       "\n",
       "   snowfall_sum (cm)  precipitation_hours (h)  windspeed_10m_max (km/h)  \\\n",
       "0               0.91                        6                      33.2   \n",
       "1               0.00                        0                      22.6   \n",
       "2               6.09                       10                      17.4   \n",
       "3               7.49                       19                      25.9   \n",
       "4               0.00                        0                      27.1   \n",
       "\n",
       "   windgusts_10m_max (km/h)  winddirection_10m_dominant (°)  \\\n",
       "0                      67.7                             228   \n",
       "1                      51.1                             276   \n",
       "2                      33.5                              55   \n",
       "3                      56.9                              12   \n",
       "4                      58.0                             269   \n",
       "\n",
       "   et0_fao_evapotranspiration (mm)         DAY    MONTH  YEAR  \n",
       "0                             0.63  2015-01-01  2015-01  2015  \n",
       "1                             0.73  2015-01-02  2015-01  2015  \n",
       "2                             0.28  2015-01-03  2015-01  2015  \n",
       "3                             0.14  2015-01-04  2015-01  2015  \n",
       "4                             0.39  2015-01-05  2015-01  2015  "
      ]
     },
     "execution_count": 11,
     "metadata": {},
     "output_type": "execute_result"
    }
   ],
   "source": [
    "df_weather.head()"
   ]
  },
  {
   "cell_type": "code",
   "execution_count": 12,
   "metadata": {},
   "outputs": [
    {
     "data": {
      "text/plain": [
       "(2954, 19)"
      ]
     },
     "execution_count": 12,
     "metadata": {},
     "output_type": "execute_result"
    }
   ],
   "source": [
    "df_weather.shape"
   ]
  },
  {
   "attachments": {},
   "cell_type": "markdown",
   "metadata": {},
   "source": [
    "### Handling missing values"
   ]
  },
  {
   "cell_type": "code",
   "execution_count": 13,
   "metadata": {},
   "outputs": [
    {
     "data": {
      "text/plain": [
       "DATE                               0\n",
       "temperature_2m_max (°C)            0\n",
       "temperature_2m_min (°C)            0\n",
       "temperature_2m_mean (°C)           0\n",
       "apparent_temperature_max (°C)      0\n",
       "apparent_temperature_min (°C)      0\n",
       "apparent_temperature_mean (°C)     0\n",
       "shortwave_radiation_sum (MJ/m²)    0\n",
       "precipitation_sum (mm)             0\n",
       "rain_sum (mm)                      0\n",
       "snowfall_sum (cm)                  0\n",
       "precipitation_hours (h)            0\n",
       "windspeed_10m_max (km/h)           0\n",
       "windgusts_10m_max (km/h)           0\n",
       "winddirection_10m_dominant (°)     0\n",
       "et0_fao_evapotranspiration (mm)    0\n",
       "DAY                                0\n",
       "MONTH                              0\n",
       "YEAR                               0\n",
       "dtype: int64"
      ]
     },
     "execution_count": 13,
     "metadata": {},
     "output_type": "execute_result"
    }
   ],
   "source": [
    "df_weather.isna().sum()"
   ]
  },
  {
   "attachments": {},
   "cell_type": "markdown",
   "metadata": {},
   "source": [
    "### Remove unecessary columns"
   ]
  },
  {
   "cell_type": "code",
   "execution_count": 14,
   "metadata": {},
   "outputs": [],
   "source": [
    "df_weather = df_weather.drop(['precipitation_hours (h)',\n",
    "                            'apparent_temperature_max (°C)',\n",
    "                            'apparent_temperature_min (°C)',\n",
    "                            'apparent_temperature_mean (°C)'], axis=1)"
   ]
  },
  {
   "cell_type": "code",
   "execution_count": 15,
   "metadata": {},
   "outputs": [],
   "source": [
    "df_weather = df_weather[df_weather['MONTH'] != '2023-02']"
   ]
  },
  {
   "cell_type": "code",
   "execution_count": 16,
   "metadata": {},
   "outputs": [
    {
     "name": "stdout",
     "output_type": "stream",
     "text": [
      "<class 'pandas.core.frame.DataFrame'>\n",
      "Int64Index: 2953 entries, 0 to 2952\n",
      "Data columns (total 15 columns):\n",
      " #   Column                           Non-Null Count  Dtype         \n",
      "---  ------                           --------------  -----         \n",
      " 0   DATE                             2953 non-null   datetime64[ns]\n",
      " 1   temperature_2m_max (°C)          2953 non-null   float64       \n",
      " 2   temperature_2m_min (°C)          2953 non-null   float64       \n",
      " 3   temperature_2m_mean (°C)         2953 non-null   float64       \n",
      " 4   shortwave_radiation_sum (MJ/m²)  2953 non-null   float64       \n",
      " 5   precipitation_sum (mm)           2953 non-null   float64       \n",
      " 6   rain_sum (mm)                    2953 non-null   float64       \n",
      " 7   snowfall_sum (cm)                2953 non-null   float64       \n",
      " 8   windspeed_10m_max (km/h)         2953 non-null   float64       \n",
      " 9   windgusts_10m_max (km/h)         2953 non-null   float64       \n",
      " 10  winddirection_10m_dominant (°)   2953 non-null   int64         \n",
      " 11  et0_fao_evapotranspiration (mm)  2953 non-null   float64       \n",
      " 12  DAY                              2953 non-null   object        \n",
      " 13  MONTH                            2953 non-null   object        \n",
      " 14  YEAR                             2953 non-null   object        \n",
      "dtypes: datetime64[ns](1), float64(10), int64(1), object(3)\n",
      "memory usage: 369.1+ KB\n"
     ]
    }
   ],
   "source": [
    "df_weather.info()"
   ]
  },
  {
   "attachments": {},
   "cell_type": "markdown",
   "metadata": {},
   "source": [
    "# Output file"
   ]
  },
  {
   "cell_type": "code",
   "execution_count": 17,
   "metadata": {},
   "outputs": [],
   "source": [
    "df_weather.to_csv(\n",
    "    'Data/Processed_Datasets/Cleaned_datasets/df_weather.csv')"
   ]
  }
 ],
 "metadata": {
  "kernelspec": {
   "display_name": "Python 3",
   "language": "python",
   "name": "python3"
  },
  "language_info": {
   "codemirror_mode": {
    "name": "ipython",
    "version": 3
   },
   "file_extension": ".py",
   "mimetype": "text/x-python",
   "name": "python",
   "nbconvert_exporter": "python",
   "pygments_lexer": "ipython3",
   "version": "3.8.5"
  },
  "orig_nbformat": 4,
  "vscode": {
   "interpreter": {
    "hash": "ad2bdc8ecc057115af97d19610ffacc2b4e99fae6737bb82f5d7fb13d2f2c186"
   }
  }
 },
 "nbformat": 4,
 "nbformat_minor": 2
}
