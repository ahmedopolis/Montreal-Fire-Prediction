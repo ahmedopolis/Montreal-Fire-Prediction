{
 "cells": [
  {
   "cell_type": "code",
   "execution_count": 55,
   "metadata": {},
   "outputs": [],
   "source": [
    "import geopandas as gpd\n",
    "import pandas as pd"
   ]
  },
  {
   "cell_type": "code",
   "execution_count": 56,
   "metadata": {},
   "outputs": [],
   "source": [
    "df_population = pd.read_csv(\n",
    "    'Data/Population/census_proportionate_v5.csv', encoding='ISO-8859-1')"
   ]
  },
  {
   "cell_type": "code",
   "execution_count": 57,
   "metadata": {},
   "outputs": [
    {
     "data": {
      "text/plain": [
       "Index(['CODEMAMROT', 'NOM', 'YEAR', 'POPULATION'], dtype='object')"
      ]
     },
     "execution_count": 57,
     "metadata": {},
     "output_type": "execute_result"
    }
   ],
   "source": [
    "df_population.columns"
   ]
  },
  {
   "cell_type": "code",
   "execution_count": 58,
   "metadata": {},
   "outputs": [],
   "source": [
    "gdf_boroughs = gpd.read_file('Data/Boroughs/LIMADMIN.shp')\n"
   ]
  },
  {
   "cell_type": "code",
   "execution_count": 59,
   "metadata": {},
   "outputs": [
    {
     "data": {
      "text/plain": [
       "Index(['MUNID', 'CODEID', 'CODEMAMROT', 'NOM', 'TYPE', 'ABREV', 'NUM', 'AIRE',\n",
       "       'PERIM', 'geometry'],\n",
       "      dtype='object')"
      ]
     },
     "execution_count": 59,
     "metadata": {},
     "output_type": "execute_result"
    }
   ],
   "source": [
    "gdf_boroughs.columns"
   ]
  },
  {
   "attachments": {},
   "cell_type": "markdown",
   "metadata": {},
   "source": [
    "### Population total per borough or affiliated city and year"
   ]
  },
  {
   "cell_type": "code",
   "execution_count": 60,
   "metadata": {},
   "outputs": [
    {
     "data": {
      "text/html": [
       "<div>\n",
       "<style scoped>\n",
       "    .dataframe tbody tr th:only-of-type {\n",
       "        vertical-align: middle;\n",
       "    }\n",
       "\n",
       "    .dataframe tbody tr th {\n",
       "        vertical-align: top;\n",
       "    }\n",
       "\n",
       "    .dataframe thead th {\n",
       "        text-align: right;\n",
       "    }\n",
       "</style>\n",
       "<table border=\"1\" class=\"dataframe\">\n",
       "  <thead>\n",
       "    <tr style=\"text-align: right;\">\n",
       "      <th></th>\n",
       "      <th>CODEMAMROT</th>\n",
       "      <th>NOM</th>\n",
       "      <th>YEAR</th>\n",
       "      <th>POPULATION</th>\n",
       "    </tr>\n",
       "  </thead>\n",
       "  <tbody>\n",
       "    <tr>\n",
       "      <th>0</th>\n",
       "      <td>REM23</td>\n",
       "      <td>Ahuntsic-Cartierville</td>\n",
       "      <td>2011</td>\n",
       "      <td>126891.0</td>\n",
       "    </tr>\n",
       "    <tr>\n",
       "      <th>1</th>\n",
       "      <td>REM09</td>\n",
       "      <td>Anjou</td>\n",
       "      <td>2011</td>\n",
       "      <td>41928.0</td>\n",
       "    </tr>\n",
       "    <tr>\n",
       "      <th>2</th>\n",
       "      <td>REM34</td>\n",
       "      <td>CÃ´te-des-Neiges-Notre-Dame-de-GrÃ¢ce</td>\n",
       "      <td>2011</td>\n",
       "      <td>165031.0</td>\n",
       "    </tr>\n",
       "    <tr>\n",
       "      <th>3</th>\n",
       "      <td>REM27</td>\n",
       "      <td>Lachine</td>\n",
       "      <td>2011</td>\n",
       "      <td>41616.0</td>\n",
       "    </tr>\n",
       "    <tr>\n",
       "      <th>4</th>\n",
       "      <td>REM17</td>\n",
       "      <td>LaSalle</td>\n",
       "      <td>2011</td>\n",
       "      <td>74276.0</td>\n",
       "    </tr>\n",
       "  </tbody>\n",
       "</table>\n",
       "</div>"
      ],
      "text/plain": [
       "  CODEMAMROT                                    NOM  YEAR  POPULATION\n",
       "0      REM23                  Ahuntsic-Cartierville  2011    126891.0\n",
       "1      REM09                                  Anjou  2011     41928.0\n",
       "2      REM34  CÃ´te-des-Neiges-Notre-Dame-de-GrÃ¢ce  2011    165031.0\n",
       "3      REM27                                Lachine  2011     41616.0\n",
       "4      REM17                                LaSalle  2011     74276.0"
      ]
     },
     "execution_count": 60,
     "metadata": {},
     "output_type": "execute_result"
    }
   ],
   "source": [
    "df_population.head()"
   ]
  },
  {
   "cell_type": "code",
   "execution_count": 61,
   "metadata": {},
   "outputs": [],
   "source": [
    "df_population = df_population.rename(\n",
    "    columns={'CODEMARMOT': 'CODEMAMROT'})"
   ]
  },
  {
   "cell_type": "code",
   "execution_count": 62,
   "metadata": {},
   "outputs": [
    {
     "name": "stdout",
     "output_type": "stream",
     "text": [
      "                       NOM CODEMAMROT  YEAR  POPULATION_SUM\n",
      "0    Ahuntsic-Cartierville      REM23  2011        126891.0\n",
      "1    Ahuntsic-Cartierville      REM23  2012        128361.8\n",
      "2    Ahuntsic-Cartierville      REM23  2013        129832.6\n",
      "3    Ahuntsic-Cartierville      REM23  2014        131303.4\n",
      "4    Ahuntsic-Cartierville      REM23  2015        132774.2\n",
      "..                     ...        ...   ...             ...\n",
      "437              Westmount      66032  2019         19919.6\n",
      "438              Westmount      66032  2020         19788.8\n",
      "439              Westmount      66032  2021         19658.0\n",
      "440              Westmount      66032  2022         19527.2\n",
      "441              Westmount      66032  2023         19396.4\n",
      "\n",
      "[442 rows x 4 columns]\n"
     ]
    }
   ],
   "source": [
    "df_grouped_population = df_population.groupby(['NOM', 'CODEMAMROT', 'YEAR'])[\n",
    "    'POPULATION'].sum().rename('POPULATION_SUM').reset_index()\n",
    "print(df_grouped_population)"
   ]
  },
  {
   "cell_type": "code",
   "execution_count": 63,
   "metadata": {},
   "outputs": [
    {
     "data": {
      "text/plain": [
       "Index(['NOM', 'CODEMAMROT', 'YEAR', 'POPULATION_SUM'], dtype='object')"
      ]
     },
     "execution_count": 63,
     "metadata": {},
     "output_type": "execute_result"
    }
   ],
   "source": [
    "df_grouped_population = df_grouped_population.rename(\n",
    "    columns={'borough': 'NOM', 'year': 'YEAR'})\n",
    "df_grouped_population.columns"
   ]
  },
  {
   "attachments": {},
   "cell_type": "markdown",
   "metadata": {},
   "source": [
    "### Population density per borough or affiliated city and year"
   ]
  },
  {
   "cell_type": "code",
   "execution_count": 64,
   "metadata": {},
   "outputs": [],
   "source": [
    "df_grouped_population = df_grouped_population.merge(gdf_boroughs,\n",
    "                                                    on='CODEMAMROT',\n",
    "                                                    how='left')"
   ]
  },
  {
   "cell_type": "code",
   "execution_count": 65,
   "metadata": {},
   "outputs": [
    {
     "data": {
      "text/html": [
       "<div>\n",
       "<style scoped>\n",
       "    .dataframe tbody tr th:only-of-type {\n",
       "        vertical-align: middle;\n",
       "    }\n",
       "\n",
       "    .dataframe tbody tr th {\n",
       "        vertical-align: top;\n",
       "    }\n",
       "\n",
       "    .dataframe thead th {\n",
       "        text-align: right;\n",
       "    }\n",
       "</style>\n",
       "<table border=\"1\" class=\"dataframe\">\n",
       "  <thead>\n",
       "    <tr style=\"text-align: right;\">\n",
       "      <th></th>\n",
       "      <th>NOM_x</th>\n",
       "      <th>CODEMAMROT</th>\n",
       "      <th>YEAR</th>\n",
       "      <th>POPULATION_SUM</th>\n",
       "      <th>MUNID</th>\n",
       "      <th>CODEID</th>\n",
       "      <th>NOM_y</th>\n",
       "      <th>TYPE</th>\n",
       "      <th>ABREV</th>\n",
       "      <th>NUM</th>\n",
       "      <th>AIRE</th>\n",
       "      <th>PERIM</th>\n",
       "      <th>geometry</th>\n",
       "    </tr>\n",
       "  </thead>\n",
       "  <tbody>\n",
       "    <tr>\n",
       "      <th>0</th>\n",
       "      <td>Ahuntsic-Cartierville</td>\n",
       "      <td>REM23</td>\n",
       "      <td>2011</td>\n",
       "      <td>126891.0</td>\n",
       "      <td>66023</td>\n",
       "      <td>4</td>\n",
       "      <td>Ahuntsic-Cartierville</td>\n",
       "      <td>Arrondissement</td>\n",
       "      <td>AC</td>\n",
       "      <td>24</td>\n",
       "      <td>2.557119e+07</td>\n",
       "      <td>37790.097</td>\n",
       "      <td>POLYGON ((-73.76363 45.51193, -73.76354 45.511...</td>\n",
       "    </tr>\n",
       "    <tr>\n",
       "      <th>1</th>\n",
       "      <td>Ahuntsic-Cartierville</td>\n",
       "      <td>REM23</td>\n",
       "      <td>2012</td>\n",
       "      <td>128361.8</td>\n",
       "      <td>66023</td>\n",
       "      <td>4</td>\n",
       "      <td>Ahuntsic-Cartierville</td>\n",
       "      <td>Arrondissement</td>\n",
       "      <td>AC</td>\n",
       "      <td>24</td>\n",
       "      <td>2.557119e+07</td>\n",
       "      <td>37790.097</td>\n",
       "      <td>POLYGON ((-73.76363 45.51193, -73.76354 45.511...</td>\n",
       "    </tr>\n",
       "    <tr>\n",
       "      <th>2</th>\n",
       "      <td>Ahuntsic-Cartierville</td>\n",
       "      <td>REM23</td>\n",
       "      <td>2013</td>\n",
       "      <td>129832.6</td>\n",
       "      <td>66023</td>\n",
       "      <td>4</td>\n",
       "      <td>Ahuntsic-Cartierville</td>\n",
       "      <td>Arrondissement</td>\n",
       "      <td>AC</td>\n",
       "      <td>24</td>\n",
       "      <td>2.557119e+07</td>\n",
       "      <td>37790.097</td>\n",
       "      <td>POLYGON ((-73.76363 45.51193, -73.76354 45.511...</td>\n",
       "    </tr>\n",
       "    <tr>\n",
       "      <th>3</th>\n",
       "      <td>Ahuntsic-Cartierville</td>\n",
       "      <td>REM23</td>\n",
       "      <td>2014</td>\n",
       "      <td>131303.4</td>\n",
       "      <td>66023</td>\n",
       "      <td>4</td>\n",
       "      <td>Ahuntsic-Cartierville</td>\n",
       "      <td>Arrondissement</td>\n",
       "      <td>AC</td>\n",
       "      <td>24</td>\n",
       "      <td>2.557119e+07</td>\n",
       "      <td>37790.097</td>\n",
       "      <td>POLYGON ((-73.76363 45.51193, -73.76354 45.511...</td>\n",
       "    </tr>\n",
       "    <tr>\n",
       "      <th>4</th>\n",
       "      <td>Ahuntsic-Cartierville</td>\n",
       "      <td>REM23</td>\n",
       "      <td>2015</td>\n",
       "      <td>132774.2</td>\n",
       "      <td>66023</td>\n",
       "      <td>4</td>\n",
       "      <td>Ahuntsic-Cartierville</td>\n",
       "      <td>Arrondissement</td>\n",
       "      <td>AC</td>\n",
       "      <td>24</td>\n",
       "      <td>2.557119e+07</td>\n",
       "      <td>37790.097</td>\n",
       "      <td>POLYGON ((-73.76363 45.51193, -73.76354 45.511...</td>\n",
       "    </tr>\n",
       "  </tbody>\n",
       "</table>\n",
       "</div>"
      ],
      "text/plain": [
       "                   NOM_x CODEMAMROT  YEAR  POPULATION_SUM  MUNID CODEID  \\\n",
       "0  Ahuntsic-Cartierville      REM23  2011        126891.0  66023      4   \n",
       "1  Ahuntsic-Cartierville      REM23  2012        128361.8  66023      4   \n",
       "2  Ahuntsic-Cartierville      REM23  2013        129832.6  66023      4   \n",
       "3  Ahuntsic-Cartierville      REM23  2014        131303.4  66023      4   \n",
       "4  Ahuntsic-Cartierville      REM23  2015        132774.2  66023      4   \n",
       "\n",
       "                   NOM_y            TYPE ABREV  NUM          AIRE      PERIM  \\\n",
       "0  Ahuntsic-Cartierville  Arrondissement    AC   24  2.557119e+07  37790.097   \n",
       "1  Ahuntsic-Cartierville  Arrondissement    AC   24  2.557119e+07  37790.097   \n",
       "2  Ahuntsic-Cartierville  Arrondissement    AC   24  2.557119e+07  37790.097   \n",
       "3  Ahuntsic-Cartierville  Arrondissement    AC   24  2.557119e+07  37790.097   \n",
       "4  Ahuntsic-Cartierville  Arrondissement    AC   24  2.557119e+07  37790.097   \n",
       "\n",
       "                                            geometry  \n",
       "0  POLYGON ((-73.76363 45.51193, -73.76354 45.511...  \n",
       "1  POLYGON ((-73.76363 45.51193, -73.76354 45.511...  \n",
       "2  POLYGON ((-73.76363 45.51193, -73.76354 45.511...  \n",
       "3  POLYGON ((-73.76363 45.51193, -73.76354 45.511...  \n",
       "4  POLYGON ((-73.76363 45.51193, -73.76354 45.511...  "
      ]
     },
     "execution_count": 65,
     "metadata": {},
     "output_type": "execute_result"
    }
   ],
   "source": [
    "df_grouped_population.head()"
   ]
  },
  {
   "cell_type": "code",
   "execution_count": 66,
   "metadata": {},
   "outputs": [
    {
     "data": {
      "text/plain": [
       "(442, 13)"
      ]
     },
     "execution_count": 66,
     "metadata": {},
     "output_type": "execute_result"
    }
   ],
   "source": [
    "df_grouped_population.shape"
   ]
  },
  {
   "cell_type": "code",
   "execution_count": 67,
   "metadata": {},
   "outputs": [],
   "source": [
    "df_grouped_population['POPULATION_DENSITY'] = df_grouped_population['POPULATION_SUM'] / \\\n",
    "    df_grouped_population['AIRE']"
   ]
  },
  {
   "cell_type": "code",
   "execution_count": 68,
   "metadata": {},
   "outputs": [
    {
     "data": {
      "text/plain": [
       "Index(['NOM_x', 'CODEMAMROT', 'YEAR', 'POPULATION_SUM', 'MUNID', 'CODEID',\n",
       "       'NOM_y', 'TYPE', 'ABREV', 'NUM', 'AIRE', 'PERIM', 'geometry',\n",
       "       'POPULATION_DENSITY'],\n",
       "      dtype='object')"
      ]
     },
     "execution_count": 68,
     "metadata": {},
     "output_type": "execute_result"
    }
   ],
   "source": [
    "df_grouped_population.columns"
   ]
  },
  {
   "cell_type": "code",
   "execution_count": 69,
   "metadata": {},
   "outputs": [],
   "source": [
    "df_grouped_population = df_grouped_population[['CODEMAMROT',\n",
    "                                               'YEAR',\n",
    "                                               'POPULATION_SUM',\n",
    "                                               'AIRE',\n",
    "                                               'POPULATION_DENSITY']]"
   ]
  },
  {
   "cell_type": "code",
   "execution_count": 70,
   "metadata": {},
   "outputs": [
    {
     "data": {
      "text/html": [
       "<div>\n",
       "<style scoped>\n",
       "    .dataframe tbody tr th:only-of-type {\n",
       "        vertical-align: middle;\n",
       "    }\n",
       "\n",
       "    .dataframe tbody tr th {\n",
       "        vertical-align: top;\n",
       "    }\n",
       "\n",
       "    .dataframe thead th {\n",
       "        text-align: right;\n",
       "    }\n",
       "</style>\n",
       "<table border=\"1\" class=\"dataframe\">\n",
       "  <thead>\n",
       "    <tr style=\"text-align: right;\">\n",
       "      <th></th>\n",
       "      <th>CODEMAMROT</th>\n",
       "      <th>YEAR</th>\n",
       "      <th>POPULATION_SUM</th>\n",
       "      <th>AIRE</th>\n",
       "      <th>POPULATION_DENSITY</th>\n",
       "    </tr>\n",
       "  </thead>\n",
       "  <tbody>\n",
       "    <tr>\n",
       "      <th>count</th>\n",
       "      <td>442</td>\n",
       "      <td>442.000000</td>\n",
       "      <td>442.000000</td>\n",
       "      <td>4.420000e+02</td>\n",
       "      <td>442.000000</td>\n",
       "    </tr>\n",
       "    <tr>\n",
       "      <th>unique</th>\n",
       "      <td>34</td>\n",
       "      <td>NaN</td>\n",
       "      <td>NaN</td>\n",
       "      <td>NaN</td>\n",
       "      <td>NaN</td>\n",
       "    </tr>\n",
       "    <tr>\n",
       "      <th>top</th>\n",
       "      <td>REM23</td>\n",
       "      <td>NaN</td>\n",
       "      <td>NaN</td>\n",
       "      <td>NaN</td>\n",
       "      <td>NaN</td>\n",
       "    </tr>\n",
       "    <tr>\n",
       "      <th>freq</th>\n",
       "      <td>13</td>\n",
       "      <td>NaN</td>\n",
       "      <td>NaN</td>\n",
       "      <td>NaN</td>\n",
       "      <td>NaN</td>\n",
       "    </tr>\n",
       "    <tr>\n",
       "      <th>mean</th>\n",
       "      <td>NaN</td>\n",
       "      <td>2017.000000</td>\n",
       "      <td>57530.137104</td>\n",
       "      <td>1.817797e+07</td>\n",
       "      <td>0.003633</td>\n",
       "    </tr>\n",
       "    <tr>\n",
       "      <th>std</th>\n",
       "      <td>NaN</td>\n",
       "      <td>3.745897</td>\n",
       "      <td>48707.383334</td>\n",
       "      <td>1.194109e+07</td>\n",
       "      <td>0.002921</td>\n",
       "    </tr>\n",
       "    <tr>\n",
       "      <th>min</th>\n",
       "      <td>NaN</td>\n",
       "      <td>2011.000000</td>\n",
       "      <td>5.000000</td>\n",
       "      <td>1.805089e+05</td>\n",
       "      <td>0.000028</td>\n",
       "    </tr>\n",
       "    <tr>\n",
       "      <th>25%</th>\n",
       "      <td>NaN</td>\n",
       "      <td>2014.000000</td>\n",
       "      <td>19082.550000</td>\n",
       "      <td>8.151665e+06</td>\n",
       "      <td>0.000926</td>\n",
       "    </tr>\n",
       "    <tr>\n",
       "      <th>50%</th>\n",
       "      <td>NaN</td>\n",
       "      <td>2017.000000</td>\n",
       "      <td>43198.300000</td>\n",
       "      <td>1.618194e+07</td>\n",
       "      <td>0.003122</td>\n",
       "    </tr>\n",
       "    <tr>\n",
       "      <th>75%</th>\n",
       "      <td>NaN</td>\n",
       "      <td>2020.000000</td>\n",
       "      <td>91785.050000</td>\n",
       "      <td>2.519727e+07</td>\n",
       "      <td>0.005062</td>\n",
       "    </tr>\n",
       "    <tr>\n",
       "      <th>max</th>\n",
       "      <td>NaN</td>\n",
       "      <td>2023.000000</td>\n",
       "      <td>172208.200000</td>\n",
       "      <td>5.004700e+07</td>\n",
       "      <td>0.013070</td>\n",
       "    </tr>\n",
       "  </tbody>\n",
       "</table>\n",
       "</div>"
      ],
      "text/plain": [
       "       CODEMAMROT         YEAR  POPULATION_SUM          AIRE  \\\n",
       "count         442   442.000000      442.000000  4.420000e+02   \n",
       "unique         34          NaN             NaN           NaN   \n",
       "top         REM23          NaN             NaN           NaN   \n",
       "freq           13          NaN             NaN           NaN   \n",
       "mean          NaN  2017.000000    57530.137104  1.817797e+07   \n",
       "std           NaN     3.745897    48707.383334  1.194109e+07   \n",
       "min           NaN  2011.000000        5.000000  1.805089e+05   \n",
       "25%           NaN  2014.000000    19082.550000  8.151665e+06   \n",
       "50%           NaN  2017.000000    43198.300000  1.618194e+07   \n",
       "75%           NaN  2020.000000    91785.050000  2.519727e+07   \n",
       "max           NaN  2023.000000   172208.200000  5.004700e+07   \n",
       "\n",
       "        POPULATION_DENSITY  \n",
       "count           442.000000  \n",
       "unique                 NaN  \n",
       "top                    NaN  \n",
       "freq                   NaN  \n",
       "mean              0.003633  \n",
       "std               0.002921  \n",
       "min               0.000028  \n",
       "25%               0.000926  \n",
       "50%               0.003122  \n",
       "75%               0.005062  \n",
       "max               0.013070  "
      ]
     },
     "execution_count": 70,
     "metadata": {},
     "output_type": "execute_result"
    }
   ],
   "source": [
    "df_grouped_population.describe(include='all')"
   ]
  },
  {
   "cell_type": "code",
   "execution_count": 71,
   "metadata": {},
   "outputs": [],
   "source": [
    "df_grouped_population['YEAR'] = df_grouped_population['YEAR'].astype('object')"
   ]
  },
  {
   "cell_type": "code",
   "execution_count": 72,
   "metadata": {},
   "outputs": [
    {
     "data": {
      "text/plain": [
       "CODEMAMROT             object\n",
       "YEAR                   object\n",
       "POPULATION_SUM        float64\n",
       "AIRE                  float64\n",
       "POPULATION_DENSITY    float64\n",
       "dtype: object"
      ]
     },
     "execution_count": 72,
     "metadata": {},
     "output_type": "execute_result"
    }
   ],
   "source": [
    "df_grouped_population.dtypes"
   ]
  },
  {
   "attachments": {},
   "cell_type": "markdown",
   "metadata": {},
   "source": [
    "# Output file"
   ]
  },
  {
   "cell_type": "code",
   "execution_count": 74,
   "metadata": {},
   "outputs": [],
   "source": [
    "df_grouped_population.to_csv(\n",
    "    'Data/Processed_Datasets/Combined_tables/df_fe_population.csv')"
   ]
  }
 ],
 "metadata": {
  "kernelspec": {
   "display_name": "Python 3",
   "language": "python",
   "name": "python3"
  },
  "language_info": {
   "name": "python",
   "version": "3.8.5"
  },
  "orig_nbformat": 4
 },
 "nbformat": 4,
 "nbformat_minor": 2
}
