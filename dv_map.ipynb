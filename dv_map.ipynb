{
 "cells": [
  {
   "cell_type": "code",
   "execution_count": 1,
   "metadata": {},
   "outputs": [
    {
     "name": "stderr",
     "output_type": "stream",
     "text": [
      "C:\\Users\\ajimp\\AppData\\Roaming\\Python\\Python38\\site-packages\\geopandas\\_compat.py:123: UserWarning: The Shapely GEOS version (3.11.1-CAPI-1.17.1) is incompatible with the GEOS version PyGEOS was compiled with (3.10.4-CAPI-1.16.2). Conversions between both will be slow.\n",
      "  warnings.warn(\n",
      "<ipython-input-1-b54ed064774a>:2: UserWarning: Shapely 2.0 is installed, but because PyGEOS is also installed, GeoPandas will still use PyGEOS by default for now. To force to use and test Shapely 2.0, you have to set the environment variable USE_PYGEOS=0. You can do this before starting the Python process, or in your code before importing geopandas:\n",
      "\n",
      "import os\n",
      "os.environ['USE_PYGEOS'] = '0'\n",
      "import geopandas\n",
      "\n",
      "In a future release, GeoPandas will switch to using Shapely by default. If you are using PyGEOS directly (calling PyGEOS functions on geometries from GeoPandas), this will then stop working and you are encouraged to migrate from PyGEOS to Shapely 2.0 (https://shapely.readthedocs.io/en/latest/migration_pygeos.html).\n",
      "  import geopandas as gpd\n"
     ]
    }
   ],
   "source": [
    "import pandas as pd\n",
    "import geopandas as gpd"
   ]
  },
  {
   "cell_type": "code",
   "execution_count": 2,
   "metadata": {},
   "outputs": [],
   "source": [
    "# Get grid shapefile\n",
    "gdf = gpd.read_file('Data/Generated_grids/square_grids1000.shp')"
   ]
  },
  {
   "cell_type": "code",
   "execution_count": 3,
   "metadata": {},
   "outputs": [
    {
     "data": {
      "text/plain": [
       "Index(['grid_id', 'area', 'centroid', 'index_righ', 'CODEMAMROT', 'NOM',\n",
       "       'TYPE', 'ABREV', 'int_area', 'geometry'],\n",
       "      dtype='object')"
      ]
     },
     "execution_count": 3,
     "metadata": {},
     "output_type": "execute_result"
    }
   ],
   "source": [
    "gdf.columns"
   ]
  },
  {
   "cell_type": "code",
   "execution_count": 4,
   "metadata": {},
   "outputs": [],
   "source": [
    "# Get dataframe\n",
    "df = pd.read_csv(\n",
    "    'Data/Processed_Datasets/Combined_tables/df_fe_combined.csv', index_col=0)"
   ]
  },
  {
   "cell_type": "code",
   "execution_count": null,
   "metadata": {},
   "outputs": [],
   "source": []
  },
  {
   "cell_type": "code",
   "execution_count": 5,
   "metadata": {},
   "outputs": [],
   "source": [
    "merged_df = gdf.merge(df, left_on='grid_id', right_on='1000_GRID_ID')"
   ]
  },
  {
   "cell_type": "code",
   "execution_count": 6,
   "metadata": {},
   "outputs": [
    {
     "data": {
      "text/plain": [
       "Index(['grid_id', 'area', 'centroid', 'index_righ', 'CODEMAMROT_x', 'NOM',\n",
       "       'TYPE', 'ABREV', 'int_area', 'geometry', '1000_GRID_ID', 'MONTH',\n",
       "       'CODEMAMROT_y', 'CRIME_COUNT',\n",
       "       'Infractions entrainant la mort_CRIME_COUNT',\n",
       "       'Introduction_CRIME_COUNT', 'Méfait_CRIME_COUNT',\n",
       "       'Vol dans / sur véhicule à moteur_CRIME_COUNT',\n",
       "       'Vol de véhicule à moteur_CRIME_COUNT', 'Vols qualifiés_CRIME_COUNT',\n",
       "       'INCIDENT_COUNT', '1-REPOND_INCIDENT_COUNT', 'AUTREFEU_INCIDENT_COUNT',\n",
       "       'Alarmes-incendies_INCIDENT_COUNT', 'FAU-ALER_INCIDENT_COUNT',\n",
       "       'INCENDIE_INCIDENT_COUNT', 'NOUVEAU_INCIDENT_COUNT',\n",
       "       'SANS FEU_INCIDENT_COUNT', 'FIRE_INCIDENT_COUNT',\n",
       "       'UNIQUE_FIRE_STATION_COUNT', 'UNIQUE_DIVISION_COUNT',\n",
       "       'UNITS_DEPLOYED_SUM', 'UNITS_DEPLOYED_MEAN',\n",
       "       'temperature_2m_max (°C)_MEAN', 'temperature_2m_min (°C)_MEAN',\n",
       "       'temperature_2m_mean (°C)_MEAN', 'shortwave_radiation_sum (MJ/m²)_MEAN',\n",
       "       'precipitation_sum (mm)_MEAN', 'rain_sum (mm)_MEAN',\n",
       "       'snowfall_sum (cm)_MEAN', 'windspeed_10m_max (km/h)_MEAN',\n",
       "       'windgusts_10m_max (km/h)_MEAN', 'winddirection_10m_dominant (°)_MEAN',\n",
       "       'et0_fao_evapotranspiration (mm)_MEAN', 'PROPERTY_ASSESSMENT_COUNT',\n",
       "       'Condominium_PROPERTY_ASSESSMENT_COUNT',\n",
       "       'Régulier_PROPERTY_ASSESSMENT_COUNT', 'HEIGHT_ABOVE_GROUND_MEAN',\n",
       "       'DWELLING_MEAN', 'CONSTRUCTION_YEAR_MEAN', 'LAND_AREA_MEAN',\n",
       "       'BUILDING_AREA_MEAN', 'YEAR', 'POPULATION_SUM', 'AIRE',\n",
       "       'POPULATION_DENSITY', 'CRIME_COUNT_4_MONTH_BACKWARD_SHIFT',\n",
       "       'Infractions entrainant la mort_CRIME_COUNT_4_MONTH_BACKWARD_SHIFT',\n",
       "       'Introduction_CRIME_COUNT_4_MONTH_BACKWARD_SHIFT',\n",
       "       'Méfait_CRIME_COUNT_4_MONTH_BACKWARD_SHIFT',\n",
       "       'Vol dans / sur véhicule à moteur_CRIME_COUNT_4_MONTH_BACKWARD_SHIFT',\n",
       "       'Vol de véhicule à moteur_CRIME_COUNT_4_MONTH_BACKWARD_SHIFT',\n",
       "       'Vols qualifiés_CRIME_COUNT_4_MONTH_BACKWARD_SHIFT',\n",
       "       'INCIDENT_COUNT_4_MONTH_BACKWARD_SHIFT',\n",
       "       '1-REPOND_INCIDENT_COUNT_4_MONTH_BACKWARD_SHIFT',\n",
       "       'AUTREFEU_INCIDENT_COUNT_4_MONTH_BACKWARD_SHIFT',\n",
       "       'Alarmes-incendies_INCIDENT_COUNT_4_MONTH_BACKWARD_SHIFT',\n",
       "       'FAU-ALER_INCIDENT_COUNT_4_MONTH_BACKWARD_SHIFT',\n",
       "       'INCENDIE_INCIDENT_COUNT_4_MONTH_BACKWARD_SHIFT',\n",
       "       'NOUVEAU_INCIDENT_COUNT_4_MONTH_BACKWARD_SHIFT',\n",
       "       'SANS FEU_INCIDENT_COUNT_4_MONTH_BACKWARD_SHIFT',\n",
       "       'FIRE_INCIDENT_COUNT_4_MONTH_BACKWARD_SHIFT',\n",
       "       'UNIQUE_FIRE_STATION_COUNT_4_MONTH_BACKWARD_SHIFT',\n",
       "       'UNIQUE_DIVISION_COUNT_4_MONTH_BACKWARD_SHIFT',\n",
       "       'UNITS_DEPLOYED_SUM_4_MONTH_BACKWARD_SHIFT',\n",
       "       'UNITS_DEPLOYED_MEAN_4_MONTH_BACKWARD_SHIFT',\n",
       "       'FIRE_INCIDENT_QUATERLY_MEAN', 'FIRE_INCIDENT_QUATERLY_TOTAL',\n",
       "       'FIRE_INCIDENT_QUATERLY_MAX', 'CRIME_COUNT_QUATERLY_TOTAL',\n",
       "       'INCIDENT_COUNT_QUATERLY_TOTAL', 'UNITS_DEPLOYED_QUATERLY_TOTAL',\n",
       "       'TEMPERATURE_QUATERLY_MEAN', 'RAIN_QUATERLY_TOTAL',\n",
       "       'SNOW_QUATERLY_TOTAL', 'WINDSPEED_QUATERLY_MEAN',\n",
       "       'WINDGUSTS_QUATERLY_MEAN', 'FIRE_RISK_MONTHLY_RANK',\n",
       "       'FIRE_RISK_QUATERLY_RANK', 'FIRE_COMBINED_RISK_RANK', 'FIRE_RISK',\n",
       "       'FIRE_RISK_1_MONTH_FORWARD_SHIFT'],\n",
       "      dtype='object')"
      ]
     },
     "execution_count": 6,
     "metadata": {},
     "output_type": "execute_result"
    }
   ],
   "source": [
    "merged_df.columns"
   ]
  },
  {
   "cell_type": "code",
   "execution_count": 7,
   "metadata": {},
   "outputs": [
    {
     "name": "stderr",
     "output_type": "stream",
     "text": [
      "<ipython-input-7-acbbe8ab94df>:1: UserWarning: Column names longer than 10 characters will be truncated when saved to ESRI Shapefile.\n",
      "  merged_df.to_file('Data/Maps/df_merged_02.shp',\n"
     ]
    }
   ],
   "source": [
    "merged_df.to_file('Data/Maps/df_merged_02.shp',\n",
    "                   driver='ESRI Shapefile', encoding='utf-8')"
   ]
  }
 ],
 "metadata": {
  "kernelspec": {
   "display_name": "Python 3",
   "language": "python",
   "name": "python3"
  },
  "language_info": {
   "codemirror_mode": {
    "name": "ipython",
    "version": 3
   },
   "file_extension": ".py",
   "mimetype": "text/x-python",
   "name": "python",
   "nbconvert_exporter": "python",
   "pygments_lexer": "ipython3",
   "version": "3.8.5"
  },
  "orig_nbformat": 4
 },
 "nbformat": 4,
 "nbformat_minor": 2
}
